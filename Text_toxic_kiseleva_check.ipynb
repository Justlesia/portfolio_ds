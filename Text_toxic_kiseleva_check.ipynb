{
 "cells": [
  {
   "cell_type": "markdown",
   "metadata": {},
   "source": [
    "Привет, меня зовут Артем Хуршудов. Сегодня я проверю твой проект.\n",
    "<br> Дальнейшее общение будет происходить на \"ты\" если это не вызывает никаких проблем.\n",
    "<br> Желательно реагировать на каждый мой комментарий ('исправил', 'не понятно как исправить ошибку', ...)\n",
    "<br> Пожалуйста, не удаляй комментарии ревьюера, так как они повышают качество повторного ревью.\n",
    "\n",
    "Комментарии будут в <font color='green'>зеленой</font>, <font color='blue'>синей</font> или <font color='red'>красной</font> рамках:\n",
    "\n",
    "<div class=\"alert alert-block alert-success\">\n",
    "<b>Успех:</b> Если все сделано отлично\n",
    "</div>\n",
    "\n",
    "<div class=\"alert alert-block alert-info\">\n",
    "<b>Совет: </b> Если можно немного улучшить\n",
    "</div>\n",
    "\n",
    "<div class=\"alert alert-block alert-danger\">\n",
    "<b>Ошибка:</b> Если требуются исправления. Работа не может быть принята с красными комментариями.\n",
    "</div>\n",
    "\n",
    "### <font color='orange'>Общее впечатление</font>\n",
    "* Большое спасибо за проделанную работу. Видно, что приложено много усилий.\n",
    "* Радует, что ноутбук хорошо структурирован. Приятно проверять такие работы.\n",
    "* Молодец, что не забыла про вывод. Он очень хорошо оформлен и наполнен хорошим содержанием.\n",
    "* Отлично, что ты исключил стоп-слова при векторизации!\n",
    "* Работа получилась очень хорошей, тебе удалось добиться достаточно хорошего качества. Поздравляю!\n",
    "* Проект зачтен, удачи в дальнейшем обучении!"
   ]
  },
  {
   "cell_type": "markdown",
   "metadata": {},
   "source": [
    "<br/><font size=\"6\"><b>Работа с текстом. Токсичные комментарии.</b></font>.<br/>"
   ]
  },
  {
   "cell_type": "markdown",
   "metadata": {},
   "source": [
    "<a name=\"1common.\"></a>\n",
    "## <a name=\"0.0\"></a>Содержание:\n",
    "* [0. Подгрузка библиотек и самописные функции](#0.)\n",
    "* [1. Подготовка данных](#1.)\n",
    "* [2. Обучение](#2.)\n",
    "* [3. Тестирование и Проверка модели на адекватность](#3.)\n",
    "* [Вывод](#5.)\n",
    "* [Приложение. А как же BERT?](#6.)"
   ]
  },
  {
   "cell_type": "markdown",
   "metadata": {},
   "source": [
    "# Описание проекта\n",
    "\n",
    "Интернет-магазин «Викишоп» запускает новый сервис. Теперь пользователи могут редактировать и дополнять описания товаров, как в вики-сообществах. То есть клиенты предлагают свои правки и комментируют изменения других. Магазину нужен инструмент, который будет искать токсичные комментарии и отправлять их на модерацию. \n",
    "\n",
    "Обучите модель классифицировать комментарии на позитивные и негативные. В вашем распоряжении набор данных с разметкой о токсичности правок.\n",
    "\n",
    "Постройте модель со значением метрики качества *F1* не меньше 0.75. \n",
    "\n",
    "## Инструкция по выполнению проекта\n",
    "\n",
    "1. Загрузите и подготовьте данные.\n",
    "2. Обучите разные модели. \n",
    "3. Сделайте выводы.\n",
    "\n",
    "Для выполнения проекта применять *BERT* необязательно, но вы можете попробовать.\n",
    "\n",
    "## Описание данных\n",
    "\n",
    "Данные находятся в файле `toxic_comments.csv`. Столбец *text* в нём содержит текст комментария, а *toxic* — целевой признак."
   ]
  },
  {
   "cell_type": "markdown",
   "metadata": {},
   "source": [
    "<a name=\"0.\"></a><br/>\n",
    "<font size=\"6\"><b>0. Подгрузка библиотек и самописные функции</b></font>.<br/>\n",
    "[<font size=\"2\">(к содержанию)</font>](#1common.)"
   ]
  },
  {
   "cell_type": "code",
   "execution_count": 1,
   "metadata": {},
   "outputs": [
    {
     "name": "stderr",
     "output_type": "stream",
     "text": [
      "[nltk_data] Downloading package wordnet to /Users/lesia/nltk_data...\n",
      "[nltk_data]   Package wordnet is already up-to-date!\n",
      "[nltk_data] Downloading package punkt to /Users/lesia/nltk_data...\n",
      "[nltk_data]   Package punkt is already up-to-date!\n",
      "[nltk_data] Downloading package averaged_perceptron_tagger to\n",
      "[nltk_data]     /Users/lesia/nltk_data...\n",
      "[nltk_data]   Package averaged_perceptron_tagger is already up-to-\n",
      "[nltk_data]       date!\n",
      "[nltk_data] Downloading package stopwords to /Users/lesia/nltk_data...\n",
      "[nltk_data]   Package stopwords is already up-to-date!\n"
     ]
    }
   ],
   "source": [
    "#!pip install xgboost\n",
    "#!pip install -U yellowbrick\n",
    "\n",
    "import nltk\n",
    "nltk.download('wordnet')\n",
    "import pandas as pd\n",
    "import numpy as np\n",
    "import matplotlib.pyplot as plt\n",
    "import joblib\n",
    "from termcolor import colored\n",
    "\n",
    "import warnings\n",
    "import time\n",
    "import scipy.stats as st\n",
    "import random\n",
    "import seaborn as sns\n",
    "import plotly.graph_objects as go\n",
    "import plotly.figure_factory as ff\n",
    "import plotly.express as px\n",
    "\n",
    "from plotly.subplots import make_subplots\n",
    "from sklearn.model_selection import GridSearchCV\n",
    "from sklearn.utils import shuffle\n",
    "from sklearn.model_selection import train_test_split\n",
    "from sklearn.model_selection import KFold\n",
    "from sklearn.metrics import mean_squared_error\n",
    "from sklearn.metrics import mean_absolute_error\n",
    "from sklearn.exceptions import NotFittedError\n",
    "from sklearn.ensemble import RandomForestClassifier\n",
    "from sklearn.linear_model import LinearRegression\n",
    "from sklearn.linear_model import LogisticRegression\n",
    "from sklearn.linear_model import Lasso\n",
    "from sklearn.linear_model import OrthogonalMatchingPursuit\n",
    "from sklearn.linear_model import Ridge\n",
    "from sklearn.linear_model import BayesianRidge\n",
    "\n",
    "from sklearn.dummy import DummyClassifier\n",
    "from statsmodels.tsa.seasonal import seasonal_decompose\n",
    "import torch\n",
    "import transformers\n",
    "from tqdm import notebook\n",
    "\n",
    "from sklearn.model_selection import cross_val_score\n",
    "from sklearn.metrics  import f1_score\n",
    "from sklearn.metrics  import precision_score\n",
    "from sklearn.metrics  import recall_score\n",
    "from sklearn.metrics  import roc_auc_score\n",
    "from sklearn.metrics import roc_curve\n",
    "from sklearn.metrics import accuracy_score\n",
    "\n",
    "from time import time\n",
    "import re\n",
    "import sys\n",
    "import csv\n",
    "#csv.field_size_limit(sys.maxsize)\n",
    "from matplotlib import rcParams\n",
    "nltk.download('punkt')\n",
    "nltk.download('averaged_perceptron_tagger')\n",
    "nltk.download('stopwords')\n",
    "stopwords = nltk.corpus.stopwords.words('english')\n",
    "\n",
    "from nltk.corpus import stopwords\n",
    "from nltk.tokenize import word_tokenize\n",
    "import itertools\n",
    "import datetime\n",
    "import pprint\n",
    "warnings.filterwarnings('ignore')\n",
    "\n",
    "from sklearn.feature_extraction.text import CountVectorizer\n",
    "from sklearn.naive_bayes import MultinomialNB\n",
    "from sklearn.feature_extraction.text import TfidfTransformer\n",
    "from nltk.stem import WordNetLemmatizer\n",
    "from nltk import pos_tag\n",
    "from sklearn.model_selection import StratifiedKFold\n",
    "from sklearn.metrics import classification_report\n",
    "from collections import  Counter\n",
    "from imblearn.over_sampling import RandomOverSampler\n",
    "from sklearn.linear_model import PassiveAggressiveClassifier\n",
    "import transformers as ppb\n",
    "%matplotlib inline\n",
    "from matplotlib import pyplot as plt"
   ]
  },
  {
   "cell_type": "markdown",
   "metadata": {},
   "source": [
    "<div class=\"alert alert-block alert-info\">\n",
    "<b>Совет: </b> Желательно чтобы все импорты были собраны в первой ячейке ноутбука! Если у того, кто будет запускать твой ноутбук будут отсутствовать некоторые библиотеки, то он это увидит сразу, а не в процессе!\n",
    "</div>"
   ]
  },
  {
   "cell_type": "code",
   "execution_count": 2,
   "metadata": {},
   "outputs": [],
   "source": [
    "#Определяем болд\n",
    "def bold(): \n",
    "    return \"\\033[1m\"\n",
    "\n",
    "def bold_end(): \n",
    "    return \"\\033[0m\"\n",
    "\n",
    "#Ставим формат для нумериков\n",
    "pd.options.display.float_format = '{: >10.2f}'.format\n",
    "\n",
    "#Убираем ворнинги\n",
    "warnings.simplefilter(action='ignore', category=FutureWarning)"
   ]
  },
  {
   "cell_type": "code",
   "execution_count": 3,
   "metadata": {},
   "outputs": [],
   "source": [
    "#**Функция print_basic_info, для вывода информации о массиве, и его переменных.**\n",
    "\n",
    "#* base - название базы данных\n",
    "#* info - 1: вывод информации о массиве, другое: не вывод\n",
    "#* describe - 1: вывод описания переменных массива, другое: не вывод        \n",
    "#* duplicat - 1: вывод количества полных дублей\n",
    "#* head - n: вывод примера базы (вывод n - строк), n < 1: не вывод\n",
    "\n",
    "def print_basic_info(base, info, describe, duplicat, head):\n",
    "    if info == 1:\n",
    "        print(\"\\n\", bold(), colored('info','green'), bold_end(), \"\\n\")\n",
    "        print( base.info())  \n",
    "    if head >= 1:\n",
    "        print(\"\\n\", bold(),colored('head','green'),bold_end())\n",
    "        display(base.head(head))\n",
    "    if describe == 1:\n",
    "        print(\"\\n\", bold(),colored('describe','green'),bold_end(),\"\\n\")\n",
    "        for i in base.columns:\n",
    "            print(\"\\n\", bold(), colored(i,'blue'),bold_end(),\"\\n\", base[i].describe())\n",
    "    if duplicat == 1:\n",
    "        print(\"\\n\", bold(),colored('duplicated','green'),bold_end(),\"\\n\")\n",
    "        print(base[base.duplicated() == True][base.columns[0]].count())"
   ]
  },
  {
   "cell_type": "code",
   "execution_count": 4,
   "metadata": {},
   "outputs": [
    {
     "name": "stdout",
     "output_type": "stream",
     "text": [
      "\n",
      " \u001b[1m \u001b[32minfo\u001b[0m \u001b[0m \n",
      "\n",
      "<class 'pandas.core.frame.DataFrame'>\n",
      "RangeIndex: 159571 entries, 0 to 159570\n",
      "Data columns (total 2 columns):\n",
      " #   Column  Non-Null Count   Dtype \n",
      "---  ------  --------------   ----- \n",
      " 0   text    159571 non-null  object\n",
      " 1   toxic   159571 non-null  int64 \n",
      "dtypes: int64(1), object(1)\n",
      "memory usage: 2.4+ MB\n",
      "None\n",
      "\n",
      " \u001b[1m \u001b[32mhead\u001b[0m \u001b[0m\n"
     ]
    },
    {
     "data": {
      "text/html": [
       "<div>\n",
       "<style scoped>\n",
       "    .dataframe tbody tr th:only-of-type {\n",
       "        vertical-align: middle;\n",
       "    }\n",
       "\n",
       "    .dataframe tbody tr th {\n",
       "        vertical-align: top;\n",
       "    }\n",
       "\n",
       "    .dataframe thead th {\n",
       "        text-align: right;\n",
       "    }\n",
       "</style>\n",
       "<table border=\"1\" class=\"dataframe\">\n",
       "  <thead>\n",
       "    <tr style=\"text-align: right;\">\n",
       "      <th></th>\n",
       "      <th>text</th>\n",
       "      <th>toxic</th>\n",
       "    </tr>\n",
       "  </thead>\n",
       "  <tbody>\n",
       "    <tr>\n",
       "      <th>0</th>\n",
       "      <td>Explanation\\nWhy the edits made under my usern...</td>\n",
       "      <td>0</td>\n",
       "    </tr>\n",
       "    <tr>\n",
       "      <th>1</th>\n",
       "      <td>D'aww! He matches this background colour I'm s...</td>\n",
       "      <td>0</td>\n",
       "    </tr>\n",
       "    <tr>\n",
       "      <th>2</th>\n",
       "      <td>Hey man, I'm really not trying to edit war. It...</td>\n",
       "      <td>0</td>\n",
       "    </tr>\n",
       "  </tbody>\n",
       "</table>\n",
       "</div>"
      ],
      "text/plain": [
       "                                                text  toxic\n",
       "0  Explanation\\nWhy the edits made under my usern...      0\n",
       "1  D'aww! He matches this background colour I'm s...      0\n",
       "2  Hey man, I'm really not trying to edit war. It...      0"
      ]
     },
     "metadata": {},
     "output_type": "display_data"
    },
    {
     "name": "stdout",
     "output_type": "stream",
     "text": [
      "\n",
      " \u001b[1m \u001b[32mdescribe\u001b[0m \u001b[0m \n",
      "\n",
      "\n",
      " \u001b[1m \u001b[34mtext\u001b[0m \u001b[0m \n",
      " count                                                159571\n",
      "unique                                               159571\n",
      "top       \" April 2006 (UTC)\\n\\nUnless I am very much mi...\n",
      "freq                                                      1\n",
      "Name: text, dtype: object\n",
      "\n",
      " \u001b[1m \u001b[34mtoxic\u001b[0m \u001b[0m \n",
      " count    159571.00\n",
      "mean          0.10\n",
      "std           0.30\n",
      "min           0.00\n",
      "25%           0.00\n",
      "50%           0.00\n",
      "75%           0.00\n",
      "max           1.00\n",
      "Name: toxic, dtype: float64\n"
     ]
    }
   ],
   "source": [
    "#Работаю локально, онлайн путь в хабе немного другой ('/datasets/...')\n",
    "\n",
    "df_comments = pd.read_csv('datasets/toxic_comments.csv', sep=',',decimal='.')\n",
    "#df_comments = pd.read_csv('toxic_comments.csv', sep=',',decimal='.')\n",
    "\n",
    "print_basic_info(df_comments,1,1,0,3)"
   ]
  },
  {
   "cell_type": "code",
   "execution_count": 5,
   "metadata": {},
   "outputs": [
    {
     "data": {
      "text/plain": [
       "0    143346\n",
       "1     16225\n",
       "Name: toxic, dtype: int64"
      ]
     },
     "execution_count": 5,
     "metadata": {},
     "output_type": "execute_result"
    }
   ],
   "source": [
    "df_comments[\"toxic\"].value_counts()"
   ]
  },
  {
   "cell_type": "markdown",
   "metadata": {},
   "source": [
    "Всего 159571. Пропусков нет.\n",
    "\n",
    "Данные toxic не равномерно распределены. Потребуется ресемплинг."
   ]
  },
  {
   "cell_type": "markdown",
   "metadata": {},
   "source": [
    "<div class=\"alert alert-block alert-success\">\n",
    "<b>Успех:</b> Загрузка и первичный анализ проведены отлично!\n",
    "</div>"
   ]
  },
  {
   "cell_type": "markdown",
   "metadata": {},
   "source": [
    "<a name=\"1.\"></a><br/>\n",
    "<font size=\"6\"><b>1. Подготовка</b></font>.<br/>\n",
    "[<font size=\"2\">(к содержанию)</font>](#1common.)"
   ]
  },
  {
   "cell_type": "code",
   "execution_count": 6,
   "metadata": {},
   "outputs": [
    {
     "data": {
      "text/html": [
       "<div>\n",
       "<style scoped>\n",
       "    .dataframe tbody tr th:only-of-type {\n",
       "        vertical-align: middle;\n",
       "    }\n",
       "\n",
       "    .dataframe tbody tr th {\n",
       "        vertical-align: top;\n",
       "    }\n",
       "\n",
       "    .dataframe thead th {\n",
       "        text-align: right;\n",
       "    }\n",
       "</style>\n",
       "<table border=\"1\" class=\"dataframe\">\n",
       "  <thead>\n",
       "    <tr style=\"text-align: right;\">\n",
       "      <th></th>\n",
       "      <th>text</th>\n",
       "      <th>toxic</th>\n",
       "      <th>text_cl</th>\n",
       "    </tr>\n",
       "  </thead>\n",
       "  <tbody>\n",
       "    <tr>\n",
       "      <th>0</th>\n",
       "      <td>Explanation\\nWhy the edits made under my usern...</td>\n",
       "      <td>0</td>\n",
       "      <td>explanation why the edits made under my userna...</td>\n",
       "    </tr>\n",
       "    <tr>\n",
       "      <th>1</th>\n",
       "      <td>D'aww! He matches this background colour I'm s...</td>\n",
       "      <td>0</td>\n",
       "      <td>d'aww  he matches this background colour i'm s...</td>\n",
       "    </tr>\n",
       "    <tr>\n",
       "      <th>2</th>\n",
       "      <td>Hey man, I'm really not trying to edit war. It...</td>\n",
       "      <td>0</td>\n",
       "      <td>hey man  i'm really not trying to edit war  it...</td>\n",
       "    </tr>\n",
       "    <tr>\n",
       "      <th>3</th>\n",
       "      <td>\"\\nMore\\nI can't make any real suggestions on ...</td>\n",
       "      <td>0</td>\n",
       "      <td>more i can't make any real suggestions on im...</td>\n",
       "    </tr>\n",
       "    <tr>\n",
       "      <th>4</th>\n",
       "      <td>You, sir, are my hero. Any chance you remember...</td>\n",
       "      <td>0</td>\n",
       "      <td>you  sir  are my hero  any chance you remember...</td>\n",
       "    </tr>\n",
       "  </tbody>\n",
       "</table>\n",
       "</div>"
      ],
      "text/plain": [
       "                                                text  toxic  \\\n",
       "0  Explanation\\nWhy the edits made under my usern...      0   \n",
       "1  D'aww! He matches this background colour I'm s...      0   \n",
       "2  Hey man, I'm really not trying to edit war. It...      0   \n",
       "3  \"\\nMore\\nI can't make any real suggestions on ...      0   \n",
       "4  You, sir, are my hero. Any chance you remember...      0   \n",
       "\n",
       "                                             text_cl  \n",
       "0  explanation why the edits made under my userna...  \n",
       "1  d'aww  he matches this background colour i'm s...  \n",
       "2  hey man  i'm really not trying to edit war  it...  \n",
       "3    more i can't make any real suggestions on im...  \n",
       "4  you  sir  are my hero  any chance you remember...  "
      ]
     },
     "execution_count": 6,
     "metadata": {},
     "output_type": "execute_result"
    }
   ],
   "source": [
    "# Приведем к нижнему регистру,  оставим только латиницу и '\n",
    "\n",
    "df_comments['text_cl'] = df_comments['text'].str.lower()\n",
    "df_comments['text_cl'] = df_comments['text_cl'].apply(lambda x: re.sub(r'\\s+', ' ', x))\n",
    "df_comments['text_cl'] = df_comments['text_cl'].apply(lambda x: re.sub(r'[^a-zA-Z\\' ]', ' ', x))\n",
    "df_comments['text_cl'] = df_comments['text_cl'].apply(lambda x: re.sub(r'[^\\w\\d\\s\\']+', '', x))\n",
    "\n",
    "df_comments.head()"
   ]
  },
  {
   "cell_type": "markdown",
   "metadata": {},
   "source": [
    "<div class=\"alert alert-block alert-success\">\n",
    "<b>Успех:</b> В целом очистка проведена хорошо. Молодец, что не забыла привести все к нижнему регистру.\n",
    "</div>"
   ]
  },
  {
   "cell_type": "code",
   "execution_count": 7,
   "metadata": {},
   "outputs": [
    {
     "data": {
      "text/html": [
       "<div>\n",
       "<style scoped>\n",
       "    .dataframe tbody tr th:only-of-type {\n",
       "        vertical-align: middle;\n",
       "    }\n",
       "\n",
       "    .dataframe tbody tr th {\n",
       "        vertical-align: top;\n",
       "    }\n",
       "\n",
       "    .dataframe thead th {\n",
       "        text-align: right;\n",
       "    }\n",
       "</style>\n",
       "<table border=\"1\" class=\"dataframe\">\n",
       "  <thead>\n",
       "    <tr style=\"text-align: right;\">\n",
       "      <th></th>\n",
       "      <th>count</th>\n",
       "    </tr>\n",
       "  </thead>\n",
       "  <tbody>\n",
       "    <tr>\n",
       "      <th>don't</th>\n",
       "      <td>22923.00</td>\n",
       "    </tr>\n",
       "    <tr>\n",
       "      <th>i'm</th>\n",
       "      <td>17885.00</td>\n",
       "    </tr>\n",
       "    <tr>\n",
       "      <th>it's</th>\n",
       "      <td>17556.00</td>\n",
       "    </tr>\n",
       "    <tr>\n",
       "      <th>i've</th>\n",
       "      <td>8686.00</td>\n",
       "    </tr>\n",
       "    <tr>\n",
       "      <th>you're</th>\n",
       "      <td>7611.00</td>\n",
       "    </tr>\n",
       "    <tr>\n",
       "      <th>doesn't</th>\n",
       "      <td>6282.00</td>\n",
       "    </tr>\n",
       "    <tr>\n",
       "      <th>that's</th>\n",
       "      <td>6095.00</td>\n",
       "    </tr>\n",
       "    <tr>\n",
       "      <th>can't</th>\n",
       "      <td>5382.00</td>\n",
       "    </tr>\n",
       "    <tr>\n",
       "      <th>didn't</th>\n",
       "      <td>5307.00</td>\n",
       "    </tr>\n",
       "    <tr>\n",
       "      <th>i'll</th>\n",
       "      <td>5282.00</td>\n",
       "    </tr>\n",
       "  </tbody>\n",
       "</table>\n",
       "</div>"
      ],
      "text/plain": [
       "             count\n",
       "don't     22923.00\n",
       "i'm       17885.00\n",
       "it's      17556.00\n",
       "i've       8686.00\n",
       "you're     7611.00\n",
       "doesn't    6282.00\n",
       "that's     6095.00\n",
       "can't      5382.00\n",
       "didn't     5307.00\n",
       "i'll       5282.00"
      ]
     },
     "execution_count": 7,
     "metadata": {},
     "output_type": "execute_result"
    }
   ],
   "source": [
    "#найдем сокращения\n",
    "\n",
    "list_w = []\n",
    "for i in df_comments['text_cl']:\n",
    "    for k in i.split():\n",
    "        if str.__contains__(k, '\\''):\n",
    "            list_w.append(k)\n",
    "\n",
    "p = pd.DataFrame(index = np.unique(list_w))\n",
    "\n",
    "for i in p.index:\n",
    "    p.loc[i, 'count'] = list_w.count(i)\n",
    "\n",
    "p.sort_values(by = 'count', ascending=False).head(10)"
   ]
  },
  {
   "cell_type": "code",
   "execution_count": 8,
   "metadata": {},
   "outputs": [],
   "source": [
    "# автозаменим сокращения с ' и лишние ' \n",
    "\n",
    "df_comments['text_cl'] = df_comments['text_cl'].str.replace(\"'ve\", \" have\").str.replace(\"'ll\", \" will\")\n",
    "df_comments['text_cl'] = df_comments['text_cl'].str.replace(\"'re\", \" are\").str.replace(\"'d\",\" would\")\n",
    "df_comments['text_cl'] = df_comments['text_cl'].str.replace(\"i 'm\", \"i am\")\n",
    "df_comments['text_cl'] = df_comments['text_cl'].str.replace(\"'s\", \"\")\n",
    "df_comments['text_cl'] = df_comments['text_cl'].str.replace(\"n't\", \" not\")"
   ]
  },
  {
   "cell_type": "code",
   "execution_count": 9,
   "metadata": {},
   "outputs": [
    {
     "data": {
      "text/html": [
       "<div>\n",
       "<style scoped>\n",
       "    .dataframe tbody tr th:only-of-type {\n",
       "        vertical-align: middle;\n",
       "    }\n",
       "\n",
       "    .dataframe tbody tr th {\n",
       "        vertical-align: top;\n",
       "    }\n",
       "\n",
       "    .dataframe thead th {\n",
       "        text-align: right;\n",
       "    }\n",
       "</style>\n",
       "<table border=\"1\" class=\"dataframe\">\n",
       "  <thead>\n",
       "    <tr style=\"text-align: right;\">\n",
       "      <th></th>\n",
       "      <th>count</th>\n",
       "    </tr>\n",
       "  </thead>\n",
       "  <tbody>\n",
       "    <tr>\n",
       "      <th>'</th>\n",
       "      <td>1779.00</td>\n",
       "    </tr>\n",
       "    <tr>\n",
       "      <th>''</th>\n",
       "      <td>291.00</td>\n",
       "    </tr>\n",
       "    <tr>\n",
       "      <th>'''</th>\n",
       "      <td>401.00</td>\n",
       "    </tr>\n",
       "    <tr>\n",
       "      <th>''''</th>\n",
       "      <td>330.00</td>\n",
       "    </tr>\n",
       "    <tr>\n",
       "      <th>'''''</th>\n",
       "      <td>36.00</td>\n",
       "    </tr>\n",
       "    <tr>\n",
       "      <th>...</th>\n",
       "      <td>...</td>\n",
       "    </tr>\n",
       "    <tr>\n",
       "      <th>zines'</th>\n",
       "      <td>1.00</td>\n",
       "    </tr>\n",
       "    <tr>\n",
       "      <th>zionists'</th>\n",
       "      <td>1.00</td>\n",
       "    </tr>\n",
       "    <tr>\n",
       "      <th>znypes'</th>\n",
       "      <td>1.00</td>\n",
       "    </tr>\n",
       "    <tr>\n",
       "      <th>zoeoconnells'</th>\n",
       "      <td>1.00</td>\n",
       "    </tr>\n",
       "    <tr>\n",
       "      <th>zoo'''</th>\n",
       "      <td>1.00</td>\n",
       "    </tr>\n",
       "  </tbody>\n",
       "</table>\n",
       "<p>9063 rows × 1 columns</p>\n",
       "</div>"
      ],
      "text/plain": [
       "                   count\n",
       "'                1779.00\n",
       "''                291.00\n",
       "'''               401.00\n",
       "''''              330.00\n",
       "'''''              36.00\n",
       "...                  ...\n",
       "zines'              1.00\n",
       "zionists'           1.00\n",
       "znypes'             1.00\n",
       "zoeoconnells'       1.00\n",
       "zoo'''              1.00\n",
       "\n",
       "[9063 rows x 1 columns]"
      ]
     },
     "execution_count": 9,
     "metadata": {},
     "output_type": "execute_result"
    }
   ],
   "source": [
    "# проверим\n",
    "list_w = []\n",
    "for i in df_comments['text_cl']:\n",
    "    for k in i.split():\n",
    "        if str.__contains__(k, '\\''):\n",
    "            list_w.append(k)\n",
    "\n",
    "p = pd.DataFrame(index = np.unique(list_w))\n",
    "\n",
    "for i in p.index:\n",
    "    p.loc[i, 'count'] = list_w.count(i)\n",
    "\n",
    "p"
   ]
  },
  {
   "cell_type": "code",
   "execution_count": 10,
   "metadata": {},
   "outputs": [],
   "source": [
    "df_comments['text_cl'] = df_comments['text_cl'].str.replace(\"'\", \"\").str.replace(\"  \", \" \")"
   ]
  },
  {
   "cell_type": "markdown",
   "metadata": {},
   "source": [
    "Отлично, ничего нет, теперь лематизируем"
   ]
  },
  {
   "cell_type": "markdown",
   "metadata": {},
   "source": [
    "<div class=\"alert alert-block alert-success\">\n",
    "<b>Успех:</b> Это была очень хорошая идея!\n",
    "</div>"
   ]
  },
  {
   "cell_type": "code",
   "execution_count": 11,
   "metadata": {},
   "outputs": [
    {
     "name": "stdout",
     "output_type": "stream",
     "text": [
      "Исходный текст: explanation why the edits made under my username hardcore metallica fan were reverted they were not vandalisms just closure on some gas after i voted at new york dolls fac and please do not remove the template from the talk page since im retired now       \n",
      "лемматизированный текст: explanation why the edit make under my username hardcore metallica fan be revert they be not vandalisms just closure on some gas after i vote at new york dolls fac and please do not remove the template from the talk page since im retire now\n"
     ]
    }
   ],
   "source": [
    "wnl = WordNetLemmatizer()\n",
    "def lemmatize(text):\n",
    "    lemm_list = []\n",
    "    for split in text.split():\n",
    "        lemm_list.append(wnl.lemmatize(split , pos='v'))\n",
    "    lemm_text = \" \".join(lemm_list)\n",
    "    return lemm_text\n",
    "\n",
    "# проверим\n",
    "corpus = df_comments['text_cl']\n",
    "print(\"Исходный текст:\", corpus[0])\n",
    "print(\"лемматизированный текст:\", lemmatize(corpus[0]))"
   ]
  },
  {
   "cell_type": "code",
   "execution_count": 12,
   "metadata": {},
   "outputs": [
    {
     "data": {
      "text/html": [
       "<div>\n",
       "<style scoped>\n",
       "    .dataframe tbody tr th:only-of-type {\n",
       "        vertical-align: middle;\n",
       "    }\n",
       "\n",
       "    .dataframe tbody tr th {\n",
       "        vertical-align: top;\n",
       "    }\n",
       "\n",
       "    .dataframe thead th {\n",
       "        text-align: right;\n",
       "    }\n",
       "</style>\n",
       "<table border=\"1\" class=\"dataframe\">\n",
       "  <thead>\n",
       "    <tr style=\"text-align: right;\">\n",
       "      <th></th>\n",
       "      <th>text</th>\n",
       "      <th>toxic</th>\n",
       "      <th>text_cl</th>\n",
       "      <th>lemmatize</th>\n",
       "    </tr>\n",
       "  </thead>\n",
       "  <tbody>\n",
       "    <tr>\n",
       "      <th>0</th>\n",
       "      <td>Explanation\\nWhy the edits made under my usern...</td>\n",
       "      <td>0</td>\n",
       "      <td>explanation why the edits made under my userna...</td>\n",
       "      <td>explanation why the edit make under my usernam...</td>\n",
       "    </tr>\n",
       "    <tr>\n",
       "      <th>1</th>\n",
       "      <td>D'aww! He matches this background colour I'm s...</td>\n",
       "      <td>0</td>\n",
       "      <td>daww he matches this background colour im seem...</td>\n",
       "      <td>daww he match this background colour im seemin...</td>\n",
       "    </tr>\n",
       "    <tr>\n",
       "      <th>2</th>\n",
       "      <td>Hey man, I'm really not trying to edit war. It...</td>\n",
       "      <td>0</td>\n",
       "      <td>hey man im really not trying to edit war it ju...</td>\n",
       "      <td>hey man im really not try to edit war it just ...</td>\n",
       "    </tr>\n",
       "    <tr>\n",
       "      <th>3</th>\n",
       "      <td>\"\\nMore\\nI can't make any real suggestions on ...</td>\n",
       "      <td>0</td>\n",
       "      <td>more i ca not make any real suggestions on im...</td>\n",
       "      <td>more i ca not make any real suggestions on imp...</td>\n",
       "    </tr>\n",
       "    <tr>\n",
       "      <th>4</th>\n",
       "      <td>You, sir, are my hero. Any chance you remember...</td>\n",
       "      <td>0</td>\n",
       "      <td>you sir are my hero any chance you remember wh...</td>\n",
       "      <td>you sir be my hero any chance you remember wha...</td>\n",
       "    </tr>\n",
       "  </tbody>\n",
       "</table>\n",
       "</div>"
      ],
      "text/plain": [
       "                                                text  toxic  \\\n",
       "0  Explanation\\nWhy the edits made under my usern...      0   \n",
       "1  D'aww! He matches this background colour I'm s...      0   \n",
       "2  Hey man, I'm really not trying to edit war. It...      0   \n",
       "3  \"\\nMore\\nI can't make any real suggestions on ...      0   \n",
       "4  You, sir, are my hero. Any chance you remember...      0   \n",
       "\n",
       "                                             text_cl  \\\n",
       "0  explanation why the edits made under my userna...   \n",
       "1  daww he matches this background colour im seem...   \n",
       "2  hey man im really not trying to edit war it ju...   \n",
       "3   more i ca not make any real suggestions on im...   \n",
       "4  you sir are my hero any chance you remember wh...   \n",
       "\n",
       "                                           lemmatize  \n",
       "0  explanation why the edit make under my usernam...  \n",
       "1  daww he match this background colour im seemin...  \n",
       "2  hey man im really not try to edit war it just ...  \n",
       "3  more i ca not make any real suggestions on imp...  \n",
       "4  you sir be my hero any chance you remember wha...  "
      ]
     },
     "execution_count": 12,
     "metadata": {},
     "output_type": "execute_result"
    }
   ],
   "source": [
    "df_comments['lemmatize'] = df_comments['text_cl'].apply(lemmatize)\n",
    "\n",
    "df_comments.head()"
   ]
  },
  {
   "cell_type": "markdown",
   "metadata": {},
   "source": [
    "<div class=\"alert alert-block alert-success\">\n",
    "<b>Успех:</b> Лемматизация проведена корректно.\n",
    "</div>"
   ]
  },
  {
   "cell_type": "markdown",
   "metadata": {},
   "source": [
    "Посмотрим на стоп слова. Может они нам нужны"
   ]
  },
  {
   "cell_type": "code",
   "execution_count": 13,
   "metadata": {},
   "outputs": [],
   "source": [
    "def plot_top_stopwords_barchart(text):\n",
    "    stop=set(stopwords.words('english'))\n",
    "    \n",
    "    new= text.str.split()\n",
    "    new=new.values.tolist()\n",
    "    corpus=[word for i in new for word in i]\n",
    "    from collections import defaultdict\n",
    "    dic=defaultdict(int)\n",
    "    for word in corpus:\n",
    "        if word in stop:\n",
    "            dic[word]+=1\n",
    "            \n",
    "    top=sorted(dic.items(), key=lambda x:x[1],reverse=True)[:10]\n",
    "    x,y=zip(*top)\n",
    "    plt.figure(figsize=(10,10))\n",
    "    plt.bar(x,y)"
   ]
  },
  {
   "cell_type": "code",
   "execution_count": 14,
   "metadata": {},
   "outputs": [
    {
     "data": {
      "image/png": "[encoded data removed]",
      "text/plain": [
       "<Figure size 720x720 with 1 Axes>"
      ]
     },
     "metadata": {
      "needs_background": "light"
     },
     "output_type": "display_data"
    }
   ],
   "source": [
    "plot_top_stopwords_barchart(df_comments['text_cl'])"
   ]
  },
  {
   "cell_type": "markdown",
   "metadata": {},
   "source": [
    "Какие слова популярны без учета стоп слов"
   ]
  },
  {
   "cell_type": "code",
   "execution_count": 15,
   "metadata": {},
   "outputs": [],
   "source": [
    "def plot_top_non_stopwords_barchart(text):\n",
    "    stop=set(stopwords.words('english'))\n",
    "    \n",
    "    new= text.str.split()\n",
    "    new=new.values.tolist()\n",
    "    corpus=[word for i in new for word in i]\n",
    "\n",
    "    counter=Counter(corpus)\n",
    "    most=counter.most_common()\n",
    "    x, y=[], []\n",
    "    for word,count in most[:50]:\n",
    "        if (word not in stop):\n",
    "            x.append(word)\n",
    "            y.append(count)\n",
    "    plt.figure(figsize=(10,10))\n",
    "    sns.barplot(x=y,y=x)"
   ]
  },
  {
   "cell_type": "code",
   "execution_count": 16,
   "metadata": {},
   "outputs": [
    {
     "data": {
      "image/png": "[encoded data removed]",
      "text/plain": [
       "<Figure size 720x720 with 1 Axes>"
      ]
     },
     "metadata": {
      "needs_background": "light"
     },
     "output_type": "display_data"
    }
   ],
   "source": [
    "plot_top_non_stopwords_barchart(df_comments['text_cl'])"
   ]
  },
  {
   "cell_type": "markdown",
   "metadata": {},
   "source": [
    "Стоп слова нам не нужны. Теперь уберем их"
   ]
  },
  {
   "cell_type": "code",
   "execution_count": 17,
   "metadata": {},
   "outputs": [
    {
     "data": {
      "text/html": [
       "<div>\n",
       "<style scoped>\n",
       "    .dataframe tbody tr th:only-of-type {\n",
       "        vertical-align: middle;\n",
       "    }\n",
       "\n",
       "    .dataframe tbody tr th {\n",
       "        vertical-align: top;\n",
       "    }\n",
       "\n",
       "    .dataframe thead th {\n",
       "        text-align: right;\n",
       "    }\n",
       "</style>\n",
       "<table border=\"1\" class=\"dataframe\">\n",
       "  <thead>\n",
       "    <tr style=\"text-align: right;\">\n",
       "      <th></th>\n",
       "      <th>text</th>\n",
       "      <th>toxic</th>\n",
       "      <th>text_cl</th>\n",
       "      <th>lemmatize</th>\n",
       "      <th>text_tokenize</th>\n",
       "      <th>text_tokenize_join</th>\n",
       "    </tr>\n",
       "  </thead>\n",
       "  <tbody>\n",
       "    <tr>\n",
       "      <th>0</th>\n",
       "      <td>Explanation\\nWhy the edits made under my usern...</td>\n",
       "      <td>0</td>\n",
       "      <td>explanation why the edits made under my userna...</td>\n",
       "      <td>explanation why the edit make under my usernam...</td>\n",
       "      <td>[explanation, edits, made, username, hardcore,...</td>\n",
       "      <td>explanation edits made username hardcore metal...</td>\n",
       "    </tr>\n",
       "    <tr>\n",
       "      <th>1</th>\n",
       "      <td>D'aww! He matches this background colour I'm s...</td>\n",
       "      <td>0</td>\n",
       "      <td>daww he matches this background colour im seem...</td>\n",
       "      <td>daww he match this background colour im seemin...</td>\n",
       "      <td>[daww, matches, background, colour, im, seemin...</td>\n",
       "      <td>daww matches background colour im seemingly st...</td>\n",
       "    </tr>\n",
       "    <tr>\n",
       "      <th>2</th>\n",
       "      <td>Hey man, I'm really not trying to edit war. It...</td>\n",
       "      <td>0</td>\n",
       "      <td>hey man im really not trying to edit war it ju...</td>\n",
       "      <td>hey man im really not try to edit war it just ...</td>\n",
       "      <td>[hey, man, im, really, trying, edit, war, guy,...</td>\n",
       "      <td>hey man im really trying edit war guy constant...</td>\n",
       "    </tr>\n",
       "    <tr>\n",
       "      <th>3</th>\n",
       "      <td>\"\\nMore\\nI can't make any real suggestions on ...</td>\n",
       "      <td>0</td>\n",
       "      <td>more i ca not make any real suggestions on im...</td>\n",
       "      <td>more i ca not make any real suggestions on imp...</td>\n",
       "      <td>[ca, make, real, suggestions, improvement, won...</td>\n",
       "      <td>ca make real suggestions improvement wondered ...</td>\n",
       "    </tr>\n",
       "    <tr>\n",
       "      <th>4</th>\n",
       "      <td>You, sir, are my hero. Any chance you remember...</td>\n",
       "      <td>0</td>\n",
       "      <td>you sir are my hero any chance you remember wh...</td>\n",
       "      <td>you sir be my hero any chance you remember wha...</td>\n",
       "      <td>[sir, hero, chance, remember, page]</td>\n",
       "      <td>sir hero chance remember page</td>\n",
       "    </tr>\n",
       "  </tbody>\n",
       "</table>\n",
       "</div>"
      ],
      "text/plain": [
       "                                                text  toxic  \\\n",
       "0  Explanation\\nWhy the edits made under my usern...      0   \n",
       "1  D'aww! He matches this background colour I'm s...      0   \n",
       "2  Hey man, I'm really not trying to edit war. It...      0   \n",
       "3  \"\\nMore\\nI can't make any real suggestions on ...      0   \n",
       "4  You, sir, are my hero. Any chance you remember...      0   \n",
       "\n",
       "                                             text_cl  \\\n",
       "0  explanation why the edits made under my userna...   \n",
       "1  daww he matches this background colour im seem...   \n",
       "2  hey man im really not trying to edit war it ju...   \n",
       "3   more i ca not make any real suggestions on im...   \n",
       "4  you sir are my hero any chance you remember wh...   \n",
       "\n",
       "                                           lemmatize  \\\n",
       "0  explanation why the edit make under my usernam...   \n",
       "1  daww he match this background colour im seemin...   \n",
       "2  hey man im really not try to edit war it just ...   \n",
       "3  more i ca not make any real suggestions on imp...   \n",
       "4  you sir be my hero any chance you remember wha...   \n",
       "\n",
       "                                       text_tokenize  \\\n",
       "0  [explanation, edits, made, username, hardcore,...   \n",
       "1  [daww, matches, background, colour, im, seemin...   \n",
       "2  [hey, man, im, really, trying, edit, war, guy,...   \n",
       "3  [ca, make, real, suggestions, improvement, won...   \n",
       "4                [sir, hero, chance, remember, page]   \n",
       "\n",
       "                                  text_tokenize_join  \n",
       "0  explanation edits made username hardcore metal...  \n",
       "1  daww matches background colour im seemingly st...  \n",
       "2  hey man im really trying edit war guy constant...  \n",
       "3  ca make real suggestions improvement wondered ...  \n",
       "4                      sir hero chance remember page  "
      ]
     },
     "execution_count": 17,
     "metadata": {},
     "output_type": "execute_result"
    }
   ],
   "source": [
    "stop_words=set(stopwords.words('english'))\n",
    "\n",
    "df_comments['text_tokenize'] = df_comments['text_cl'].apply(lambda x: [word for word in x.split() if word not in stop_words])\n",
    "df_comments['text_tokenize_join'] = [' '.join(map(str, l)) for l in df_comments['text_tokenize']]\n",
    "\n",
    "df_comments.head()"
   ]
  },
  {
   "cell_type": "code",
   "execution_count": 18,
   "metadata": {},
   "outputs": [],
   "source": [
    "# убьем лишние столбцы\n",
    "\n",
    "df_comments.drop(['text','text_cl','lemmatize'], axis=1, inplace = True)"
   ]
  },
  {
   "cell_type": "markdown",
   "metadata": {},
   "source": [
    "<div class=\"alert alert-block alert-info\">\n",
    "<b>Совет: </b> Ты плодишь очень много сущностей в процессе обработки. В учебном проекте это ОК, но в реальном у тебя может закончиться память.\n",
    "</div>"
   ]
  },
  {
   "cell_type": "markdown",
   "metadata": {},
   "source": [
    "Посмотрим на части речи, которые встречаются у нас в тексте."
   ]
  },
  {
   "cell_type": "code",
   "execution_count": 19,
   "metadata": {},
   "outputs": [],
   "source": [
    "tagged_stanzas_train = []\n",
    "\n",
    "for word in df_comments['text_tokenize_join']:\n",
    "    tagged_word = nltk.pos_tag(word.split())\n",
    "    tagged_stanzas_train.append(tagged_word)"
   ]
  },
  {
   "cell_type": "code",
   "execution_count": 20,
   "metadata": {},
   "outputs": [
    {
     "data": {
      "image/png": "[encoded data removed]",
      "text/plain": [
       "<Figure size 1080x1080 with 1 Axes>"
      ]
     },
     "metadata": {},
     "output_type": "display_data"
    }
   ],
   "source": [
    "tagged_train = []\n",
    "tagged_train.append(tagged_stanzas_train)\n",
    "\n",
    "from yellowbrick.text import PosTagVisualizer\n",
    "plt.figure(figsize=(15,15))\n",
    "viz = PosTagVisualizer()\n",
    "viz.fit(tagged_train)\n",
    "viz.show()\n",
    "\n",
    "del tagged_train"
   ]
  },
  {
   "cell_type": "markdown",
   "metadata": {},
   "source": [
    "Сделаем features"
   ]
  },
  {
   "cell_type": "code",
   "execution_count": 21,
   "metadata": {},
   "outputs": [
    {
     "data": {
      "text/plain": [
       "((159571,), (159571,))"
      ]
     },
     "execution_count": 21,
     "metadata": {},
     "output_type": "execute_result"
    }
   ],
   "source": [
    "features = df_comments['text_tokenize_join']\n",
    "target = df_comments['toxic']\n",
    "\n",
    "# проверяем размер\n",
    "features.shape, target.shape"
   ]
  },
  {
   "cell_type": "code",
   "execution_count": 22,
   "metadata": {},
   "outputs": [],
   "source": [
    "#разбиваем на train и остальное. стратифицируем\n",
    "features_train, features_other, target_train, target_other = train_test_split(features, target , test_size=0.40, \n",
    "                                                                              random_state=515093, stratify = target)\n",
    "\n",
    "\n",
    "#разбиваем на валид и тест. стратифицируем\n",
    "features_valid, features_test, target_valid, target_test = train_test_split(features_other, target_other , test_size=0.50, \n",
    "                                                                              random_state=515093, stratify = target_other)"
   ]
  },
  {
   "cell_type": "markdown",
   "metadata": {},
   "source": [
    "<div class=\"alert alert-block alert-info\">\n",
    "<b>Совет: </b> Желательно было напечатать размеры полученных наборов.\n",
    "</div>"
   ]
  },
  {
   "cell_type": "code",
   "execution_count": 23,
   "metadata": {},
   "outputs": [],
   "source": [
    "# векторизируем\n",
    "count_vect = CountVectorizer()\n",
    "count_vect.fit(features_train)\n",
    "\n",
    "features_train = count_vect.transform(features_train)\n",
    "features_valid = count_vect.transform(features_valid)\n",
    "features_test = count_vect.transform(features_test)"
   ]
  },
  {
   "cell_type": "code",
   "execution_count": 24,
   "metadata": {},
   "outputs": [],
   "source": [
    "# транформируем \n",
    "\n",
    "tans = TfidfTransformer()\n",
    "tans.fit(features_train)\n",
    "\n",
    "features_train = tans.transform(features_train)\n",
    "features_valid = tans.transform(features_valid)\n",
    "features_test = tans.transform(features_test)"
   ]
  },
  {
   "cell_type": "markdown",
   "metadata": {},
   "source": [
    "<div class=\"alert alert-block alert-success\">\n",
    "<b>Успех:</b> Отлично, что векторизатор был обучен только на тренировочной части.\n",
    "</div>"
   ]
  },
  {
   "cell_type": "markdown",
   "metadata": {},
   "source": [
    "<div class=\"alert alert-block alert-info\">\n",
    "<b>Совет: </b> Можно было сразу использовать TfidfVectorizer.\n",
    "</div>"
   ]
  },
  {
   "cell_type": "code",
   "execution_count": 25,
   "metadata": {},
   "outputs": [
    {
     "name": "stdout",
     "output_type": "stream",
     "text": [
      "Кейсы Counter({0: 86007, 1: 86007})\n"
     ]
    }
   ],
   "source": [
    "# сделаем апсемплинг для трейнинговых данных\n",
    "ros = RandomOverSampler(random_state=42, sampling_strategy = 'auto')\n",
    "features_train_up, target_train_up = ros.fit_resample(features_train, target_train)\n",
    "\n",
    "target_train_up = np.array(target_train_up)\n",
    "\n",
    "print('Кейсы %s' % Counter(target_train_up))"
   ]
  },
  {
   "cell_type": "markdown",
   "metadata": {},
   "source": [
    "<div class=\"alert alert-block alert-success\">\n",
    "<b>Успех:</b> Хорошо, что ты обратила внимание не дисбаланс классов.\n",
    "</div>"
   ]
  },
  {
   "cell_type": "markdown",
   "metadata": {},
   "source": [
    "<a name=\"2.\"></a><br/>\n",
    "<font size=\"6\"><b>2. Обучение</b></font>.<br/>\n",
    "[<font size=\"2\">(к содержанию)</font>](#1common.)"
   ]
  },
  {
   "cell_type": "markdown",
   "metadata": {},
   "source": [
    "Рассморим несколько моделей"
   ]
  },
  {
   "cell_type": "code",
   "execution_count": 26,
   "metadata": {},
   "outputs": [],
   "source": [
    "cv = StratifiedKFold(n_splits=3, random_state=1234, shuffle=True)\n",
    "\n",
    "info = pd.DataFrame()"
   ]
  },
  {
   "cell_type": "markdown",
   "metadata": {},
   "source": [
    "**RandomForestClassifier**"
   ]
  },
  {
   "cell_type": "code",
   "execution_count": 27,
   "metadata": {},
   "outputs": [
    {
     "name": "stdout",
     "output_type": "stream",
     "text": [
      "{'max_depth': 1}\n"
     ]
    }
   ],
   "source": [
    "#Будем подбирать параметры гридсерчем\n",
    "\n",
    "parameters = {'max_depth':[i for i in range(1,5,1)]}\n",
    "\n",
    "clf = GridSearchCV(RandomForestClassifier(n_jobs = -1, random_state = 1234), param_grid = parameters)\n",
    "clf.fit(features_train, target_train)\n",
    "\n",
    "print(clf.best_params_)"
   ]
  },
  {
   "cell_type": "code",
   "execution_count": 28,
   "metadata": {},
   "outputs": [],
   "source": [
    "#обучем модель с лучшими параметрами.\n",
    "model = RandomForestClassifier(n_jobs = -1, max_depth = 1, random_state = 1234)"
   ]
  },
  {
   "cell_type": "code",
   "execution_count": 29,
   "metadata": {},
   "outputs": [],
   "source": [
    "#сделаем фунукцию, котрая будет записывать параметры\n",
    "def put_in_base(base_res, model, features_train, target_train, features_test, target_test):\n",
    "    model.fit(features_train, target_train)\n",
    "    target = target_test\n",
    "    features = features_test\n",
    "    predictions = model.predict(features)\n",
    "    accuracy, precision, recall, f1 , Roc = [], [], [], [],[]\n",
    "    accuracy.append(accuracy_score(target, predictions))\n",
    "    precision.append(precision_score(target, predictions))\n",
    "    recall.append(recall_score(target, predictions))\n",
    "    f1.append(f1_score(target, predictions))\n",
    "\n",
    "    #probabilities = model.predict_proba(features)\n",
    "    #Roc.append(roc_auc_score(target, probabilities[:, 1]))\n",
    "\n",
    "    #print(classification_report(target, predictions))\n",
    "    base_res.loc[str(model).split('(')[0],'accuracy'] = np.mean(accuracy)\n",
    "    base_res.loc[str(model).split('(')[0],'precision'] = np.mean(precision)\n",
    "    base_res.loc[str(model).split('(')[0],'recall'] = np.mean(recall)\n",
    "    base_res.loc[str(model).split('(')[0],'f1'] = np.mean(f1)\n",
    "    #base_res.loc[str(model).split('(')[0],'Roc'] = np.mean(Roc)\n",
    "\n",
    "    return base_res, predictions"
   ]
  },
  {
   "cell_type": "code",
   "execution_count": 30,
   "metadata": {},
   "outputs": [],
   "source": [
    "# Выведем графиики для наглядности\n",
    "def param_bars(base_name, name):\n",
    "    sns.set(style=\"whitegrid\")\n",
    "    plt.figure(figsize = (10,3)) \n",
    "    df = base_name\n",
    "    sns.barplot(data=df, palette=\"tab20\", linewidth=2.5)\n",
    "    plt.title(\"Показатель эффективности модели - \" + str(name), fontsize=15)\n",
    "    plt.ylabel(\"%%\")\n",
    "    plt.xlabel(\"Параметры\")\n",
    "    plt.ylim((0, 1.2)) \n",
    "    c = 0\n",
    "    for i in df.columns:\n",
    "        plt.text( c - 0.1 , df[i].mean() + 0.1, \"{0:.0%}\".format(df[i].mean()))\n",
    "        c = c + 1\n",
    "    plt.show()"
   ]
  },
  {
   "cell_type": "code",
   "execution_count": 31,
   "metadata": {},
   "outputs": [
    {
     "data": {
      "image/png": "[encoded data removed]",
      "text/plain": [
       "<Figure size 720x216 with 1 Axes>"
      ]
     },
     "metadata": {},
     "output_type": "display_data"
    }
   ],
   "source": [
    "info, predictions = put_in_base(info, model, features_train_up, target_train_up, features_valid, target_valid)\n",
    "param_bars(info[info.index == 'RandomForestClassifier'],'RandomForestClassifier Valid')"
   ]
  },
  {
   "cell_type": "markdown",
   "metadata": {},
   "source": [
    "Дерево дает плохие результаты F1"
   ]
  },
  {
   "cell_type": "markdown",
   "metadata": {},
   "source": [
    "**PassiveAggressiveClassifier**"
   ]
  },
  {
   "cell_type": "code",
   "execution_count": 32,
   "metadata": {},
   "outputs": [
    {
     "name": "stdout",
     "output_type": "stream",
     "text": [
      "{'C': 1}\n"
     ]
    }
   ],
   "source": [
    "param_grid = {'C': [0.001, 0.01, 0.1, 1, 10, 100, 1000] }\n",
    "clf = GridSearchCV(PassiveAggressiveClassifier( random_state = 1234), param_grid, scoring = 'f1')\n",
    "\n",
    "clf.fit(features_train_up, target_train_up)\n",
    "print(clf.best_params_)"
   ]
  },
  {
   "cell_type": "code",
   "execution_count": 33,
   "metadata": {},
   "outputs": [
    {
     "data": {
      "image/png": "[encoded data removed]",
      "text/plain": [
       "<Figure size 720x216 with 1 Axes>"
      ]
     },
     "metadata": {},
     "output_type": "display_data"
    }
   ],
   "source": [
    "model = PassiveAggressiveClassifier(n_jobs = -1, C = 1, random_state = 1234)\n",
    "\n",
    "info, predictions = put_in_base(info, model, features_train_up, target_train_up, features_valid, target_valid)\n",
    "param_bars(info[info.index == 'PassiveAggressiveClassifier'],'PassiveAggressiveClassifier Valid')"
   ]
  },
  {
   "cell_type": "markdown",
   "metadata": {},
   "source": [
    "Линейная модель PassiveAggressiveClassifier дает результаты лучше"
   ]
  },
  {
   "cell_type": "markdown",
   "metadata": {},
   "source": [
    "**LogisticRegression**"
   ]
  },
  {
   "cell_type": "code",
   "execution_count": 34,
   "metadata": {},
   "outputs": [
    {
     "name": "stdout",
     "output_type": "stream",
     "text": [
      "{'C': 1000}\n"
     ]
    }
   ],
   "source": [
    "param_grid = {'C': [0.001, 0.01, 0.1, 1, 10, 100, 1000] }\n",
    "clf = GridSearchCV(LogisticRegression(penalty='l2', random_state = 1234), param_grid, scoring = 'f1')\n",
    "\n",
    "clf.fit(features_train_up, target_train_up)\n",
    "print(clf.best_params_)"
   ]
  },
  {
   "cell_type": "code",
   "execution_count": 35,
   "metadata": {},
   "outputs": [
    {
     "data": {
      "image/png": "[encoded data removed]",
      "text/plain": [
       "<Figure size 720x216 with 1 Axes>"
      ]
     },
     "metadata": {},
     "output_type": "display_data"
    }
   ],
   "source": [
    "model = LogisticRegression( n_jobs = -1, C = 1000, random_state = 1234, penalty='l2')\n",
    "info, predictions = put_in_base(info, model, features_train_up, target_train_up, features_valid, target_valid)\n",
    "param_bars(info[info.index == 'LogisticRegression'],'LogisticRegression Valid')"
   ]
  },
  {
   "cell_type": "markdown",
   "metadata": {},
   "source": [
    "LogisticRegression дает достаточныо высокий показатель."
   ]
  },
  {
   "cell_type": "markdown",
   "metadata": {},
   "source": [
    "<div class=\"alert alert-block alert-success\">\n",
    "<b>Успех:</b> В целом, все сделано хорошо и корректно. Радует, что ты не забыла про подбор парамтеров.\n",
    "</div>"
   ]
  },
  {
   "cell_type": "markdown",
   "metadata": {},
   "source": [
    "<a name=\"3.\"></a><br/>\n",
    "<font size=\"6\"><b>3. Тестирование и Проверка модели на адекватность</b></font>.<br/>\n",
    "[<font size=\"2\">(к содержанию)</font>](#1common.)"
   ]
  },
  {
   "cell_type": "code",
   "execution_count": 36,
   "metadata": {},
   "outputs": [
    {
     "data": {
      "image/png": "[encoded data removed]",
      "text/plain": [
       "<Figure size 720x216 with 1 Axes>"
      ]
     },
     "metadata": {},
     "output_type": "display_data"
    }
   ],
   "source": [
    "# тестирование\n",
    "\n",
    "model = LogisticRegression( n_jobs = -1, C = 1000, random_state = 1234, penalty='l2')\n",
    "\n",
    "info, predictions = put_in_base(info, model, features_train_up, target_train_up, features_test, target_test)\n",
    "param_bars(info[info.index == 'LogisticRegression'],'LogisticRegression Test')"
   ]
  },
  {
   "cell_type": "markdown",
   "metadata": {},
   "source": [
    "<div class=\"alert alert-block alert-success\">\n",
    "<b>Успех:</b> Тестирование проведено абсолютно корректно. Молодец!\n",
    "</div>"
   ]
  },
  {
   "cell_type": "markdown",
   "metadata": {},
   "source": [
    "* Проверим модель на адекватнось глазами. Посмотрим на доли toxic. "
   ]
  },
  {
   "cell_type": "code",
   "execution_count": 37,
   "metadata": {},
   "outputs": [
    {
     "name": "stdout",
     "output_type": "stream",
     "text": [
      "\u001b[1m % Toxic in test sample: target \u001b[34m0.102\u001b[0m\u001b[1m VS predictions \u001b[34m0.099\u001b[0m \u001b[0m\n"
     ]
    }
   ],
   "source": [
    "print(bold(),\"% Toxic in test sample: target\",colored(round(target_test.mean(),3),'blue')+bold(),\"VS predictions\",\n",
    "      colored(round(predictions.mean() ,3),'blue'),bold_end())"
   ]
  },
  {
   "cell_type": "markdown",
   "metadata": {},
   "source": [
    "Предсказанная доля положительного класса сильно не отличается от таргет\n",
    "\n",
    "* Сравним c дамми"
   ]
  },
  {
   "cell_type": "code",
   "execution_count": 38,
   "metadata": {},
   "outputs": [
    {
     "data": {
      "image/png": "[encoded data removed]",
      "text/plain": [
       "<Figure size 720x216 with 1 Axes>"
      ]
     },
     "metadata": {},
     "output_type": "display_data"
    },
    {
     "data": {
      "image/png": "[encoded data removed]",
      "text/plain": [
       "<Figure size 720x216 with 1 Axes>"
      ]
     },
     "metadata": {},
     "output_type": "display_data"
    }
   ],
   "source": [
    "dummy_clf = DummyClassifier(strategy='most_frequent')\n",
    "dummy_clf.fit(features_train_up, target_train_up)\n",
    "\n",
    "dummy_clf_test = pd.DataFrame()\n",
    "dummy_clf_test, d_pr = put_in_base(dummy_clf_test, dummy_clf, features_train_up, target_train_up, features_test, target_test)\n",
    "\n",
    "param_bars(info[info.index == 'LogisticRegression'],'LogisticRegression Test')\n",
    "param_bars(dummy_clf_test[dummy_clf_test.index == 'DummyClassifier'],'DummyClassifier (most_frequent) Test')"
   ]
  },
  {
   "cell_type": "markdown",
   "metadata": {},
   "source": [
    "Дамми дает меньшую точность и F1.\n",
    "\n",
    "* Посмотрим на ROC кривую."
   ]
  },
  {
   "cell_type": "code",
   "execution_count": 39,
   "metadata": {},
   "outputs": [
    {
     "name": "stdout",
     "output_type": "stream",
     "text": [
      "\u001b[1m ROC - 0.95 \u001b[0m\n"
     ]
    },
    {
     "data": {
      "image/png": "[encoded data removed]",
      "text/plain": [
       "<Figure size 576x396 with 1 Axes>"
      ]
     },
     "metadata": {},
     "output_type": "display_data"
    }
   ],
   "source": [
    "probabilities_test = model.predict_proba(features_test)\n",
    "\n",
    "print(bold(),'ROC -', round(roc_auc_score(target_test, probabilities_test[:, 1]),2), bold_end())\n",
    "\n",
    "fpr, tpr, thresholds = roc_curve(target_test, probabilities_test[:, 1])\n",
    "\n",
    "plt.figure()\n",
    "plt.plot(fpr, tpr)\n",
    "plt.plot([0, 1], [0, 1], linestyle='--')\n",
    "plt.xlim([0.0, 1.0])\n",
    "plt.ylim([0.0, 1.0])\n",
    "plt.xlabel('False Positive Rate')\n",
    "plt.ylabel('True Positive Rate')\n",
    "plt.title('ROC-кривая')\n",
    "plt.show()"
   ]
  },
  {
   "cell_type": "markdown",
   "metadata": {},
   "source": [
    "Высокий показатель ROC - 0.95"
   ]
  },
  {
   "cell_type": "markdown",
   "metadata": {},
   "source": [
    "<div class=\"alert alert-block alert-success\">\n",
    "<b>Успех:</b> Меня очень порадовало, что ты проанализировала модель с помощью другие метрик и не забыла про проверку на адекватность.\n",
    "</div>"
   ]
  },
  {
   "cell_type": "markdown",
   "metadata": {},
   "source": [
    "<a name=\"5.\"></a><br/>\n",
    "<font size=\"6\"><b>Вывод</b></font>.<br/>\n",
    "[<font size=\"2\">(к содержанию)</font>](#1common.)\n",
    "\n",
    "**На основе данных интернет-магазина «Викишоп», была построена модель для задачи классификации токсичности комментария, которая прогнозирует токсичные комментарии для того, чтобы отправить их на модерацию.**\n",
    "\n",
    "**Необходимо построить модель, со значением F1-меры от 0.75 и более. Наша модель на тестовой выборке имеет F1-меру 0.75.**\n",
    "\n",
    "* При обработке тестовых данных:\n",
    "    * Данные приведены к нижнему регистру\n",
    "    * Сокращенные слова были заменены на полные\n",
    "    * Оставлены только латинские знаки \n",
    "    * Лемматизированы с помощью WordNetLemmatizer\n",
    "    * Убраны 'стоп слова' (на основе nltk.corpus.stopwords.words('english'))\n",
    "    * Векторизированы с помощью CountVectorizer\n",
    "    * Обработаны с помощью TfidfTransformer\n",
    "    \n",
    " \n",
    "* При обучении модели потребовалась ребалансировка классов. Ребалансировка была произведена через RandomOverSampler.\n",
    "    \n",
    "**Классификация производится с помощью \"Random Forest Classifier\", c параметрами :**\n",
    "* penalty= l2\n",
    "* C = 1000\n",
    "* random_state = 1234\n",
    "\n",
    "**Кодирование результатов:**\n",
    "<font color='blue'> \n",
    "* **0 - НЕ выявлено, что комментарий токсичен**\n",
    "* **1 - Токсичный комментарий**"
   ]
  },
  {
   "cell_type": "markdown",
   "metadata": {},
   "source": [
    "<a name=\"6.\"></a><br/>\n",
    "<font size=\"6\"><b>Приложение. А как же BERT?</b></font>.<br/>\n",
    "[<font size=\"2\">(к содержанию)</font>](#1common.)\n",
    "\n",
    "\n",
    "\n"
   ]
  },
  {
   "cell_type": "markdown",
   "metadata": {},
   "source": [
    "Обработка данных по данной схеме занимает много ресурсов. Поэтому в рамках эксперимента возьмем только часть выборки (3000 строк). \n",
    "\n",
    "Возьмем данные уже избавленные от стоп слов и не латиницы."
   ]
  },
  {
   "cell_type": "code",
   "execution_count": 40,
   "metadata": {},
   "outputs": [],
   "source": [
    "#Определим берта\n",
    "model_class, tokenizer_class, pretrained_weights = (ppb.BertModel, ppb.BertTokenizer, 'bert-base-uncased')\n",
    "\n",
    "#Загрузим pretrained model/tokenizer\n",
    "tokenizer = tokenizer_class.from_pretrained(pretrained_weights)\n",
    "model = model_class.from_pretrained(pretrained_weights)"
   ]
  },
  {
   "cell_type": "code",
   "execution_count": 41,
   "metadata": {},
   "outputs": [],
   "source": [
    "#Выделим нашу выборку в 3000 сторок\n",
    "batch_1 = df_comments['text_tokenize_join'][:3000]\n",
    "target_bert = df_comments['toxic'][:3000]"
   ]
  },
  {
   "cell_type": "code",
   "execution_count": 42,
   "metadata": {},
   "outputs": [],
   "source": [
    "#Токинизируем.  Отрежем конец комментария, если он слишком длинный\n",
    "tokenized = batch_1.apply(lambda x: tokenizer.encode(x[:512], add_special_tokens=True))"
   ]
  },
  {
   "cell_type": "code",
   "execution_count": 43,
   "metadata": {},
   "outputs": [],
   "source": [
    "#найдем максимум\n",
    "max_len = 0\n",
    "for i in tokenized.values:\n",
    "    if len(i) > max_len:\n",
    "        max_len = len(i)"
   ]
  },
  {
   "cell_type": "code",
   "execution_count": 44,
   "metadata": {},
   "outputs": [],
   "source": [
    "#соберем аррей по максимально длинне\n",
    "padded = np.array([i + [0]*(max_len - len(i)) for i in tokenized.values])\n",
    "\n",
    "#создадим маску\n",
    "attention_mask = np.where(padded != 0, 1, 0)"
   ]
  },
  {
   "cell_type": "code",
   "execution_count": 45,
   "metadata": {},
   "outputs": [
    {
     "data": {
      "application/vnd.jupyter.widget-view+json": {
       "model_id": "5479dbdf5ae7467f8e03256aeb3c6a87",
       "version_major": 2,
       "version_minor": 0
      },
      "text/plain": [
       "HBox(children=(FloatProgress(value=0.0, max=30.0), HTML(value='')))"
      ]
     },
     "metadata": {},
     "output_type": "display_data"
    },
    {
     "name": "stdout",
     "output_type": "stream",
     "text": [
      "\n"
     ]
    }
   ],
   "source": [
    "#кусочками по 100 обработаем\n",
    "\n",
    "batch_size = 100\n",
    "embeddings = []\n",
    "for i in notebook.tqdm(range(padded.shape[0] // batch_size)):\n",
    "        batch = torch.LongTensor(padded[batch_size*i:batch_size*(i+1)]) \n",
    "        attention_mask_batch = torch.LongTensor(attention_mask[batch_size*i:batch_size*(i+1)])\n",
    "        \n",
    "        with torch.no_grad():\n",
    "            batch_embeddings = model(batch, attention_mask=attention_mask_batch)\n",
    "        \n",
    "        embeddings.append(batch_embeddings[0][:,0,:].numpy())"
   ]
  },
  {
   "cell_type": "code",
   "execution_count": 46,
   "metadata": {},
   "outputs": [],
   "source": [
    "# соединим в features\n",
    "features_bert = np.concatenate(embeddings)"
   ]
  },
  {
   "cell_type": "code",
   "execution_count": 47,
   "metadata": {},
   "outputs": [
    {
     "data": {
      "text/plain": [
       "((3000, 768), (3000,))"
      ]
     },
     "execution_count": 47,
     "metadata": {},
     "output_type": "execute_result"
    }
   ],
   "source": [
    "# проверим размерность\n",
    "features_bert.shape , target_bert.shape"
   ]
  },
  {
   "cell_type": "code",
   "execution_count": 48,
   "metadata": {},
   "outputs": [],
   "source": [
    "#разбиваем на train и валид. стратифицируем\n",
    "features_train_bert, features_valid_bert, target_train_bert, target_valid_bert = train_test_split(features_bert, target_bert , test_size=0.25, \n",
    "                                                                              random_state=515093, stratify = target_bert)\n"
   ]
  },
  {
   "cell_type": "code",
   "execution_count": 49,
   "metadata": {},
   "outputs": [
    {
     "name": "stdout",
     "output_type": "stream",
     "text": [
      "{'C': 1}\n"
     ]
    }
   ],
   "source": [
    "# находим лучшие параметры, не забываем что у нас дисбаланс классов (class_weight = 'balanced')\n",
    "param_grid = {'C': [0.001, 0.01, 0.1, 1, 10, 100, 1000] }\n",
    "clf = GridSearchCV(LogisticRegression(penalty='l2', class_weight = 'balanced', random_state = 1234), param_grid, scoring = 'f1')\n",
    "\n",
    "clf.fit(features_train_bert, target_train_bert)\n",
    "print(clf.best_params_)"
   ]
  },
  {
   "cell_type": "code",
   "execution_count": 50,
   "metadata": {},
   "outputs": [
    {
     "data": {
      "image/png": "[encoded data removed]",
      "text/plain": [
       "<Figure size 720x216 with 1 Axes>"
      ]
     },
     "metadata": {},
     "output_type": "display_data"
    }
   ],
   "source": [
    "# Проверяем на валидной выборке\n",
    "info_b = pd.DataFrame()\n",
    "\n",
    "lr_clf = LogisticRegression( n_jobs = -1, C = 1, random_state = 1234, penalty='l2', class_weight = 'balansed')\n",
    "info, predictions = put_in_base(info_b, lr_clf, features_train_bert, target_train_bert, features_valid_bert,\n",
    "                                target_valid_bert)\n",
    "param_bars(info_b[info_b.index == 'LogisticRegression'],'LogisticRegression Valid')"
   ]
  },
  {
   "cell_type": "markdown",
   "metadata": {},
   "source": [
    "## Вывод:\n",
    "\n",
    "Удалось обработать данные методом BERT, на части выборки, и в результате получить F1 - 0.62."
   ]
  },
  {
   "cell_type": "markdown",
   "metadata": {},
   "source": [
    "# Чек-лист проверки"
   ]
  },
  {
   "cell_type": "markdown",
   "metadata": {},
   "source": [
    "- [x]  Jupyter Notebook открыт\n",
    "- [x]  Весь код выполняется без ошибок\n",
    "- [x]  Ячейки с кодом расположены в порядке исполнения\n",
    "- [x]  Данные загружены и подготовлены\n",
    "- [x]  Модели обучены\n",
    "- [x]  Значение метрики *F1* не меньше 0.75\n",
    "- [x]  Выводы написаны"
   ]
  }
 ],
 "metadata": {
  "kernelspec": {
   "display_name": "Python 3",
   "language": "python",
   "name": "python3"
  },
  "language_info": {
   "codemirror_mode": {
    "name": "ipython",
    "version": 3
   },
   "file_extension": ".py",
   "mimetype": "text/x-python",
   "name": "python",
   "nbconvert_exporter": "python",
   "pygments_lexer": "ipython3",
   "version": "3.7.6"
  },
  "toc": {
   "base_numbering": 1,
   "nav_menu": {},
   "number_sections": true,
   "sideBar": true,
   "skip_h1_title": false,
   "title_cell": "Table of Contents",
   "title_sidebar": "Contents",
   "toc_cell": false,
   "toc_position": {},
   "toc_section_display": true,
   "toc_window_display": false
  }
 },
 "nbformat": 4,
 "nbformat_minor": 2
}
