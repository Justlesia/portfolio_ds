{
 "cells": [
  {
   "cell_type": "markdown",
   "metadata": {},
   "source": [
    "<div class=\"alert alert-success\">\n",
    "<h2> Комментарий наставника</h2>\n",
    "\n",
    "Привет! Спасибо, что прислала задание:) Меня зовут Слепцов Артем и я буду проверять твой проект) Ты проделала большую работу над проектом, однако его еще можно улучшить. Извини за задержку при проверке(\n",
    "\n",
    "Мои комментарии обозначены пометкой **Комментарий наставника**. Далее в файле ты сможешь найти их в похожих ячейках (если фон комментария <font color=green>зелёный</font> - всё сделано правильно; <font color=orange>оранжевый</font> - есть замечания, но не критично, воспринимай их в качестве рекомендаций; <font color=red>красный</font> - нужно переделать). Не удаляй эти комментарии и постарайся учесть их в ходе выполнения данного проекта. \n",
    "\n",
    "</div>"
   ]
  },
  {
   "cell_type": "markdown",
   "metadata": {},
   "source": [
    "# Определение перспективного тарифа для телеком компании\n",
    "<br>\n",
    "\n",
    "## Описание проекта\n",
    "\n",
    "Вы аналитик компании «Мегалайн» — федерального оператора сотовой связи. Клиентам предлагают два тарифных плана: «Смарт» и «Ультра». Чтобы скорректировать рекламный бюджет, коммерческий департамент хочет понять, какой тариф приносит больше денег.\n",
    "<br>\n",
    "Вам предстоит сделать предварительный анализ тарифов на небольшой выборке клиентов. В вашем распоряжении данные 500 пользователей «Мегалайна»: кто они, откуда, каким тарифом пользуются, сколько звонков и сообщений каждый отправил за 2018 год. Нужно проанализировать поведение клиентов и сделать вывод — какой тариф лучше.\n",
    "\n",
    "### Описание тарифов\n",
    "#### Тариф «Смарт»\n",
    "* Ежемесячная плата: 550 рублей\n",
    "* Включено 500 минут разговора, 50 сообщений и 15 Гб интернет-трафика\n",
    "* Стоимость услуг сверх тарифного пакета:\n",
    "* \t\tминута разговора: 3 рубля\n",
    "* \t\tсообщение: 3 рубля\n",
    "* \t\t1 Гб интернет-трафика: 200 рублей\n",
    "\n",
    "#### Тариф «Ультра»\n",
    "* Ежемесячная плата: 1950 рублей\n",
    "* Включено 3000 минут разговора, 1000 сообщений и 30 Гб интернет-трафика\n",
    "* Стоимость услуг сверх тарифного пакета:\n",
    "* \t\tминута разговора: 1 рубль\n",
    "* \t\tсообщение: 1 рубль\n",
    "* \t\t1 Гб интернет-трафика: 150 рублей\n",
    "\n",
    "<b>Обратите внимание</b>: «Мегалайн» всегда округляет вверх значения минут и мегабайтов. Если пользователь проговорил всего 1 секунду, в тарифе засчитывается целая минута."
   ]
  },
  {
   "cell_type": "markdown",
   "metadata": {},
   "source": [
    "### Краткий план работы:\n",
    "\n",
    "#### Шаг 1. Откройте файл с данными и изучите общую информацию\n",
    "#### Шаг 2. Подготовьте данные\n",
    "* Приведите данные к нужным типам;\n",
    "* Найдите и исправьте ошибки в данных.\n",
    "Посчитайте для каждого пользователя:\n",
    "* Количество сделанных звонков и израсходованных минут разговора по месяцам;\n",
    "* Количество отправленных сообщений по месяцам;\n",
    "* Объем израсходованного интернет-трафика по месяцам;\n",
    "* Помесячную выручку с каждого пользователя (вычтите бесплатный лимит из суммарного количества звонков, сообщений и интернет-трафика; остаток умножьте на значение из тарифного плана; прибавьте абонентскую плату, соответствующую тарифному плану).\n",
    "#### Шаг 3. Проанализируйте данные\n",
    "* Опишите поведение клиентов оператора, исходя из выборки. \n",
    "* Сколько минут разговора, сколько сообщений и какой объём интернет-трафика требуется пользователям каждого тарифа в месяц? \n",
    "* Посчитайте среднее количество, дисперсию и стандартное отклонение. \n",
    "* Постройте гистограммы. \n",
    "* Опишите распределения.\n",
    "#### Шаг 4. Проверьте гипотезы\n",
    "* Средняя выручка пользователей тарифов «Ультра» и «Смарт» различается;\n",
    "* Средняя выручка пользователей из Москвы отличается от выручки пользователей из других регионов;\n",
    "#### Шаг 5. Напишите общий вывод\n",
    "\n",
    "\n",
    "### Описание данных\n",
    "\n",
    "#### Таблица users (информация о пользователях):\n",
    "* \t\t*user_id* — уникальный идентификатор пользователя\n",
    "* \t\t*first_name* — имя пользователя\n",
    "* \t\t*last_name* — фамилия пользователя\n",
    "* \t\t*age* — возраст пользователя (годы)\n",
    "* \t\t*reg_date* — дата подключения тарифа (день, месяц, год)\n",
    "* \t\t*churn_date* — дата прекращения пользования тарифом (если значение пропущено, то тариф ещё действовал на момент выгрузки данных)\n",
    "* \t\t*city* — город проживания пользователя\n",
    "* \t\t*tariff* — название тарифного плана\n",
    "\n",
    "#### Таблица calls (информация о звонках):\n",
    "* \t\t*id* — уникальный номер звонка\n",
    "* \t\t*call_date* — дата звонка\n",
    "* \t\t*duration* — длительность звонка в минутах\n",
    "* \t\t*user_id* — идентификатор пользователя, сделавшего звонок\n",
    "\n",
    "#### Таблица messages (информация о сообщениях):\n",
    "* \t\t*id* — уникальный номер сообщения\n",
    "* \t\t*message_date* — дата сообщения\n",
    "* \t\t*user_id* — идентификатор пользователя, отправившего сообщение\n",
    "\n",
    "#### Таблица internet (информация об интернет-сессиях):\n",
    "* \t\t*id* — уникальный номер сессии\n",
    "* \t\t*mb_used* — объём потраченного за сессию интернет-трафика (в мегабайтах)\n",
    "* \t\t*session_date* — дата интернет-сессии\n",
    "* \t\t*user_id* — идентификатор пользователя\n",
    "\n",
    "#### Таблица tariffs (информация о тарифах):\n",
    "* \t\t*tariff_name* — название тарифа\n",
    "* \t\t*rub_monthly_fee* — ежемесячная абонентская плата в рублях\n",
    "* \t\t*minutes_included* — количество минут разговора в месяц, включённых в абонентскую плату\n",
    "* \t\t*messages_included* — количество сообщений в месяц, включённых в абонентскую плату\n",
    "* \t\t*mb_per_month_included* — объём интернет-трафика, включённого в абонентскую плату (в мегабайтах)\n",
    "* \t\t*rub_per_minute* — стоимость минуты разговора сверх тарифного пакета (например, если в тарифе 100 минут разговора в месяц, то со 101 минуты будет взиматься плата)\n",
    "* \t\t*rub_per_message* — стоимость отправки сообщения сверх тарифного пакета\n",
    "* \t\t*rub_per_gb* — стоимость дополнительного гигабайта интернет-трафика сверх тарифного пакета (1 гигабайт = 1024 мегабайта)\n"
   ]
  },
  {
   "cell_type": "markdown",
   "metadata": {},
   "source": [
    "<div class=\"alert alert-success\">\n",
    "<h2> Комментарий наставника</h2>\n",
    "\n",
    "Вступление в работу очень важно. Так ты поясняешь то, чему она посвящена.\n",
    "\n",
    "</div>"
   ]
  },
  {
   "cell_type": "markdown",
   "metadata": {},
   "source": [
    "## Шаг 1. Откройте файл с данными и изучите общую информацию"
   ]
  },
  {
   "cell_type": "code",
   "execution_count": 5,
   "metadata": {},
   "outputs": [],
   "source": [
    "#Импортируем все необходимые библиотеки\n",
    "import pandas as pd\n",
    "import matplotlib.pyplot as plt\n",
    "import matplotlib as mpt\n",
    "import seaborn as sns\n",
    "from termcolor import colored\n",
    "from scipy import stats as st\n",
    "import numpy as np"
   ]
  },
  {
   "cell_type": "code",
   "execution_count": 6,
   "metadata": {},
   "outputs": [],
   "source": [
    "#Определяем болд\n",
    "def bold(): \n",
    "    return \"\\033[1m\"\n",
    "\n",
    "def bold_end(): \n",
    "    return \"\\033[0m\"\n",
    "\n",
    "#Ставим формат для нумериков\n",
    "pd.options.display.float_format = '{: >10.2f}'.format"
   ]
  },
  {
   "cell_type": "code",
   "execution_count": 7,
   "metadata": {},
   "outputs": [],
   "source": [
    "#Достаем файлы\n",
    "df_calls = pd.read_csv('datasets/calls.csv', sep=',',decimal='.')\n",
    "df_internet = pd.read_csv('datasets/internet.csv', sep=',',decimal='.', index_col=0)\n",
    "df_messages = pd.read_csv('datasets/messages.csv', sep=',',decimal='.')\n",
    "df_tariffs = pd.read_csv('datasets/tariffs.csv', sep=',',decimal='.')\n",
    "df_users = pd.read_csv('datasets/users.csv', sep=',',decimal='.')"
   ]
  },
  {
   "cell_type": "markdown",
   "metadata": {},
   "source": [
    "___Сделаем функцию___\n",
    "\n",
    "\n",
    "Функция print_basic_info, для вывода информации о массиве, и его переменных.\n",
    "\n",
    "4 входных параметра\n",
    "\n",
    "* *base* - название базы данных\n",
    "* *info* - 1: вывод информации о массиве, другое: не вывод\n",
    "* *head* - n: вывод примера базы (вывод n - строк), n < 1: не вывод\n",
    "* *describe* - 1: вывод описания переменных массива, другое: не вывод"
   ]
  },
  {
   "cell_type": "code",
   "execution_count": 8,
   "metadata": {},
   "outputs": [],
   "source": [
    "def print_basic_info(base, info, head, describe):\n",
    "    if info == 1:\n",
    "        print(bold(), colored('info','green'), bold_end(), \"\\n\")\n",
    "        print( base.info())  \n",
    "    if head >= 1:\n",
    "        print(bold(),colored('head','green'),bold_end(),\"\\n\")\n",
    "        display(base.head(head))\n",
    "    if describe == 1:\n",
    "        for i in base.columns:\n",
    "            print(bold(), colored(i,'blue'),bold_end(), \"\\n\", base[i].unique())"
   ]
  },
  {
   "cell_type": "markdown",
   "metadata": {},
   "source": [
    "<div class=\"alert alert-success\">\n",
    "<h2> Комментарий наставника</h2>\n",
    "\n",
    "Описание функции часто вставляется в саму функцию. Однако и так вполне хорошо.  \n",
    "\n",
    "</div>"
   ]
  },
  {
   "cell_type": "markdown",
   "metadata": {},
   "source": [
    "___Смотрим файлы отдельно___"
   ]
  },
  {
   "cell_type": "markdown",
   "metadata": {},
   "source": [
    "___Таблица calls (информация о звонках):___"
   ]
  },
  {
   "cell_type": "code",
   "execution_count": 9,
   "metadata": {},
   "outputs": [
    {
     "name": "stdout",
     "output_type": "stream",
     "text": [
      "\u001b[1m \u001b[32minfo\u001b[0m \u001b[0m \n",
      "\n",
      "<class 'pandas.core.frame.DataFrame'>\n",
      "RangeIndex: 202607 entries, 0 to 202606\n",
      "Data columns (total 4 columns):\n",
      " #   Column     Non-Null Count   Dtype  \n",
      "---  ------     --------------   -----  \n",
      " 0   id         202607 non-null  object \n",
      " 1   call_date  202607 non-null  object \n",
      " 2   duration   202607 non-null  float64\n",
      " 3   user_id    202607 non-null  int64  \n",
      "dtypes: float64(1), int64(1), object(2)\n",
      "memory usage: 6.2+ MB\n",
      "None\n",
      "\u001b[1m \u001b[32mhead\u001b[0m \u001b[0m \n",
      "\n"
     ]
    },
    {
     "data": {
      "text/html": [
       "<div>\n",
       "<style scoped>\n",
       "    .dataframe tbody tr th:only-of-type {\n",
       "        vertical-align: middle;\n",
       "    }\n",
       "\n",
       "    .dataframe tbody tr th {\n",
       "        vertical-align: top;\n",
       "    }\n",
       "\n",
       "    .dataframe thead th {\n",
       "        text-align: right;\n",
       "    }\n",
       "</style>\n",
       "<table border=\"1\" class=\"dataframe\">\n",
       "  <thead>\n",
       "    <tr style=\"text-align: right;\">\n",
       "      <th></th>\n",
       "      <th>id</th>\n",
       "      <th>call_date</th>\n",
       "      <th>duration</th>\n",
       "      <th>user_id</th>\n",
       "    </tr>\n",
       "  </thead>\n",
       "  <tbody>\n",
       "    <tr>\n",
       "      <th>0</th>\n",
       "      <td>1000_0</td>\n",
       "      <td>2018-07-25</td>\n",
       "      <td>0.00</td>\n",
       "      <td>1000</td>\n",
       "    </tr>\n",
       "    <tr>\n",
       "      <th>1</th>\n",
       "      <td>1000_1</td>\n",
       "      <td>2018-08-17</td>\n",
       "      <td>0.00</td>\n",
       "      <td>1000</td>\n",
       "    </tr>\n",
       "    <tr>\n",
       "      <th>2</th>\n",
       "      <td>1000_2</td>\n",
       "      <td>2018-06-11</td>\n",
       "      <td>2.85</td>\n",
       "      <td>1000</td>\n",
       "    </tr>\n",
       "  </tbody>\n",
       "</table>\n",
       "</div>"
      ],
      "text/plain": [
       "       id   call_date   duration  user_id\n",
       "0  1000_0  2018-07-25       0.00     1000\n",
       "1  1000_1  2018-08-17       0.00     1000\n",
       "2  1000_2  2018-06-11       2.85     1000"
      ]
     },
     "metadata": {},
     "output_type": "display_data"
    }
   ],
   "source": [
    "#Инфо\n",
    "print_basic_info(df_calls,1,3,0)"
   ]
  },
  {
   "cell_type": "markdown",
   "metadata": {},
   "source": [
    "<div class=\"alert alert-warning\">\n",
    "<h2> Комментарий наставника</h2>\n",
    "\n",
    "Таблицы на печать выводи с помощью метода display. print переводит данные в строку, а нам этого не надо. \n",
    "\n",
    "</div>"
   ]
  },
  {
   "cell_type": "markdown",
   "metadata": {},
   "source": [
    "___Вывод:___\n",
    "\n",
    "Всего 202607 кейсов. Пропусков в заполнении нет. <br>\n",
    "Есть повторы в user_id - клиент сделал несколько звонков.<br>\n",
    "user_id по факту объект, а не инт. Необходимо поправить. Но скорее уже в финальном массиве.<br>\n",
    "call_date - Дата интеракции. Нужно привести к формату даты и выделить месяц. И проверить, что год только 2018.\n",
    "\n",
    "#### План предобработки по массиву:\n",
    "* Сначала надо убрать пустые.\n",
    "* Округлить до минут звонки __!вверх__\n",
    "* Посчитать сумму минут за месяц\n",
    "* Посчитать количество за месяц\n",
    "* Подгрузить к таблице users"
   ]
  },
  {
   "cell_type": "markdown",
   "metadata": {},
   "source": [
    "___Таблица internet (информация об интернет-сессиях):___"
   ]
  },
  {
   "cell_type": "code",
   "execution_count": 10,
   "metadata": {},
   "outputs": [
    {
     "name": "stdout",
     "output_type": "stream",
     "text": [
      "\u001b[1m \u001b[32minfo\u001b[0m \u001b[0m \n",
      "\n",
      "<class 'pandas.core.frame.DataFrame'>\n",
      "Int64Index: 149396 entries, 0 to 149395\n",
      "Data columns (total 4 columns):\n",
      " #   Column        Non-Null Count   Dtype  \n",
      "---  ------        --------------   -----  \n",
      " 0   id            149396 non-null  object \n",
      " 1   mb_used       149396 non-null  float64\n",
      " 2   session_date  149396 non-null  object \n",
      " 3   user_id       149396 non-null  int64  \n",
      "dtypes: float64(1), int64(1), object(2)\n",
      "memory usage: 5.7+ MB\n",
      "None\n",
      "\u001b[1m \u001b[32mhead\u001b[0m \u001b[0m \n",
      "\n"
     ]
    },
    {
     "data": {
      "text/html": [
       "<div>\n",
       "<style scoped>\n",
       "    .dataframe tbody tr th:only-of-type {\n",
       "        vertical-align: middle;\n",
       "    }\n",
       "\n",
       "    .dataframe tbody tr th {\n",
       "        vertical-align: top;\n",
       "    }\n",
       "\n",
       "    .dataframe thead th {\n",
       "        text-align: right;\n",
       "    }\n",
       "</style>\n",
       "<table border=\"1\" class=\"dataframe\">\n",
       "  <thead>\n",
       "    <tr style=\"text-align: right;\">\n",
       "      <th></th>\n",
       "      <th>id</th>\n",
       "      <th>mb_used</th>\n",
       "      <th>session_date</th>\n",
       "      <th>user_id</th>\n",
       "    </tr>\n",
       "  </thead>\n",
       "  <tbody>\n",
       "    <tr>\n",
       "      <th>0</th>\n",
       "      <td>1000_0</td>\n",
       "      <td>112.95</td>\n",
       "      <td>2018-11-25</td>\n",
       "      <td>1000</td>\n",
       "    </tr>\n",
       "    <tr>\n",
       "      <th>1</th>\n",
       "      <td>1000_1</td>\n",
       "      <td>1052.81</td>\n",
       "      <td>2018-09-07</td>\n",
       "      <td>1000</td>\n",
       "    </tr>\n",
       "    <tr>\n",
       "      <th>2</th>\n",
       "      <td>1000_2</td>\n",
       "      <td>1197.26</td>\n",
       "      <td>2018-06-25</td>\n",
       "      <td>1000</td>\n",
       "    </tr>\n",
       "  </tbody>\n",
       "</table>\n",
       "</div>"
      ],
      "text/plain": [
       "       id    mb_used session_date  user_id\n",
       "0  1000_0     112.95   2018-11-25     1000\n",
       "1  1000_1    1052.81   2018-09-07     1000\n",
       "2  1000_2    1197.26   2018-06-25     1000"
      ]
     },
     "metadata": {},
     "output_type": "display_data"
    }
   ],
   "source": [
    "#Инфо\n",
    "print_basic_info(df_internet,1,3,0)"
   ]
  },
  {
   "cell_type": "markdown",
   "metadata": {},
   "source": [
    "<div class=\"alert alert-warning\">\n",
    "<h2> Комментарий наставника</h2>\n",
    "\n",
    "Задав параметр index_col=0 метода read_csv, мы можем сделать данный столбец 'Unnamed: 0' индексом, коим он и является. \n",
    "\n",
    "</div>"
   ]
  },
  {
   "cell_type": "markdown",
   "metadata": {},
   "source": [
    "___Вывод :___\n",
    "\n",
    "Всего 149396 кейсов. Пропусков в заполнении нет. <br>\n",
    "Есть повторы в user_id - клиент заходил в интернет несколько раз.<br>\n",
    "user_id по факту обьект, а не инт. Необходимо поправить. Но скорее уже в финальном массиве.<br>\n",
    "call_date - Дата интеракции. Нужно привести к формату даты и выделить месяц. И проверить, что год только 2018<br>\n",
    "\n",
    "#### План предобработки по массиву:\n",
    "* Округлить до мегабайт !вверх\n",
    "* Посчитать сумму мегабайт за месяц\n",
    "* Посчитать количество заходов за месяц\n",
    "* Подгрузить к таблице users"
   ]
  },
  {
   "cell_type": "markdown",
   "metadata": {},
   "source": [
    "___Таблица messages (информация о сообщениях):___"
   ]
  },
  {
   "cell_type": "code",
   "execution_count": 11,
   "metadata": {},
   "outputs": [
    {
     "name": "stdout",
     "output_type": "stream",
     "text": [
      "\u001b[1m \u001b[32minfo\u001b[0m \u001b[0m \n",
      "\n",
      "<class 'pandas.core.frame.DataFrame'>\n",
      "RangeIndex: 123036 entries, 0 to 123035\n",
      "Data columns (total 3 columns):\n",
      " #   Column        Non-Null Count   Dtype \n",
      "---  ------        --------------   ----- \n",
      " 0   id            123036 non-null  object\n",
      " 1   message_date  123036 non-null  object\n",
      " 2   user_id       123036 non-null  int64 \n",
      "dtypes: int64(1), object(2)\n",
      "memory usage: 2.8+ MB\n",
      "None\n",
      "\u001b[1m \u001b[32mhead\u001b[0m \u001b[0m \n",
      "\n"
     ]
    },
    {
     "data": {
      "text/html": [
       "<div>\n",
       "<style scoped>\n",
       "    .dataframe tbody tr th:only-of-type {\n",
       "        vertical-align: middle;\n",
       "    }\n",
       "\n",
       "    .dataframe tbody tr th {\n",
       "        vertical-align: top;\n",
       "    }\n",
       "\n",
       "    .dataframe thead th {\n",
       "        text-align: right;\n",
       "    }\n",
       "</style>\n",
       "<table border=\"1\" class=\"dataframe\">\n",
       "  <thead>\n",
       "    <tr style=\"text-align: right;\">\n",
       "      <th></th>\n",
       "      <th>id</th>\n",
       "      <th>message_date</th>\n",
       "      <th>user_id</th>\n",
       "    </tr>\n",
       "  </thead>\n",
       "  <tbody>\n",
       "    <tr>\n",
       "      <th>0</th>\n",
       "      <td>1000_0</td>\n",
       "      <td>2018-06-27</td>\n",
       "      <td>1000</td>\n",
       "    </tr>\n",
       "    <tr>\n",
       "      <th>1</th>\n",
       "      <td>1000_1</td>\n",
       "      <td>2018-10-08</td>\n",
       "      <td>1000</td>\n",
       "    </tr>\n",
       "    <tr>\n",
       "      <th>2</th>\n",
       "      <td>1000_2</td>\n",
       "      <td>2018-08-04</td>\n",
       "      <td>1000</td>\n",
       "    </tr>\n",
       "  </tbody>\n",
       "</table>\n",
       "</div>"
      ],
      "text/plain": [
       "       id message_date  user_id\n",
       "0  1000_0   2018-06-27     1000\n",
       "1  1000_1   2018-10-08     1000\n",
       "2  1000_2   2018-08-04     1000"
      ]
     },
     "metadata": {},
     "output_type": "display_data"
    }
   ],
   "source": [
    "#Инфо\n",
    "print_basic_info(df_messages,1,3,0)"
   ]
  },
  {
   "cell_type": "markdown",
   "metadata": {},
   "source": [
    "___Вывод :___\n",
    "\n",
    "Всего 123036 кейсов. Пропусков в заполнении нет. <br>\n",
    "Есть повторы в user_id - клиент высылал несколько сообщений.<br>\n",
    "user_id по факту объект, а не инт. Необходимо поправить. Но скорее уже в финальном массиве.<br>\n",
    "call_date - Дата интеракции. Нужно привести к формату даты и выделить месяц. И проверить, что год только 2018<br>\n",
    "\n",
    "#### План предобработки по массиву:\n",
    "* Посчитать количество смс за месяц\n",
    "* Подгрузить к таблице users"
   ]
  },
  {
   "cell_type": "markdown",
   "metadata": {},
   "source": [
    "___Таблица tariffs (информация о тарифах):___"
   ]
  },
  {
   "cell_type": "code",
   "execution_count": 12,
   "metadata": {},
   "outputs": [
    {
     "name": "stdout",
     "output_type": "stream",
     "text": [
      "\u001b[1m \u001b[32minfo\u001b[0m \u001b[0m \n",
      "\n",
      "<class 'pandas.core.frame.DataFrame'>\n",
      "RangeIndex: 2 entries, 0 to 1\n",
      "Data columns (total 8 columns):\n",
      " #   Column                 Non-Null Count  Dtype \n",
      "---  ------                 --------------  ----- \n",
      " 0   messages_included      2 non-null      int64 \n",
      " 1   mb_per_month_included  2 non-null      int64 \n",
      " 2   minutes_included       2 non-null      int64 \n",
      " 3   rub_monthly_fee        2 non-null      int64 \n",
      " 4   rub_per_gb             2 non-null      int64 \n",
      " 5   rub_per_message        2 non-null      int64 \n",
      " 6   rub_per_minute         2 non-null      int64 \n",
      " 7   tariff_name            2 non-null      object\n",
      "dtypes: int64(7), object(1)\n",
      "memory usage: 256.0+ bytes\n",
      "None\n",
      "\u001b[1m \u001b[32mhead\u001b[0m \u001b[0m \n",
      "\n"
     ]
    },
    {
     "data": {
      "text/html": [
       "<div>\n",
       "<style scoped>\n",
       "    .dataframe tbody tr th:only-of-type {\n",
       "        vertical-align: middle;\n",
       "    }\n",
       "\n",
       "    .dataframe tbody tr th {\n",
       "        vertical-align: top;\n",
       "    }\n",
       "\n",
       "    .dataframe thead th {\n",
       "        text-align: right;\n",
       "    }\n",
       "</style>\n",
       "<table border=\"1\" class=\"dataframe\">\n",
       "  <thead>\n",
       "    <tr style=\"text-align: right;\">\n",
       "      <th></th>\n",
       "      <th>messages_included</th>\n",
       "      <th>mb_per_month_included</th>\n",
       "      <th>minutes_included</th>\n",
       "      <th>rub_monthly_fee</th>\n",
       "      <th>rub_per_gb</th>\n",
       "      <th>rub_per_message</th>\n",
       "      <th>rub_per_minute</th>\n",
       "      <th>tariff_name</th>\n",
       "    </tr>\n",
       "  </thead>\n",
       "  <tbody>\n",
       "    <tr>\n",
       "      <th>0</th>\n",
       "      <td>50</td>\n",
       "      <td>15360</td>\n",
       "      <td>500</td>\n",
       "      <td>550</td>\n",
       "      <td>200</td>\n",
       "      <td>3</td>\n",
       "      <td>3</td>\n",
       "      <td>smart</td>\n",
       "    </tr>\n",
       "    <tr>\n",
       "      <th>1</th>\n",
       "      <td>1000</td>\n",
       "      <td>30720</td>\n",
       "      <td>3000</td>\n",
       "      <td>1950</td>\n",
       "      <td>150</td>\n",
       "      <td>1</td>\n",
       "      <td>1</td>\n",
       "      <td>ultra</td>\n",
       "    </tr>\n",
       "  </tbody>\n",
       "</table>\n",
       "</div>"
      ],
      "text/plain": [
       "   messages_included  mb_per_month_included  minutes_included  \\\n",
       "0                 50                  15360               500   \n",
       "1               1000                  30720              3000   \n",
       "\n",
       "   rub_monthly_fee  rub_per_gb  rub_per_message  rub_per_minute tariff_name  \n",
       "0              550         200                3               3       smart  \n",
       "1             1950         150                1               1       ultra  "
      ]
     },
     "metadata": {},
     "output_type": "display_data"
    }
   ],
   "source": [
    "#Инфо\n",
    "print_basic_info(df_tariffs,1,3,0)"
   ]
  },
  {
   "cell_type": "markdown",
   "metadata": {},
   "source": [
    "___Вывод :___\n",
    "\n",
    "Всего 2 кейса. По факту словарь c информацией о тарифах <br>\n",
    "\n",
    "#### План предобработки по массиву:\n",
    "* Сверить информацию в таблице с описанием тарифа \n",
    "* Подгрузить к таблице users на основе названия тарифа"
   ]
  },
  {
   "cell_type": "markdown",
   "metadata": {},
   "source": [
    "___Таблица users (информация о пользователях):___"
   ]
  },
  {
   "cell_type": "code",
   "execution_count": 13,
   "metadata": {},
   "outputs": [
    {
     "name": "stdout",
     "output_type": "stream",
     "text": [
      "\u001b[1m \u001b[32minfo\u001b[0m \u001b[0m \n",
      "\n",
      "<class 'pandas.core.frame.DataFrame'>\n",
      "RangeIndex: 500 entries, 0 to 499\n",
      "Data columns (total 8 columns):\n",
      " #   Column      Non-Null Count  Dtype \n",
      "---  ------      --------------  ----- \n",
      " 0   user_id     500 non-null    int64 \n",
      " 1   age         500 non-null    int64 \n",
      " 2   churn_date  38 non-null     object\n",
      " 3   city        500 non-null    object\n",
      " 4   first_name  500 non-null    object\n",
      " 5   last_name   500 non-null    object\n",
      " 6   reg_date    500 non-null    object\n",
      " 7   tariff      500 non-null    object\n",
      "dtypes: int64(2), object(6)\n",
      "memory usage: 31.4+ KB\n",
      "None\n",
      "\u001b[1m \u001b[32mhead\u001b[0m \u001b[0m \n",
      "\n"
     ]
    },
    {
     "data": {
      "text/html": [
       "<div>\n",
       "<style scoped>\n",
       "    .dataframe tbody tr th:only-of-type {\n",
       "        vertical-align: middle;\n",
       "    }\n",
       "\n",
       "    .dataframe tbody tr th {\n",
       "        vertical-align: top;\n",
       "    }\n",
       "\n",
       "    .dataframe thead th {\n",
       "        text-align: right;\n",
       "    }\n",
       "</style>\n",
       "<table border=\"1\" class=\"dataframe\">\n",
       "  <thead>\n",
       "    <tr style=\"text-align: right;\">\n",
       "      <th></th>\n",
       "      <th>user_id</th>\n",
       "      <th>age</th>\n",
       "      <th>churn_date</th>\n",
       "      <th>city</th>\n",
       "      <th>first_name</th>\n",
       "      <th>last_name</th>\n",
       "      <th>reg_date</th>\n",
       "      <th>tariff</th>\n",
       "    </tr>\n",
       "  </thead>\n",
       "  <tbody>\n",
       "    <tr>\n",
       "      <th>0</th>\n",
       "      <td>1000</td>\n",
       "      <td>52</td>\n",
       "      <td>NaN</td>\n",
       "      <td>Краснодар</td>\n",
       "      <td>Рафаил</td>\n",
       "      <td>Верещагин</td>\n",
       "      <td>2018-05-25</td>\n",
       "      <td>ultra</td>\n",
       "    </tr>\n",
       "    <tr>\n",
       "      <th>1</th>\n",
       "      <td>1001</td>\n",
       "      <td>41</td>\n",
       "      <td>NaN</td>\n",
       "      <td>Москва</td>\n",
       "      <td>Иван</td>\n",
       "      <td>Ежов</td>\n",
       "      <td>2018-11-01</td>\n",
       "      <td>smart</td>\n",
       "    </tr>\n",
       "    <tr>\n",
       "      <th>2</th>\n",
       "      <td>1002</td>\n",
       "      <td>59</td>\n",
       "      <td>NaN</td>\n",
       "      <td>Стерлитамак</td>\n",
       "      <td>Евгений</td>\n",
       "      <td>Абрамович</td>\n",
       "      <td>2018-06-17</td>\n",
       "      <td>smart</td>\n",
       "    </tr>\n",
       "  </tbody>\n",
       "</table>\n",
       "</div>"
      ],
      "text/plain": [
       "   user_id  age churn_date         city first_name  last_name    reg_date  \\\n",
       "0     1000   52        NaN    Краснодар     Рафаил  Верещагин  2018-05-25   \n",
       "1     1001   41        NaN       Москва       Иван       Ежов  2018-11-01   \n",
       "2     1002   59        NaN  Стерлитамак    Евгений  Абрамович  2018-06-17   \n",
       "\n",
       "  tariff  \n",
       "0  ultra  \n",
       "1  smart  \n",
       "2  smart  "
      ]
     },
     "metadata": {},
     "output_type": "display_data"
    }
   ],
   "source": [
    "#Инфо:\n",
    "print_basic_info(df_users,1,3,0)"
   ]
  },
  {
   "cell_type": "markdown",
   "metadata": {},
   "source": [
    "___Вывод :___\n",
    "\n",
    "Всего 500 кейсов. <br>\n",
    "Есть пропуски в переменной churn_date (дата прекращения пользования тарифом). Однако есть пометка, что если значение пропущено, то тариф ещё действовал на момент выгрузки данных <br>\n",
    "user_id по факту объект, а не инт. Необходимо поправить.<br>\n",
    "reg_date и churn_date - дата подключения тарифа и дата прекращения пользования тарифом. Нужно привести к формату даты.<br>\n",
    "\n",
    "#### План предобработки по массиву:\n",
    "* user_id - проверить на уникальность\n",
    "* user_id - перевести в формат объект\n",
    "* reg_date - перевести в формат даты\n",
    "\n",
    "После чего база будет готова к подгрузке информации о смс, интернете, телефонных звонках и описания тарифа.<br>\n",
    "Далее сможем рассчитать необходимые доп. переменные:\n",
    "* \t\tколичество сделанных звонков и израсходованных минут разговора по месяцам;\n",
    "* \t\tколичество отправленных сообщений по месяцам;\n",
    "* \t\tобъем израсходованного интернет-трафика по месяцам;\n",
    "* \t\tпомесячную выручку с каждого пользователя \n"
   ]
  },
  {
   "cell_type": "markdown",
   "metadata": {},
   "source": [
    "<div class=\"alert alert-success\">\n",
    "<h2> Комментарий наставника</h2>\n",
    "\n",
    "Подумай также о возможных причинах появления ошибок в данных, а также о том, являются ли они случайными или нет. Можно высказать предварительные варианты их обработки. \n",
    "\n",
    "Первый взгляд на таблицы выполнен. Здорово, что по каждому параметру приведен план дальнейших действий. \n",
    "\n",
    "</div>"
   ]
  },
  {
   "cell_type": "markdown",
   "metadata": {},
   "source": [
    "## Шаг 2. Подготовьте данные"
   ]
  },
  {
   "cell_type": "markdown",
   "metadata": {},
   "source": [
    "#### Делаем функции (для удобства)\n",
    "\n",
    "Функция ____ft_namecount___, для вывода названия переменной, частотной нормированной таблицы и описания переменной.\n",
    "\n",
    "5 входных параметров\n",
    "\n",
    "* base - название базы данных\n",
    "* index - название переменной в базе\n",
    "* table - 1: вывод частотной нормированной таблицы, 0: не вывод\n",
    "* sort - 1: сортировка таблицы по лейблам переменной, 0: не сортировка\n",
    "* describe - 1: вывод описания переменной, 0: не вывод"
   ]
  },
  {
   "cell_type": "code",
   "execution_count": 14,
   "metadata": {},
   "outputs": [],
   "source": [
    "def ft_name_count (base, name , table, sort, describe):\n",
    "    print(bold(), colored(name,'blue') , bold_end(), \"\\n\")\n",
    "    if table != 0:\n",
    "        s = (base[name].value_counts(normalize=True))\n",
    "        if sort != 0:\n",
    "            s.sort_index(inplace=True)\n",
    "        print(s)\n",
    "    if describe != 0:\n",
    "        print(base[name].describe())"
   ]
  },
  {
   "cell_type": "markdown",
   "metadata": {},
   "source": [
    "Работать будет с базами последовательно.\n",
    "\n",
    "Начнем с проверки \"основной\" базы, чтобы потом к ней спокойно подливать информацию из других.\n",
    "### Таблица users (информация о пользователях):\n",
    "\n",
    "* *Приводим данные к нужным типам*\n",
    "* *Находим и исправляем ошибки в данных*"
   ]
  },
  {
   "cell_type": "markdown",
   "metadata": {},
   "source": [
    "*Приводим данные к нужным типам*\n"
   ]
  },
  {
   "cell_type": "code",
   "execution_count": 15,
   "metadata": {},
   "outputs": [
    {
     "name": "stdout",
     "output_type": "stream",
     "text": [
      "\u001b[1m \u001b[32minfo\u001b[0m \u001b[0m \n",
      "\n",
      "<class 'pandas.core.frame.DataFrame'>\n",
      "RangeIndex: 500 entries, 0 to 499\n",
      "Data columns (total 12 columns):\n",
      " #   Column       Non-Null Count  Dtype         \n",
      "---  ------       --------------  -----         \n",
      " 0   user_id      500 non-null    object        \n",
      " 1   age          500 non-null    int64         \n",
      " 2   churn_date   38 non-null     datetime64[ns]\n",
      " 3   city         500 non-null    object        \n",
      " 4   first_name   500 non-null    object        \n",
      " 5   last_name    500 non-null    object        \n",
      " 6   reg_date     500 non-null    datetime64[ns]\n",
      " 7   tariff       500 non-null    object        \n",
      " 8   reg_year     500 non-null    int64         \n",
      " 9   reg_month    500 non-null    int64         \n",
      " 10  churn_year   38 non-null     float64       \n",
      " 11  churn_month  38 non-null     float64       \n",
      "dtypes: datetime64[ns](2), float64(2), int64(3), object(5)\n",
      "memory usage: 47.0+ KB\n",
      "None\n",
      "\u001b[1m \u001b[32mhead\u001b[0m \u001b[0m \n",
      "\n"
     ]
    },
    {
     "data": {
      "text/html": [
       "<div>\n",
       "<style scoped>\n",
       "    .dataframe tbody tr th:only-of-type {\n",
       "        vertical-align: middle;\n",
       "    }\n",
       "\n",
       "    .dataframe tbody tr th {\n",
       "        vertical-align: top;\n",
       "    }\n",
       "\n",
       "    .dataframe thead th {\n",
       "        text-align: right;\n",
       "    }\n",
       "</style>\n",
       "<table border=\"1\" class=\"dataframe\">\n",
       "  <thead>\n",
       "    <tr style=\"text-align: right;\">\n",
       "      <th></th>\n",
       "      <th>user_id</th>\n",
       "      <th>age</th>\n",
       "      <th>churn_date</th>\n",
       "      <th>city</th>\n",
       "      <th>first_name</th>\n",
       "      <th>last_name</th>\n",
       "      <th>reg_date</th>\n",
       "      <th>tariff</th>\n",
       "      <th>reg_year</th>\n",
       "      <th>reg_month</th>\n",
       "      <th>churn_year</th>\n",
       "      <th>churn_month</th>\n",
       "    </tr>\n",
       "  </thead>\n",
       "  <tbody>\n",
       "    <tr>\n",
       "      <th>0</th>\n",
       "      <td>1000</td>\n",
       "      <td>52</td>\n",
       "      <td>NaT</td>\n",
       "      <td>Краснодар</td>\n",
       "      <td>Рафаил</td>\n",
       "      <td>Верещагин</td>\n",
       "      <td>2018-05-25</td>\n",
       "      <td>ultra</td>\n",
       "      <td>2018</td>\n",
       "      <td>5</td>\n",
       "      <td>nan</td>\n",
       "      <td>nan</td>\n",
       "    </tr>\n",
       "    <tr>\n",
       "      <th>1</th>\n",
       "      <td>1001</td>\n",
       "      <td>41</td>\n",
       "      <td>NaT</td>\n",
       "      <td>Москва</td>\n",
       "      <td>Иван</td>\n",
       "      <td>Ежов</td>\n",
       "      <td>2018-11-01</td>\n",
       "      <td>smart</td>\n",
       "      <td>2018</td>\n",
       "      <td>11</td>\n",
       "      <td>nan</td>\n",
       "      <td>nan</td>\n",
       "    </tr>\n",
       "    <tr>\n",
       "      <th>2</th>\n",
       "      <td>1002</td>\n",
       "      <td>59</td>\n",
       "      <td>NaT</td>\n",
       "      <td>Стерлитамак</td>\n",
       "      <td>Евгений</td>\n",
       "      <td>Абрамович</td>\n",
       "      <td>2018-06-17</td>\n",
       "      <td>smart</td>\n",
       "      <td>2018</td>\n",
       "      <td>6</td>\n",
       "      <td>nan</td>\n",
       "      <td>nan</td>\n",
       "    </tr>\n",
       "  </tbody>\n",
       "</table>\n",
       "</div>"
      ],
      "text/plain": [
       "  user_id  age churn_date         city first_name  last_name   reg_date  \\\n",
       "0    1000   52        NaT    Краснодар     Рафаил  Верещагин 2018-05-25   \n",
       "1    1001   41        NaT       Москва       Иван       Ежов 2018-11-01   \n",
       "2    1002   59        NaT  Стерлитамак    Евгений  Абрамович 2018-06-17   \n",
       "\n",
       "  tariff  reg_year  reg_month  churn_year  churn_month  \n",
       "0  ultra      2018          5         nan          nan  \n",
       "1  smart      2018         11         nan          nan  \n",
       "2  smart      2018          6         nan          nan  "
      ]
     },
     "metadata": {},
     "output_type": "display_data"
    }
   ],
   "source": [
    "# Обьект\n",
    "df_users['user_id'] = df_users[\n",
    "    'user_id'].astype('object')\n",
    "\n",
    "# Дата\n",
    "df_users['churn_date'] = pd.to_datetime(df_users[\n",
    "    'churn_date'], format='%Y-%m-%d')\n",
    "df_users['reg_date'] = pd.to_datetime(df_users[\n",
    "    'reg_date'], format='%Y-%m-%d')\n",
    "\n",
    "# Сразу выделим месяц и год подключения и отключения\n",
    "df_users['reg_year'] = df_users['reg_date'].dt.year\n",
    "df_users['reg_month'] = df_users['reg_date'].dt.month\n",
    "\n",
    "df_users['churn_year'] = df_users['churn_date'].dt.year\n",
    "df_users['churn_month'] = df_users['churn_date'].dt.month\n",
    "\n",
    "# Проверяем\n",
    "print_basic_info(df_users,1,3,0)"
   ]
  },
  {
   "cell_type": "markdown",
   "metadata": {},
   "source": [
    "*Находим и исправляем ошибки в данных*"
   ]
  },
  {
   "cell_type": "markdown",
   "metadata": {},
   "source": [
    "___user_id — уникальный идентификатор пользователя___"
   ]
  },
  {
   "cell_type": "code",
   "execution_count": 16,
   "metadata": {},
   "outputs": [
    {
     "name": "stdout",
     "output_type": "stream",
     "text": [
      "\u001b[1m \u001b[34muser_id\u001b[0m \u001b[0m \n",
      "\n",
      "count      500\n",
      "unique     500\n",
      "top       1023\n",
      "freq         1\n",
      "Name: user_id, dtype: int64\n"
     ]
    }
   ],
   "source": [
    "ft_name_count(df_users,\"user_id\", 0,0,1)\n",
    "#все значения уникальны! прекрасно!"
   ]
  },
  {
   "cell_type": "markdown",
   "metadata": {},
   "source": [
    "Имя и фамилия имеют быть право какими угодно. Проверять не будем.\n",
    "\n",
    "смотрим ___Возраст___"
   ]
  },
  {
   "cell_type": "code",
   "execution_count": 17,
   "metadata": {},
   "outputs": [
    {
     "name": "stdout",
     "output_type": "stream",
     "text": [
      "\u001b[1m \u001b[34mage\u001b[0m \u001b[0m \n",
      "\n",
      "count       500.00\n",
      "mean         46.59\n",
      "std          16.67\n",
      "min          18.00\n",
      "25%          32.00\n",
      "50%          46.00\n",
      "75%          62.00\n",
      "max          75.00\n",
      "Name: age, dtype: float64\n"
     ]
    }
   ],
   "source": [
    "ft_name_count(df_users,\"age\", 0,0,1)\n",
    "#Возраст с 18 лет! Выбросов нет! Хорошо!"
   ]
  },
  {
   "cell_type": "markdown",
   "metadata": {},
   "source": [
    "___дата подключения тарифа и дата прекращения пользования тарифом___\n",
    "\n",
    "___смотрим новые переменные (reg_year, reg_month, churn_year, churn_month)___"
   ]
  },
  {
   "cell_type": "code",
   "execution_count": 18,
   "metadata": {},
   "outputs": [
    {
     "name": "stdout",
     "output_type": "stream",
     "text": [
      "\u001b[1m \u001b[34mreg_year\u001b[0m \u001b[0m \n",
      "\n",
      "2018         1.00\n",
      "Name: reg_year, dtype: float64\n",
      "\u001b[1m \u001b[34mreg_month\u001b[0m \u001b[0m \n",
      "\n",
      "1          0.09\n",
      "2          0.08\n",
      "3          0.06\n",
      "4          0.11\n",
      "5          0.08\n",
      "6          0.08\n",
      "7          0.09\n",
      "8          0.10\n",
      "9          0.07\n",
      "10         0.09\n",
      "11         0.08\n",
      "12         0.07\n",
      "Name: reg_month, dtype: float64\n",
      "\u001b[1m \u001b[34mchurn_year\u001b[0m \u001b[0m \n",
      "\n",
      "2018.00         1.00\n",
      "Name: churn_year, dtype: float64\n",
      "\u001b[1m \u001b[34mchurn_month\u001b[0m \u001b[0m \n",
      "\n",
      " 8.00         0.05\n",
      " 9.00         0.08\n",
      "10.00         0.24\n",
      "11.00         0.21\n",
      "12.00         0.42\n",
      "Name: churn_month, dtype: float64\n"
     ]
    }
   ],
   "source": [
    "ft_name_count(df_users,\"reg_year\", 1,1,0)\n",
    "ft_name_count(df_users,\"reg_month\", 1,1,0)\n",
    "\n",
    "ft_name_count(df_users,\"churn_year\", 1,1,0)\n",
    "ft_name_count(df_users,\"churn_month\", 1,1,0)\n",
    "\n",
    "#Странных значений нет. хорошо"
   ]
  },
  {
   "cell_type": "markdown",
   "metadata": {},
   "source": [
    "___city___"
   ]
  },
  {
   "cell_type": "code",
   "execution_count": 19,
   "metadata": {},
   "outputs": [
    {
     "name": "stdout",
     "output_type": "stream",
     "text": [
      "\u001b[1m \u001b[34mcity\u001b[0m \u001b[0m \n",
      "\n",
      "Москва                  0.20\n",
      "Санкт-Петербург         0.08\n",
      "Новосибирск             0.03\n",
      "Казань                  0.03\n",
      "Омск                    0.03\n",
      "                     ...    \n",
      "Иваново                 0.00\n",
      "Архангельск             0.00\n",
      "Химки                   0.00\n",
      "Подольск                0.00\n",
      "Нижневартовск           0.00\n",
      "Name: city, Length: 76, dtype: float64\n"
     ]
    }
   ],
   "source": [
    "ft_name_count(df_users,\"city\", 1,0,0)\n",
    "\n",
    "#переменная нормальная, написание непобилось. Больше всего МСК и СПБ."
   ]
  },
  {
   "cell_type": "markdown",
   "metadata": {},
   "source": [
    "___tariff___"
   ]
  },
  {
   "cell_type": "code",
   "execution_count": 20,
   "metadata": {},
   "outputs": [
    {
     "name": "stdout",
     "output_type": "stream",
     "text": [
      "\u001b[1m \u001b[34mtariff\u001b[0m \u001b[0m \n",
      "\n",
      "smart         0.70\n",
      "ultra         0.30\n",
      "Name: tariff, dtype: float64\n"
     ]
    }
   ],
   "source": [
    "ft_name_count(df_users,\"tariff\", 1,0,0)\n",
    "\n",
    "#лишних тарифов нет"
   ]
  },
  {
   "cell_type": "markdown",
   "metadata": {},
   "source": [
    "___Вывод:___\n",
    "\n",
    "Изменили типы данных где это необходимо. Выделили доп. переменные из дат.\n",
    "\n",
    "Обратила внимание, что данные подключения и отключения от тарифа также только за 2018 год. Клиенты на тарифах недавно (относительно данных звонков и смс).\n",
    "\n",
    "Дублей в уникальном номере респондента нет.\n",
    "Возраст только с 18 лет.\n",
    "Лишних тарифов нет.\n",
    "\n",
    "Данные чистые. Необходимости в исправлении данных нет."
   ]
  },
  {
   "cell_type": "markdown",
   "metadata": {},
   "source": [
    "<div class=\"alert alert-success\">\n",
    "<h2> Комментарий наставника</h2>\n",
    "\n",
    "Дата теперь представлена в формате даты. В остальном данная таблице была в порядке. \n",
    "\n",
    "</div>"
   ]
  },
  {
   "cell_type": "markdown",
   "metadata": {},
   "source": [
    "Далее смотрим таблицу:\n",
    "### Таблица calls (информация о звонках):\n",
    "\n",
    "* *Приводим данные к нужным типам*\n",
    "* *Находим и исправляем ошибки в данных*\n",
    "* *Рассчитываем количество сделанных звонков и израсходованных минут разговора по месяцам*\n",
    "* *Добавляем информацию в массив df_users*"
   ]
  },
  {
   "cell_type": "markdown",
   "metadata": {},
   "source": [
    "*Приводим данные к нужным типам*"
   ]
  },
  {
   "cell_type": "code",
   "execution_count": 21,
   "metadata": {},
   "outputs": [
    {
     "name": "stdout",
     "output_type": "stream",
     "text": [
      "\u001b[1m \u001b[32minfo\u001b[0m \u001b[0m \n",
      "\n",
      "<class 'pandas.core.frame.DataFrame'>\n",
      "RangeIndex: 202607 entries, 0 to 202606\n",
      "Data columns (total 6 columns):\n",
      " #   Column      Non-Null Count   Dtype         \n",
      "---  ------      --------------   -----         \n",
      " 0   id          202607 non-null  object        \n",
      " 1   call_date   202607 non-null  datetime64[ns]\n",
      " 2   duration    202607 non-null  float64       \n",
      " 3   user_id     202607 non-null  object        \n",
      " 4   call_year   202607 non-null  int64         \n",
      " 5   call_month  202607 non-null  int64         \n",
      "dtypes: datetime64[ns](1), float64(1), int64(2), object(2)\n",
      "memory usage: 9.3+ MB\n",
      "None\n",
      "\u001b[1m \u001b[32mhead\u001b[0m \u001b[0m \n",
      "\n"
     ]
    },
    {
     "data": {
      "text/html": [
       "<div>\n",
       "<style scoped>\n",
       "    .dataframe tbody tr th:only-of-type {\n",
       "        vertical-align: middle;\n",
       "    }\n",
       "\n",
       "    .dataframe tbody tr th {\n",
       "        vertical-align: top;\n",
       "    }\n",
       "\n",
       "    .dataframe thead th {\n",
       "        text-align: right;\n",
       "    }\n",
       "</style>\n",
       "<table border=\"1\" class=\"dataframe\">\n",
       "  <thead>\n",
       "    <tr style=\"text-align: right;\">\n",
       "      <th></th>\n",
       "      <th>id</th>\n",
       "      <th>call_date</th>\n",
       "      <th>duration</th>\n",
       "      <th>user_id</th>\n",
       "      <th>call_year</th>\n",
       "      <th>call_month</th>\n",
       "    </tr>\n",
       "  </thead>\n",
       "  <tbody>\n",
       "    <tr>\n",
       "      <th>0</th>\n",
       "      <td>1000_0</td>\n",
       "      <td>2018-07-25</td>\n",
       "      <td>0.00</td>\n",
       "      <td>1000</td>\n",
       "      <td>2018</td>\n",
       "      <td>7</td>\n",
       "    </tr>\n",
       "    <tr>\n",
       "      <th>1</th>\n",
       "      <td>1000_1</td>\n",
       "      <td>2018-08-17</td>\n",
       "      <td>0.00</td>\n",
       "      <td>1000</td>\n",
       "      <td>2018</td>\n",
       "      <td>8</td>\n",
       "    </tr>\n",
       "    <tr>\n",
       "      <th>2</th>\n",
       "      <td>1000_2</td>\n",
       "      <td>2018-06-11</td>\n",
       "      <td>2.85</td>\n",
       "      <td>1000</td>\n",
       "      <td>2018</td>\n",
       "      <td>6</td>\n",
       "    </tr>\n",
       "  </tbody>\n",
       "</table>\n",
       "</div>"
      ],
      "text/plain": [
       "       id  call_date   duration user_id  call_year  call_month\n",
       "0  1000_0 2018-07-25       0.00    1000       2018           7\n",
       "1  1000_1 2018-08-17       0.00    1000       2018           8\n",
       "2  1000_2 2018-06-11       2.85    1000       2018           6"
      ]
     },
     "metadata": {},
     "output_type": "display_data"
    }
   ],
   "source": [
    "# Обьект\n",
    "df_calls['user_id'] = df_calls['user_id'].astype('object')\n",
    "\n",
    "# Дата\n",
    "df_calls['call_date'] = pd.to_datetime(df_calls[\n",
    "    'call_date'], format='%Y-%m-%d')\n",
    "\n",
    "# Сразу выделим месяц и год\n",
    "df_calls['call_year'] = df_calls['call_date'].dt.year\n",
    "df_calls['call_month'] = df_calls['call_date'].dt.month\n",
    "\n",
    "# Проверяем\n",
    "print_basic_info(df_calls,1,3,0)"
   ]
  },
  {
   "cell_type": "markdown",
   "metadata": {},
   "source": [
    "*Находим и исправляем ошибки в данных*\n",
    "\n",
    "___id — уникальный номер звонка___"
   ]
  },
  {
   "cell_type": "code",
   "execution_count": 22,
   "metadata": {},
   "outputs": [
    {
     "name": "stdout",
     "output_type": "stream",
     "text": [
      "\u001b[1m \u001b[34mid\u001b[0m \u001b[0m \n",
      "\n",
      "count       202607\n",
      "unique      202607\n",
      "top       1300_481\n",
      "freq             1\n",
      "Name: id, dtype: object\n"
     ]
    }
   ],
   "source": [
    "ft_name_count(df_calls,\"id\", 0,0,1)\n",
    "\n",
    "#Все уникальные - отлично!"
   ]
  },
  {
   "cell_type": "markdown",
   "metadata": {},
   "source": [
    "___дата звонка___\n",
    "___будем смотреть переменные call_year и call_month___"
   ]
  },
  {
   "cell_type": "code",
   "execution_count": 23,
   "metadata": {},
   "outputs": [
    {
     "name": "stdout",
     "output_type": "stream",
     "text": [
      "\u001b[1m \u001b[34mcall_year\u001b[0m \u001b[0m \n",
      "\n",
      "2018         1.00\n",
      "Name: call_year, dtype: float64\n",
      "\u001b[1m \u001b[34mcall_month\u001b[0m \u001b[0m \n",
      "\n",
      "1          0.01\n",
      "2          0.02\n",
      "3          0.03\n",
      "4          0.05\n",
      "5          0.06\n",
      "6          0.07\n",
      "7          0.09\n",
      "8          0.11\n",
      "9          0.12\n",
      "10         0.13\n",
      "11         0.15\n",
      "12         0.17\n",
      "Name: call_month, dtype: float64\n"
     ]
    }
   ],
   "source": [
    "ft_name_count(df_calls,\"call_year\", 1,0,0)\n",
    "ft_name_count(df_calls,\"call_month\", 1,1,0)\n",
    "\n",
    "#только 2018 - отлично! Месяцы есть все - огонь! \n",
    "#Понятно, что первых месяцев меньше. Многие еше не подключились к тарифу"
   ]
  },
  {
   "cell_type": "markdown",
   "metadata": {},
   "source": [
    "___duration___"
   ]
  },
  {
   "cell_type": "code",
   "execution_count": 24,
   "metadata": {},
   "outputs": [
    {
     "name": "stdout",
     "output_type": "stream",
     "text": [
      "\u001b[1m \u001b[34mduration\u001b[0m \u001b[0m \n",
      "\n",
      "count    202607.00\n",
      "mean          6.76\n",
      "std           5.84\n",
      "min           0.00\n",
      "25%           1.30\n",
      "50%           6.00\n",
      "75%          10.70\n",
      "max          38.00\n",
      "Name: duration, dtype: float64\n"
     ]
    }
   ],
   "source": [
    "ft_name_count(df_calls,\"duration\", 0,0,1)"
   ]
  },
  {
   "cell_type": "markdown",
   "metadata": {},
   "source": [
    "Есть нули - не отвеченные звоники -  за них человек не платит изначит при оценке тарифа они не нужны.\n",
    "\n",
    "* *Уберем нули*\n",
    "\n",
    "В тарифе при подсчете секунды округялются вверх до минут\n",
    "\n",
    "* *Округлим вверх до минут*"
   ]
  },
  {
   "cell_type": "markdown",
   "metadata": {},
   "source": [
    "<div class=\"alert alert-success\">\n",
    "<h2> Комментарий наставника</h2>\n",
    "\n",
    "Исходя из описанной гипотезы звонки с нулевой длительностью обработаны правильным образом.\n",
    "\n",
    "</div>"
   ]
  },
  {
   "cell_type": "code",
   "execution_count": 25,
   "metadata": {},
   "outputs": [
    {
     "name": "stdout",
     "output_type": "stream",
     "text": [
      "\u001b[1m \u001b[34mduration\u001b[0m \u001b[0m \n",
      "\n",
      "count    162994.00\n",
      "mean          8.40\n",
      "std           5.35\n",
      "min           0.01\n",
      "25%           4.17\n",
      "50%           7.74\n",
      "75%          11.85\n",
      "max          38.00\n",
      "Name: duration, dtype: float64\n"
     ]
    }
   ],
   "source": [
    "#Убираем нули\n",
    "df_calls = df_calls.query('duration != 0')\n",
    "\n",
    "#проверяем\n",
    "ft_name_count(df_calls,\"duration\", 0,0,1)"
   ]
  },
  {
   "cell_type": "markdown",
   "metadata": {},
   "source": [
    "<div class=\"alert alert-success\">\n",
    "<h2> Комментарий наставника</h2>\n",
    "\n",
    "Верно, что округление производится до суммирования. Это согласуется с тем, как оператор фиксирует выручку.\n",
    "\n",
    "</div>"
   ]
  },
  {
   "cell_type": "code",
   "execution_count": 26,
   "metadata": {},
   "outputs": [
    {
     "name": "stdout",
     "output_type": "stream",
     "text": [
      "\u001b[1m \u001b[34mduration\u001b[0m \u001b[0m \n",
      "\n",
      "count    162994.00\n",
      "mean          8.90\n",
      "std           5.35\n",
      "min           1.00\n",
      "25%           5.00\n",
      "50%           8.00\n",
      "75%          12.00\n",
      "max          38.00\n",
      "Name: duration, dtype: float64\n"
     ]
    }
   ],
   "source": [
    "#Округлим вверх до минут\n",
    "df_calls['duration'] = np.ceil(df_calls['duration'])\n",
    "\n",
    "#проверяем\n",
    "ft_name_count(df_calls,\"duration\", 0,0,1)"
   ]
  },
  {
   "cell_type": "markdown",
   "metadata": {},
   "source": [
    "___user_id___"
   ]
  },
  {
   "cell_type": "code",
   "execution_count": 27,
   "metadata": {},
   "outputs": [
    {
     "name": "stdout",
     "output_type": "stream",
     "text": [
      "\u001b[1m \u001b[34muser_id\u001b[0m \u001b[0m \n",
      "\n",
      "count     162994\n",
      "unique       492\n",
      "top         1377\n",
      "freq        1424\n",
      "Name: user_id, dtype: int64\n"
     ]
    }
   ],
   "source": [
    "ft_name_count(df_calls,\"user_id\", 0,0,1)\n",
    "\n",
    "#должно быть не более 500 уникальных юзер ID. Так и есть"
   ]
  },
  {
   "cell_type": "markdown",
   "metadata": {},
   "source": [
    "___Вывод:___\n",
    "\n",
    "Изменили типы данных где это необходимо. * Выделили доп. переменные из дат.\n",
    "\n",
    "Дублей в уникальном номере звонка нет.\n",
    "\n",
    "Как и обещали - звонки только с 2018 год. \n",
    "В первые месяцы года звонков меньше т.к. у нас выборка подключившихся за 18 год, а многие еще не подключились к тарифу.\n",
    "\n",
    "492 уникальных номеров юзеров значит почти все пользовались звонками.\n",
    "\n",
    "**Корректировка**\n",
    "\n",
    "___duration___\n",
    "\n",
    "* Найдены нулевые значения (неотвеченные звонки). Удалили кейсы с ними. За них человек не платит и значит при оценке тарифа они не нужны.\n",
    "* При подсчете секунды в тарифе идет округление вверх до минут. Округлили в базе аналогично."
   ]
  },
  {
   "cell_type": "markdown",
   "metadata": {},
   "source": [
    "*Рассчитываем количество сделанных звонков и израсходованных минут разговора по месяцам*\n"
   ]
  },
  {
   "cell_type": "code",
   "execution_count": 28,
   "metadata": {},
   "outputs": [
    {
     "data": {
      "text/html": [
       "<div>\n",
       "<style scoped>\n",
       "    .dataframe tbody tr th:only-of-type {\n",
       "        vertical-align: middle;\n",
       "    }\n",
       "\n",
       "    .dataframe tbody tr th {\n",
       "        vertical-align: top;\n",
       "    }\n",
       "\n",
       "    .dataframe thead tr th {\n",
       "        text-align: left;\n",
       "    }\n",
       "</style>\n",
       "<table border=\"1\" class=\"dataframe\">\n",
       "  <thead>\n",
       "    <tr>\n",
       "      <th></th>\n",
       "      <th>user_id</th>\n",
       "      <th colspan=\"9\" halign=\"left\">sum</th>\n",
       "      <th>...</th>\n",
       "      <th colspan=\"10\" halign=\"left\">count</th>\n",
       "    </tr>\n",
       "    <tr>\n",
       "      <th>call_month</th>\n",
       "      <th></th>\n",
       "      <th>1</th>\n",
       "      <th>2</th>\n",
       "      <th>3</th>\n",
       "      <th>4</th>\n",
       "      <th>5</th>\n",
       "      <th>6</th>\n",
       "      <th>7</th>\n",
       "      <th>8</th>\n",
       "      <th>9</th>\n",
       "      <th>...</th>\n",
       "      <th>3</th>\n",
       "      <th>4</th>\n",
       "      <th>5</th>\n",
       "      <th>6</th>\n",
       "      <th>7</th>\n",
       "      <th>8</th>\n",
       "      <th>9</th>\n",
       "      <th>10</th>\n",
       "      <th>11</th>\n",
       "      <th>12</th>\n",
       "    </tr>\n",
       "  </thead>\n",
       "  <tbody>\n",
       "    <tr>\n",
       "      <th>0</th>\n",
       "      <td>1000</td>\n",
       "      <td>nan</td>\n",
       "      <td>nan</td>\n",
       "      <td>nan</td>\n",
       "      <td>nan</td>\n",
       "      <td>159.00</td>\n",
       "      <td>172.00</td>\n",
       "      <td>340.00</td>\n",
       "      <td>408.00</td>\n",
       "      <td>466.00</td>\n",
       "      <td>...</td>\n",
       "      <td>nan</td>\n",
       "      <td>nan</td>\n",
       "      <td>17.00</td>\n",
       "      <td>28.00</td>\n",
       "      <td>41.00</td>\n",
       "      <td>42.00</td>\n",
       "      <td>46.00</td>\n",
       "      <td>44.00</td>\n",
       "      <td>37.00</td>\n",
       "      <td>38.00</td>\n",
       "    </tr>\n",
       "    <tr>\n",
       "      <th>1</th>\n",
       "      <td>1001</td>\n",
       "      <td>nan</td>\n",
       "      <td>nan</td>\n",
       "      <td>nan</td>\n",
       "      <td>nan</td>\n",
       "      <td>nan</td>\n",
       "      <td>nan</td>\n",
       "      <td>nan</td>\n",
       "      <td>nan</td>\n",
       "      <td>nan</td>\n",
       "      <td>...</td>\n",
       "      <td>nan</td>\n",
       "      <td>nan</td>\n",
       "      <td>nan</td>\n",
       "      <td>nan</td>\n",
       "      <td>nan</td>\n",
       "      <td>nan</td>\n",
       "      <td>nan</td>\n",
       "      <td>nan</td>\n",
       "      <td>45.00</td>\n",
       "      <td>47.00</td>\n",
       "    </tr>\n",
       "  </tbody>\n",
       "</table>\n",
       "<p>2 rows × 25 columns</p>\n",
       "</div>"
      ],
      "text/plain": [
       "           user_id        sum                                              \\\n",
       "call_month                  1          2          3          4          5   \n",
       "0             1000        nan        nan        nan        nan     159.00   \n",
       "1             1001        nan        nan        nan        nan        nan   \n",
       "\n",
       "                                                        ...      count  \\\n",
       "call_month          6          7          8          9  ...          3   \n",
       "0              172.00     340.00     408.00     466.00  ...        nan   \n",
       "1                 nan        nan        nan        nan  ...        nan   \n",
       "\n",
       "                                                                              \\\n",
       "call_month          4          5          6          7          8          9   \n",
       "0                 nan      17.00      28.00      41.00      42.00      46.00   \n",
       "1                 nan        nan        nan        nan        nan        nan   \n",
       "\n",
       "                                             \n",
       "call_month         10         11         12  \n",
       "0               44.00      37.00      38.00  \n",
       "1                 nan      45.00      47.00  \n",
       "\n",
       "[2 rows x 25 columns]"
      ]
     },
     "execution_count": 28,
     "metadata": {},
     "output_type": "execute_result"
    }
   ],
   "source": [
    "# считаем\n",
    "table_id_calls = df_calls.pivot_table(index=['user_id'], \n",
    "                                     columns='call_month',\n",
    "                                     values='duration', \n",
    "                                     aggfunc=['sum','count']\n",
    "                                    )\n",
    "\n",
    "table_id_calls = table_id_calls.reset_index()\n",
    "\n",
    "table_id_calls.head(2)"
   ]
  },
  {
   "cell_type": "code",
   "execution_count": 29,
   "metadata": {},
   "outputs": [
    {
     "data": {
      "text/html": [
       "<div>\n",
       "<style scoped>\n",
       "    .dataframe tbody tr th:only-of-type {\n",
       "        vertical-align: middle;\n",
       "    }\n",
       "\n",
       "    .dataframe tbody tr th {\n",
       "        vertical-align: top;\n",
       "    }\n",
       "\n",
       "    .dataframe thead th {\n",
       "        text-align: right;\n",
       "    }\n",
       "</style>\n",
       "<table border=\"1\" class=\"dataframe\">\n",
       "  <thead>\n",
       "    <tr style=\"text-align: right;\">\n",
       "      <th></th>\n",
       "      <th>calls_min_month_1</th>\n",
       "      <th>calls_min_month_2</th>\n",
       "      <th>calls_min_month_3</th>\n",
       "      <th>calls_min_month_4</th>\n",
       "      <th>calls_min_month_5</th>\n",
       "      <th>calls_min_month_6</th>\n",
       "      <th>calls_min_month_7</th>\n",
       "      <th>calls_min_month_8</th>\n",
       "      <th>calls_min_month_9</th>\n",
       "      <th>calls_min_month_10</th>\n",
       "      <th>...</th>\n",
       "      <th>calls_count_month_3</th>\n",
       "      <th>calls_count_month_4</th>\n",
       "      <th>calls_count_month_5</th>\n",
       "      <th>calls_count_month_6</th>\n",
       "      <th>calls_count_month_7</th>\n",
       "      <th>calls_count_month_8</th>\n",
       "      <th>calls_count_month_9</th>\n",
       "      <th>calls_count_month_10</th>\n",
       "      <th>calls_count_month_11</th>\n",
       "      <th>calls_count_month_12</th>\n",
       "    </tr>\n",
       "    <tr>\n",
       "      <th>user_id</th>\n",
       "      <th></th>\n",
       "      <th></th>\n",
       "      <th></th>\n",
       "      <th></th>\n",
       "      <th></th>\n",
       "      <th></th>\n",
       "      <th></th>\n",
       "      <th></th>\n",
       "      <th></th>\n",
       "      <th></th>\n",
       "      <th></th>\n",
       "      <th></th>\n",
       "      <th></th>\n",
       "      <th></th>\n",
       "      <th></th>\n",
       "      <th></th>\n",
       "      <th></th>\n",
       "      <th></th>\n",
       "      <th></th>\n",
       "      <th></th>\n",
       "      <th></th>\n",
       "    </tr>\n",
       "  </thead>\n",
       "  <tbody>\n",
       "    <tr>\n",
       "      <th>1000</th>\n",
       "      <td>nan</td>\n",
       "      <td>nan</td>\n",
       "      <td>nan</td>\n",
       "      <td>nan</td>\n",
       "      <td>159.00</td>\n",
       "      <td>172.00</td>\n",
       "      <td>340.00</td>\n",
       "      <td>408.00</td>\n",
       "      <td>466.00</td>\n",
       "      <td>350.00</td>\n",
       "      <td>...</td>\n",
       "      <td>nan</td>\n",
       "      <td>nan</td>\n",
       "      <td>17.00</td>\n",
       "      <td>28.00</td>\n",
       "      <td>41.00</td>\n",
       "      <td>42.00</td>\n",
       "      <td>46.00</td>\n",
       "      <td>44.00</td>\n",
       "      <td>37.00</td>\n",
       "      <td>38.00</td>\n",
       "    </tr>\n",
       "    <tr>\n",
       "      <th>1001</th>\n",
       "      <td>nan</td>\n",
       "      <td>nan</td>\n",
       "      <td>nan</td>\n",
       "      <td>nan</td>\n",
       "      <td>nan</td>\n",
       "      <td>nan</td>\n",
       "      <td>nan</td>\n",
       "      <td>nan</td>\n",
       "      <td>nan</td>\n",
       "      <td>nan</td>\n",
       "      <td>...</td>\n",
       "      <td>nan</td>\n",
       "      <td>nan</td>\n",
       "      <td>nan</td>\n",
       "      <td>nan</td>\n",
       "      <td>nan</td>\n",
       "      <td>nan</td>\n",
       "      <td>nan</td>\n",
       "      <td>nan</td>\n",
       "      <td>45.00</td>\n",
       "      <td>47.00</td>\n",
       "    </tr>\n",
       "  </tbody>\n",
       "</table>\n",
       "<p>2 rows × 24 columns</p>\n",
       "</div>"
      ],
      "text/plain": [
       "         calls_min_month_1  calls_min_month_2  calls_min_month_3  \\\n",
       "user_id                                                            \n",
       "1000                   nan                nan                nan   \n",
       "1001                   nan                nan                nan   \n",
       "\n",
       "         calls_min_month_4  calls_min_month_5  calls_min_month_6  \\\n",
       "user_id                                                            \n",
       "1000                   nan             159.00             172.00   \n",
       "1001                   nan                nan                nan   \n",
       "\n",
       "         calls_min_month_7  calls_min_month_8  calls_min_month_9  \\\n",
       "user_id                                                            \n",
       "1000                340.00             408.00             466.00   \n",
       "1001                   nan                nan                nan   \n",
       "\n",
       "         calls_min_month_10  ...  calls_count_month_3  calls_count_month_4  \\\n",
       "user_id                      ...                                             \n",
       "1000                 350.00  ...                  nan                  nan   \n",
       "1001                    nan  ...                  nan                  nan   \n",
       "\n",
       "         calls_count_month_5  calls_count_month_6  calls_count_month_7  \\\n",
       "user_id                                                                  \n",
       "1000                   17.00                28.00                41.00   \n",
       "1001                     nan                  nan                  nan   \n",
       "\n",
       "         calls_count_month_8  calls_count_month_9  calls_count_month_10  \\\n",
       "user_id                                                                   \n",
       "1000                   42.00                46.00                 44.00   \n",
       "1001                     nan                  nan                   nan   \n",
       "\n",
       "         calls_count_month_11  calls_count_month_12  \n",
       "user_id                                              \n",
       "1000                    37.00                 38.00  \n",
       "1001                    45.00                 47.00  \n",
       "\n",
       "[2 rows x 24 columns]"
      ]
     },
     "execution_count": 29,
     "metadata": {},
     "output_type": "execute_result"
    }
   ],
   "source": [
    "#сделаем нормальые названия\n",
    "\n",
    "table_id_calls.columns = ['user_id',\n",
    "                              'calls_min_month_1','calls_min_month_2',\n",
    "                              'calls_min_month_3','calls_min_month_4',\n",
    "                              'calls_min_month_5','calls_min_month_6',\n",
    "                              'calls_min_month_7','calls_min_month_8',\n",
    "                              'calls_min_month_9','calls_min_month_10',\n",
    "                              'calls_min_month_11','calls_min_month_12',\n",
    "                              'calls_count_month_1','calls_count_month_2',\n",
    "                              'calls_count_month_3','calls_count_month_4',\n",
    "                              'calls_count_month_5','calls_count_month_6',\n",
    "                              'calls_count_month_7','calls_count_month_8',\n",
    "                              'calls_count_month_9','calls_count_month_10',\n",
    "                              'calls_count_month_11','calls_count_month_12',\n",
    "                             ]\n",
    "\n",
    "table_id_calls = table_id_calls.set_index('user_id')\n",
    "\n",
    "table_id_calls.head(2)"
   ]
  },
  {
   "cell_type": "markdown",
   "metadata": {},
   "source": [
    "\n",
    "*Добавляем информацию в массив df_users*"
   ]
  },
  {
   "cell_type": "code",
   "execution_count": 30,
   "metadata": {},
   "outputs": [
    {
     "name": "stdout",
     "output_type": "stream",
     "text": [
      "<class 'pandas.core.frame.DataFrame'>\n",
      "RangeIndex: 500 entries, 0 to 499\n",
      "Data columns (total 36 columns):\n",
      " #   Column                Non-Null Count  Dtype         \n",
      "---  ------                --------------  -----         \n",
      " 0   user_id               500 non-null    object        \n",
      " 1   age                   500 non-null    int64         \n",
      " 2   churn_date            38 non-null     datetime64[ns]\n",
      " 3   city                  500 non-null    object        \n",
      " 4   first_name            500 non-null    object        \n",
      " 5   last_name             500 non-null    object        \n",
      " 6   reg_date              500 non-null    datetime64[ns]\n",
      " 7   tariff                500 non-null    object        \n",
      " 8   reg_year              500 non-null    int64         \n",
      " 9   reg_month             500 non-null    int64         \n",
      " 10  churn_year            38 non-null     float64       \n",
      " 11  churn_month           38 non-null     float64       \n",
      " 12  calls_min_month_1     42 non-null     float64       \n",
      " 13  calls_min_month_2     81 non-null     float64       \n",
      " 14  calls_min_month_3     114 non-null    float64       \n",
      " 15  calls_min_month_4     164 non-null    float64       \n",
      " 16  calls_min_month_5     205 non-null    float64       \n",
      " 17  calls_min_month_6     244 non-null    float64       \n",
      " 18  calls_min_month_7     288 non-null    float64       \n",
      " 19  calls_min_month_8     336 non-null    float64       \n",
      " 20  calls_min_month_9     369 non-null    float64       \n",
      " 21  calls_min_month_10    411 non-null    float64       \n",
      " 22  calls_min_month_11    444 non-null    float64       \n",
      " 23  calls_min_month_12    470 non-null    float64       \n",
      " 24  calls_count_month_1   42 non-null     float64       \n",
      " 25  calls_count_month_2   81 non-null     float64       \n",
      " 26  calls_count_month_3   114 non-null    float64       \n",
      " 27  calls_count_month_4   164 non-null    float64       \n",
      " 28  calls_count_month_5   205 non-null    float64       \n",
      " 29  calls_count_month_6   244 non-null    float64       \n",
      " 30  calls_count_month_7   288 non-null    float64       \n",
      " 31  calls_count_month_8   336 non-null    float64       \n",
      " 32  calls_count_month_9   369 non-null    float64       \n",
      " 33  calls_count_month_10  411 non-null    float64       \n",
      " 34  calls_count_month_11  444 non-null    float64       \n",
      " 35  calls_count_month_12  470 non-null    float64       \n",
      "dtypes: datetime64[ns](2), float64(26), int64(3), object(5)\n",
      "memory usage: 140.8+ KB\n",
      "None\n"
     ]
    },
    {
     "data": {
      "text/html": [
       "<div>\n",
       "<style scoped>\n",
       "    .dataframe tbody tr th:only-of-type {\n",
       "        vertical-align: middle;\n",
       "    }\n",
       "\n",
       "    .dataframe tbody tr th {\n",
       "        vertical-align: top;\n",
       "    }\n",
       "\n",
       "    .dataframe thead th {\n",
       "        text-align: right;\n",
       "    }\n",
       "</style>\n",
       "<table border=\"1\" class=\"dataframe\">\n",
       "  <thead>\n",
       "    <tr style=\"text-align: right;\">\n",
       "      <th></th>\n",
       "      <th>user_id</th>\n",
       "      <th>age</th>\n",
       "      <th>churn_date</th>\n",
       "      <th>city</th>\n",
       "      <th>first_name</th>\n",
       "      <th>last_name</th>\n",
       "      <th>reg_date</th>\n",
       "      <th>tariff</th>\n",
       "      <th>reg_year</th>\n",
       "      <th>reg_month</th>\n",
       "      <th>...</th>\n",
       "      <th>calls_count_month_3</th>\n",
       "      <th>calls_count_month_4</th>\n",
       "      <th>calls_count_month_5</th>\n",
       "      <th>calls_count_month_6</th>\n",
       "      <th>calls_count_month_7</th>\n",
       "      <th>calls_count_month_8</th>\n",
       "      <th>calls_count_month_9</th>\n",
       "      <th>calls_count_month_10</th>\n",
       "      <th>calls_count_month_11</th>\n",
       "      <th>calls_count_month_12</th>\n",
       "    </tr>\n",
       "  </thead>\n",
       "  <tbody>\n",
       "    <tr>\n",
       "      <th>0</th>\n",
       "      <td>1000</td>\n",
       "      <td>52</td>\n",
       "      <td>NaT</td>\n",
       "      <td>Краснодар</td>\n",
       "      <td>Рафаил</td>\n",
       "      <td>Верещагин</td>\n",
       "      <td>2018-05-25</td>\n",
       "      <td>ultra</td>\n",
       "      <td>2018</td>\n",
       "      <td>5</td>\n",
       "      <td>...</td>\n",
       "      <td>nan</td>\n",
       "      <td>nan</td>\n",
       "      <td>17.00</td>\n",
       "      <td>28.00</td>\n",
       "      <td>41.00</td>\n",
       "      <td>42.00</td>\n",
       "      <td>46.00</td>\n",
       "      <td>44.00</td>\n",
       "      <td>37.00</td>\n",
       "      <td>38.00</td>\n",
       "    </tr>\n",
       "    <tr>\n",
       "      <th>1</th>\n",
       "      <td>1001</td>\n",
       "      <td>41</td>\n",
       "      <td>NaT</td>\n",
       "      <td>Москва</td>\n",
       "      <td>Иван</td>\n",
       "      <td>Ежов</td>\n",
       "      <td>2018-11-01</td>\n",
       "      <td>smart</td>\n",
       "      <td>2018</td>\n",
       "      <td>11</td>\n",
       "      <td>...</td>\n",
       "      <td>nan</td>\n",
       "      <td>nan</td>\n",
       "      <td>nan</td>\n",
       "      <td>nan</td>\n",
       "      <td>nan</td>\n",
       "      <td>nan</td>\n",
       "      <td>nan</td>\n",
       "      <td>nan</td>\n",
       "      <td>45.00</td>\n",
       "      <td>47.00</td>\n",
       "    </tr>\n",
       "  </tbody>\n",
       "</table>\n",
       "<p>2 rows × 36 columns</p>\n",
       "</div>"
      ],
      "text/plain": [
       "  user_id  age churn_date       city first_name  last_name   reg_date tariff  \\\n",
       "0    1000   52        NaT  Краснодар     Рафаил  Верещагин 2018-05-25  ultra   \n",
       "1    1001   41        NaT     Москва       Иван       Ежов 2018-11-01  smart   \n",
       "\n",
       "   reg_year  reg_month  ...  calls_count_month_3  calls_count_month_4  \\\n",
       "0      2018          5  ...                  nan                  nan   \n",
       "1      2018         11  ...                  nan                  nan   \n",
       "\n",
       "   calls_count_month_5  calls_count_month_6  calls_count_month_7  \\\n",
       "0                17.00                28.00                41.00   \n",
       "1                  nan                  nan                  nan   \n",
       "\n",
       "   calls_count_month_8  calls_count_month_9  calls_count_month_10  \\\n",
       "0                42.00                46.00                 44.00   \n",
       "1                  nan                  nan                   nan   \n",
       "\n",
       "   calls_count_month_11  calls_count_month_12  \n",
       "0                 37.00                 38.00  \n",
       "1                 45.00                 47.00  \n",
       "\n",
       "[2 rows x 36 columns]"
      ]
     },
     "execution_count": 30,
     "metadata": {},
     "output_type": "execute_result"
    }
   ],
   "source": [
    "df_users_join = df_users.join(table_id_calls, on='user_id')\n",
    "\n",
    "#проверяем\n",
    "print(df_users_join.info(2))\n",
    "df_users_join.head(2)"
   ]
  },
  {
   "cell_type": "markdown",
   "metadata": {},
   "source": [
    "``` Альтернативная версия  ```"
   ]
  },
  {
   "cell_type": "code",
   "execution_count": 31,
   "metadata": {},
   "outputs": [
    {
     "name": "stdout",
     "output_type": "stream",
     "text": [
      "<class 'pandas.core.frame.DataFrame'>\n",
      "Int64Index: 6000 entries, 0 to 499\n",
      "Data columns (total 13 columns):\n",
      " #   Column       Non-Null Count  Dtype         \n",
      "---  ------       --------------  -----         \n",
      " 0   user_id      6000 non-null   object        \n",
      " 1   age          6000 non-null   int64         \n",
      " 2   churn_date   456 non-null    datetime64[ns]\n",
      " 3   city         6000 non-null   object        \n",
      " 4   first_name   6000 non-null   object        \n",
      " 5   last_name    6000 non-null   object        \n",
      " 6   reg_date     6000 non-null   datetime64[ns]\n",
      " 7   tariff       6000 non-null   object        \n",
      " 8   reg_year     6000 non-null   int64         \n",
      " 9   reg_month    6000 non-null   int64         \n",
      " 10  churn_year   456 non-null    float64       \n",
      " 11  churn_month  456 non-null    float64       \n",
      " 12  month        6000 non-null   int64         \n",
      "dtypes: datetime64[ns](2), float64(2), int64(4), object(5)\n",
      "memory usage: 656.2+ KB\n",
      "None [ 1  2  3  4  5  6  7  8  9 10 11 12]\n"
     ]
    },
    {
     "data": {
      "text/html": [
       "<div>\n",
       "<style scoped>\n",
       "    .dataframe tbody tr th:only-of-type {\n",
       "        vertical-align: middle;\n",
       "    }\n",
       "\n",
       "    .dataframe tbody tr th {\n",
       "        vertical-align: top;\n",
       "    }\n",
       "\n",
       "    .dataframe thead th {\n",
       "        text-align: right;\n",
       "    }\n",
       "</style>\n",
       "<table border=\"1\" class=\"dataframe\">\n",
       "  <thead>\n",
       "    <tr style=\"text-align: right;\">\n",
       "      <th></th>\n",
       "      <th></th>\n",
       "      <th>age</th>\n",
       "      <th>churn_date</th>\n",
       "      <th>city</th>\n",
       "      <th>first_name</th>\n",
       "      <th>last_name</th>\n",
       "      <th>reg_date</th>\n",
       "      <th>tariff</th>\n",
       "      <th>reg_year</th>\n",
       "      <th>reg_month</th>\n",
       "      <th>churn_year</th>\n",
       "      <th>churn_month</th>\n",
       "    </tr>\n",
       "    <tr>\n",
       "      <th>month</th>\n",
       "      <th>user_id</th>\n",
       "      <th></th>\n",
       "      <th></th>\n",
       "      <th></th>\n",
       "      <th></th>\n",
       "      <th></th>\n",
       "      <th></th>\n",
       "      <th></th>\n",
       "      <th></th>\n",
       "      <th></th>\n",
       "      <th></th>\n",
       "      <th></th>\n",
       "    </tr>\n",
       "  </thead>\n",
       "  <tbody>\n",
       "    <tr>\n",
       "      <th rowspan=\"5\" valign=\"top\">1</th>\n",
       "      <th>1000</th>\n",
       "      <td>52</td>\n",
       "      <td>NaT</td>\n",
       "      <td>Краснодар</td>\n",
       "      <td>Рафаил</td>\n",
       "      <td>Верещагин</td>\n",
       "      <td>2018-05-25</td>\n",
       "      <td>ultra</td>\n",
       "      <td>2018</td>\n",
       "      <td>5</td>\n",
       "      <td>nan</td>\n",
       "      <td>nan</td>\n",
       "    </tr>\n",
       "    <tr>\n",
       "      <th>1001</th>\n",
       "      <td>41</td>\n",
       "      <td>NaT</td>\n",
       "      <td>Москва</td>\n",
       "      <td>Иван</td>\n",
       "      <td>Ежов</td>\n",
       "      <td>2018-11-01</td>\n",
       "      <td>smart</td>\n",
       "      <td>2018</td>\n",
       "      <td>11</td>\n",
       "      <td>nan</td>\n",
       "      <td>nan</td>\n",
       "    </tr>\n",
       "    <tr>\n",
       "      <th>1002</th>\n",
       "      <td>59</td>\n",
       "      <td>NaT</td>\n",
       "      <td>Стерлитамак</td>\n",
       "      <td>Евгений</td>\n",
       "      <td>Абрамович</td>\n",
       "      <td>2018-06-17</td>\n",
       "      <td>smart</td>\n",
       "      <td>2018</td>\n",
       "      <td>6</td>\n",
       "      <td>nan</td>\n",
       "      <td>nan</td>\n",
       "    </tr>\n",
       "    <tr>\n",
       "      <th>1003</th>\n",
       "      <td>23</td>\n",
       "      <td>NaT</td>\n",
       "      <td>Москва</td>\n",
       "      <td>Белла</td>\n",
       "      <td>Белякова</td>\n",
       "      <td>2018-08-17</td>\n",
       "      <td>ultra</td>\n",
       "      <td>2018</td>\n",
       "      <td>8</td>\n",
       "      <td>nan</td>\n",
       "      <td>nan</td>\n",
       "    </tr>\n",
       "    <tr>\n",
       "      <th>1004</th>\n",
       "      <td>68</td>\n",
       "      <td>NaT</td>\n",
       "      <td>Новокузнецк</td>\n",
       "      <td>Татьяна</td>\n",
       "      <td>Авдеенко</td>\n",
       "      <td>2018-05-14</td>\n",
       "      <td>ultra</td>\n",
       "      <td>2018</td>\n",
       "      <td>5</td>\n",
       "      <td>nan</td>\n",
       "      <td>nan</td>\n",
       "    </tr>\n",
       "  </tbody>\n",
       "</table>\n",
       "</div>"
      ],
      "text/plain": [
       "               age churn_date         city first_name  last_name   reg_date  \\\n",
       "month user_id                                                                 \n",
       "1     1000      52        NaT    Краснодар     Рафаил  Верещагин 2018-05-25   \n",
       "      1001      41        NaT       Москва       Иван       Ежов 2018-11-01   \n",
       "      1002      59        NaT  Стерлитамак    Евгений  Абрамович 2018-06-17   \n",
       "      1003      23        NaT       Москва      Белла   Белякова 2018-08-17   \n",
       "      1004      68        NaT  Новокузнецк    Татьяна   Авдеенко 2018-05-14   \n",
       "\n",
       "              tariff  reg_year  reg_month  churn_year  churn_month  \n",
       "month user_id                                                       \n",
       "1     1000     ultra      2018          5         nan          nan  \n",
       "      1001     smart      2018         11         nan          nan  \n",
       "      1002     smart      2018          6         nan          nan  \n",
       "      1003     ultra      2018          8         nan          nan  \n",
       "      1004     ultra      2018          5         nan          nan  "
      ]
     },
     "execution_count": 31,
     "metadata": {},
     "output_type": "execute_result"
    }
   ],
   "source": [
    "temp_df_users = df_users\n",
    "df_users_join2 = pd.DataFrame()\n",
    "i= 1\n",
    "while i <= 12:\n",
    "    temp_df_users['month'] = i\n",
    "    df_users_join2 = df_users_join2.append(temp_df_users)\n",
    "    i = i + 1\n",
    "\n",
    "#месяцы\n",
    "print(df_users_join2.info(), df_users_join2['month'].unique())\n",
    "\n",
    "#df_users_join2['month_id'] = str(df_users_join2['month']) + df_users_join2['user_id']\n",
    "df_users_join2 = df_users_join2.set_index(['month','user_id']) \n",
    "\n",
    "\n",
    "\n",
    "df_users_join2.head()"
   ]
  },
  {
   "cell_type": "code",
   "execution_count": 32,
   "metadata": {},
   "outputs": [
    {
     "data": {
      "text/html": [
       "<div>\n",
       "<style scoped>\n",
       "    .dataframe tbody tr th:only-of-type {\n",
       "        vertical-align: middle;\n",
       "    }\n",
       "\n",
       "    .dataframe tbody tr th {\n",
       "        vertical-align: top;\n",
       "    }\n",
       "\n",
       "    .dataframe thead th {\n",
       "        text-align: right;\n",
       "    }\n",
       "</style>\n",
       "<table border=\"1\" class=\"dataframe\">\n",
       "  <thead>\n",
       "    <tr style=\"text-align: right;\">\n",
       "      <th></th>\n",
       "      <th></th>\n",
       "      <th>duration_sum</th>\n",
       "      <th>duration_count</th>\n",
       "    </tr>\n",
       "    <tr>\n",
       "      <th>month</th>\n",
       "      <th>user_id</th>\n",
       "      <th></th>\n",
       "      <th></th>\n",
       "    </tr>\n",
       "  </thead>\n",
       "  <tbody>\n",
       "    <tr>\n",
       "      <th rowspan=\"2\" valign=\"top\">1</th>\n",
       "      <th>1005</th>\n",
       "      <td>95.00</td>\n",
       "      <td>11</td>\n",
       "    </tr>\n",
       "    <tr>\n",
       "      <th>1032</th>\n",
       "      <td>380.00</td>\n",
       "      <td>44</td>\n",
       "    </tr>\n",
       "  </tbody>\n",
       "</table>\n",
       "</div>"
      ],
      "text/plain": [
       "               duration_sum  duration_count\n",
       "month user_id                              \n",
       "1     1005            95.00              11\n",
       "      1032           380.00              44"
      ]
     },
     "execution_count": 32,
     "metadata": {},
     "output_type": "execute_result"
    }
   ],
   "source": [
    "table_id_calls2 = df_calls.pivot_table(index=['call_month','user_id'], \n",
    "                                     values='duration', \n",
    "                                     aggfunc=['sum','count']\n",
    "                                    )\n",
    "\n",
    "table_id_calls2 = table_id_calls2.reset_index()\n",
    "table_id_calls2.columns = ['month','user_id',\n",
    "                              'duration_sum','duration_count']\n",
    "\n",
    "table_id_calls2 = table_id_calls2.set_index(['month','user_id']) \n",
    "\n",
    "table_id_calls2.head(2)"
   ]
  },
  {
   "cell_type": "code",
   "execution_count": 33,
   "metadata": {},
   "outputs": [
    {
     "name": "stdout",
     "output_type": "stream",
     "text": [
      "<class 'pandas.core.frame.DataFrame'>\n",
      "MultiIndex: 6000 entries, (1, 1000) to (12, 1499)\n",
      "Data columns (total 13 columns):\n",
      " #   Column          Non-Null Count  Dtype         \n",
      "---  ------          --------------  -----         \n",
      " 0   age             6000 non-null   int64         \n",
      " 1   churn_date      456 non-null    datetime64[ns]\n",
      " 2   city            6000 non-null   object        \n",
      " 3   first_name      6000 non-null   object        \n",
      " 4   last_name       6000 non-null   object        \n",
      " 5   reg_date        6000 non-null   datetime64[ns]\n",
      " 6   tariff          6000 non-null   object        \n",
      " 7   reg_year        6000 non-null   int64         \n",
      " 8   reg_month       6000 non-null   int64         \n",
      " 9   churn_year      456 non-null    float64       \n",
      " 10  churn_month     456 non-null    float64       \n",
      " 11  duration_sum    3168 non-null   float64       \n",
      " 12  duration_count  3168 non-null   float64       \n",
      "dtypes: datetime64[ns](2), float64(4), int64(3), object(4)\n",
      "memory usage: 791.1+ KB\n",
      "None\n"
     ]
    },
    {
     "data": {
      "text/html": [
       "<div>\n",
       "<style scoped>\n",
       "    .dataframe tbody tr th:only-of-type {\n",
       "        vertical-align: middle;\n",
       "    }\n",
       "\n",
       "    .dataframe tbody tr th {\n",
       "        vertical-align: top;\n",
       "    }\n",
       "\n",
       "    .dataframe thead th {\n",
       "        text-align: right;\n",
       "    }\n",
       "</style>\n",
       "<table border=\"1\" class=\"dataframe\">\n",
       "  <thead>\n",
       "    <tr style=\"text-align: right;\">\n",
       "      <th></th>\n",
       "      <th></th>\n",
       "      <th>age</th>\n",
       "      <th>churn_date</th>\n",
       "      <th>city</th>\n",
       "      <th>first_name</th>\n",
       "      <th>last_name</th>\n",
       "      <th>reg_date</th>\n",
       "      <th>tariff</th>\n",
       "      <th>reg_year</th>\n",
       "      <th>reg_month</th>\n",
       "      <th>churn_year</th>\n",
       "      <th>churn_month</th>\n",
       "      <th>duration_sum</th>\n",
       "      <th>duration_count</th>\n",
       "    </tr>\n",
       "    <tr>\n",
       "      <th>month</th>\n",
       "      <th>user_id</th>\n",
       "      <th></th>\n",
       "      <th></th>\n",
       "      <th></th>\n",
       "      <th></th>\n",
       "      <th></th>\n",
       "      <th></th>\n",
       "      <th></th>\n",
       "      <th></th>\n",
       "      <th></th>\n",
       "      <th></th>\n",
       "      <th></th>\n",
       "      <th></th>\n",
       "      <th></th>\n",
       "    </tr>\n",
       "  </thead>\n",
       "  <tbody>\n",
       "    <tr>\n",
       "      <th rowspan=\"2\" valign=\"top\">1</th>\n",
       "      <th>1000</th>\n",
       "      <td>52</td>\n",
       "      <td>NaT</td>\n",
       "      <td>Краснодар</td>\n",
       "      <td>Рафаил</td>\n",
       "      <td>Верещагин</td>\n",
       "      <td>2018-05-25</td>\n",
       "      <td>ultra</td>\n",
       "      <td>2018</td>\n",
       "      <td>5</td>\n",
       "      <td>nan</td>\n",
       "      <td>nan</td>\n",
       "      <td>nan</td>\n",
       "      <td>nan</td>\n",
       "    </tr>\n",
       "    <tr>\n",
       "      <th>1001</th>\n",
       "      <td>41</td>\n",
       "      <td>NaT</td>\n",
       "      <td>Москва</td>\n",
       "      <td>Иван</td>\n",
       "      <td>Ежов</td>\n",
       "      <td>2018-11-01</td>\n",
       "      <td>smart</td>\n",
       "      <td>2018</td>\n",
       "      <td>11</td>\n",
       "      <td>nan</td>\n",
       "      <td>nan</td>\n",
       "      <td>nan</td>\n",
       "      <td>nan</td>\n",
       "    </tr>\n",
       "  </tbody>\n",
       "</table>\n",
       "</div>"
      ],
      "text/plain": [
       "               age churn_date       city first_name  last_name   reg_date  \\\n",
       "month user_id                                                               \n",
       "1     1000      52        NaT  Краснодар     Рафаил  Верещагин 2018-05-25   \n",
       "      1001      41        NaT     Москва       Иван       Ежов 2018-11-01   \n",
       "\n",
       "              tariff  reg_year  reg_month  churn_year  churn_month  \\\n",
       "month user_id                                                        \n",
       "1     1000     ultra      2018          5         nan          nan   \n",
       "      1001     smart      2018         11         nan          nan   \n",
       "\n",
       "               duration_sum  duration_count  \n",
       "month user_id                                \n",
       "1     1000              nan             nan  \n",
       "      1001              nan             nan  "
      ]
     },
     "execution_count": 33,
     "metadata": {},
     "output_type": "execute_result"
    }
   ],
   "source": [
    "df_users_join2 = df_users_join2.join(table_id_calls2)\n",
    "\n",
    "#проверяем\n",
    "print(df_users_join2.info(2))\n",
    "df_users_join2.head(2)"
   ]
  },
  {
   "cell_type": "markdown",
   "metadata": {},
   "source": [
    "___Вывод:___\n",
    "\n",
    "Сделали сводную таблицу, чтобы узнать для каждого айди сумму использованных минут и количество звонков в каждый месяц.\n",
    "\n",
    "Дополнили этими данными базу клиентов."
   ]
  },
  {
   "cell_type": "markdown",
   "metadata": {},
   "source": [
    "<div class=\"alert alert-success\">\n",
    "<h2> Комментарий наставника</h2>\n",
    "\n",
    "Лучше использовать несколько иную структуру таблицы. Месяца расположить в столбце и для каждого клиента рассчитывать потребление услуг в конкретном месяце. Так вся информация будет храниться в одной таблице, а еще она будет иметь более естественный вид. \n",
    "\n",
    "</div>"
   ]
  },
  {
   "cell_type": "markdown",
   "metadata": {},
   "source": [
    "Смотрим на следующую базу\n",
    "### Таблица messages (информация о сообщениях):\n",
    "\n",
    "* *Приводим данные к нужным типам*\n",
    "* *Находим и исправляем ошибки в данных*\n",
    "* *Рассчитываем количество отправленных сообщений по месяцам*\n",
    "* *Добавляем информацию в массив df_users_join*"
   ]
  },
  {
   "cell_type": "markdown",
   "metadata": {},
   "source": [
    "*Приводим данные к нужным типам*"
   ]
  },
  {
   "cell_type": "code",
   "execution_count": 34,
   "metadata": {},
   "outputs": [
    {
     "name": "stdout",
     "output_type": "stream",
     "text": [
      "\u001b[1m \u001b[32minfo\u001b[0m \u001b[0m \n",
      "\n",
      "<class 'pandas.core.frame.DataFrame'>\n",
      "RangeIndex: 123036 entries, 0 to 123035\n",
      "Data columns (total 5 columns):\n",
      " #   Column         Non-Null Count   Dtype         \n",
      "---  ------         --------------   -----         \n",
      " 0   id             123036 non-null  object        \n",
      " 1   message_date   123036 non-null  datetime64[ns]\n",
      " 2   user_id        123036 non-null  object        \n",
      " 3   message_year   123036 non-null  int64         \n",
      " 4   message_month  123036 non-null  int64         \n",
      "dtypes: datetime64[ns](1), int64(2), object(2)\n",
      "memory usage: 4.7+ MB\n",
      "None\n",
      "\u001b[1m \u001b[32mhead\u001b[0m \u001b[0m \n",
      "\n"
     ]
    },
    {
     "data": {
      "text/html": [
       "<div>\n",
       "<style scoped>\n",
       "    .dataframe tbody tr th:only-of-type {\n",
       "        vertical-align: middle;\n",
       "    }\n",
       "\n",
       "    .dataframe tbody tr th {\n",
       "        vertical-align: top;\n",
       "    }\n",
       "\n",
       "    .dataframe thead th {\n",
       "        text-align: right;\n",
       "    }\n",
       "</style>\n",
       "<table border=\"1\" class=\"dataframe\">\n",
       "  <thead>\n",
       "    <tr style=\"text-align: right;\">\n",
       "      <th></th>\n",
       "      <th>id</th>\n",
       "      <th>message_date</th>\n",
       "      <th>user_id</th>\n",
       "      <th>message_year</th>\n",
       "      <th>message_month</th>\n",
       "    </tr>\n",
       "  </thead>\n",
       "  <tbody>\n",
       "    <tr>\n",
       "      <th>0</th>\n",
       "      <td>1000_0</td>\n",
       "      <td>2018-06-27</td>\n",
       "      <td>1000</td>\n",
       "      <td>2018</td>\n",
       "      <td>6</td>\n",
       "    </tr>\n",
       "    <tr>\n",
       "      <th>1</th>\n",
       "      <td>1000_1</td>\n",
       "      <td>2018-10-08</td>\n",
       "      <td>1000</td>\n",
       "      <td>2018</td>\n",
       "      <td>10</td>\n",
       "    </tr>\n",
       "    <tr>\n",
       "      <th>2</th>\n",
       "      <td>1000_2</td>\n",
       "      <td>2018-08-04</td>\n",
       "      <td>1000</td>\n",
       "      <td>2018</td>\n",
       "      <td>8</td>\n",
       "    </tr>\n",
       "  </tbody>\n",
       "</table>\n",
       "</div>"
      ],
      "text/plain": [
       "       id message_date user_id  message_year  message_month\n",
       "0  1000_0   2018-06-27    1000          2018              6\n",
       "1  1000_1   2018-10-08    1000          2018             10\n",
       "2  1000_2   2018-08-04    1000          2018              8"
      ]
     },
     "metadata": {},
     "output_type": "display_data"
    }
   ],
   "source": [
    "# Обьект\n",
    "df_messages['user_id'] = df_messages['user_id'].astype('object')\n",
    "\n",
    "# Дата\n",
    "df_messages['message_date'] = pd.to_datetime(df_messages[\n",
    "    'message_date'], format='%Y-%m-%d')\n",
    "\n",
    "# Сразу выделим месяц и год \n",
    "df_messages['message_year'] = df_messages['message_date'].dt.year\n",
    "df_messages['message_month'] = df_messages['message_date'].dt.month\n",
    "\n",
    "# Проверяем\n",
    "print_basic_info(df_messages,1,3,0)"
   ]
  },
  {
   "cell_type": "markdown",
   "metadata": {},
   "source": [
    "*Находим и исправляем ошибки в данных*"
   ]
  },
  {
   "cell_type": "markdown",
   "metadata": {},
   "source": [
    "___id___"
   ]
  },
  {
   "cell_type": "code",
   "execution_count": 35,
   "metadata": {},
   "outputs": [
    {
     "name": "stdout",
     "output_type": "stream",
     "text": [
      "\u001b[1m \u001b[34mid\u001b[0m \u001b[0m \n",
      "\n",
      "count       123036\n",
      "unique      123036\n",
      "top       1300_481\n",
      "freq             1\n",
      "Name: id, dtype: object\n"
     ]
    }
   ],
   "source": [
    "ft_name_count(df_messages,\"id\", 0,0,1)\n",
    "\n",
    "#id уникальны. отлично"
   ]
  },
  {
   "cell_type": "markdown",
   "metadata": {},
   "source": [
    "___дата сообщения___\n",
    "___возьмем новые переменные message_year, message_month___"
   ]
  },
  {
   "cell_type": "code",
   "execution_count": 36,
   "metadata": {},
   "outputs": [
    {
     "name": "stdout",
     "output_type": "stream",
     "text": [
      "\u001b[1m \u001b[34mmessage_year\u001b[0m \u001b[0m \n",
      "\n",
      "2018         1.00\n",
      "Name: message_year, dtype: float64\n",
      "\u001b[1m \u001b[34mmessage_month\u001b[0m \u001b[0m \n",
      "\n",
      "1          0.01\n",
      "2          0.02\n",
      "3          0.03\n",
      "4          0.04\n",
      "5          0.06\n",
      "6          0.07\n",
      "7          0.09\n",
      "8          0.11\n",
      "9          0.12\n",
      "10         0.14\n",
      "11         0.15\n",
      "12         0.17\n",
      "Name: message_month, dtype: float64\n"
     ]
    }
   ],
   "source": [
    "ft_name_count(df_messages,\"message_year\", 1,1,0)\n",
    "ft_name_count(df_messages,\"message_month\", 1,1,0)\n",
    "\n",
    "#Только 18 год и все месяцы есть. отлично."
   ]
  },
  {
   "cell_type": "markdown",
   "metadata": {},
   "source": [
    "___user_id___"
   ]
  },
  {
   "cell_type": "code",
   "execution_count": 37,
   "metadata": {},
   "outputs": [
    {
     "name": "stdout",
     "output_type": "stream",
     "text": [
      "\u001b[1m \u001b[34muser_id\u001b[0m \u001b[0m \n",
      "\n",
      "count     123036\n",
      "unique       426\n",
      "top         1277\n",
      "freq        1463\n",
      "Name: user_id, dtype: int64\n"
     ]
    }
   ],
   "source": [
    "ft_name_count(df_messages,\"user_id\", 0,0,1)\n",
    "\n",
    "#должно быть не более 500 уникальных юзер ID. Так и есть"
   ]
  },
  {
   "cell_type": "markdown",
   "metadata": {},
   "source": [
    "___Вывод:___\n",
    "\n",
    "Изменили типы данных где это необходимо. Выделили доп. переменные из дат.\n",
    "\n",
    "Дублей в уникальном номере сообщения нет.\n",
    "\n",
    "Как и обещали -  только с 2018 год. \n",
    "В первые месяцы года звонков меньше т.к. у нас сообщений подключившихся за 18 год, а многие еще не подключились к тарифу.\n",
    "\n",
    "426 уникальных номеров юзеров значит смс пользовались чуть меньше клиентов, чем звонками. Но все равно значительная часть (4 из 5).\n",
    "\n",
    "Данные чистые. Необходимости в исправлении данных нет.\n",
    "\n",
    "\n"
   ]
  },
  {
   "cell_type": "markdown",
   "metadata": {},
   "source": [
    "*Рассчитываем количество отправленных сообщений по месяцам*"
   ]
  },
  {
   "cell_type": "code",
   "execution_count": 38,
   "metadata": {},
   "outputs": [
    {
     "data": {
      "text/html": [
       "<div>\n",
       "<style scoped>\n",
       "    .dataframe tbody tr th:only-of-type {\n",
       "        vertical-align: middle;\n",
       "    }\n",
       "\n",
       "    .dataframe tbody tr th {\n",
       "        vertical-align: top;\n",
       "    }\n",
       "\n",
       "    .dataframe thead th {\n",
       "        text-align: right;\n",
       "    }\n",
       "</style>\n",
       "<table border=\"1\" class=\"dataframe\">\n",
       "  <thead>\n",
       "    <tr style=\"text-align: right;\">\n",
       "      <th>message_month</th>\n",
       "      <th>user_id</th>\n",
       "      <th>1</th>\n",
       "      <th>2</th>\n",
       "      <th>3</th>\n",
       "      <th>4</th>\n",
       "      <th>5</th>\n",
       "      <th>6</th>\n",
       "      <th>7</th>\n",
       "      <th>8</th>\n",
       "      <th>9</th>\n",
       "      <th>10</th>\n",
       "      <th>11</th>\n",
       "      <th>12</th>\n",
       "    </tr>\n",
       "  </thead>\n",
       "  <tbody>\n",
       "    <tr>\n",
       "      <th>0</th>\n",
       "      <td>1000</td>\n",
       "      <td>nan</td>\n",
       "      <td>nan</td>\n",
       "      <td>nan</td>\n",
       "      <td>nan</td>\n",
       "      <td>22.00</td>\n",
       "      <td>60.00</td>\n",
       "      <td>75.00</td>\n",
       "      <td>81.00</td>\n",
       "      <td>57.00</td>\n",
       "      <td>73.00</td>\n",
       "      <td>58.00</td>\n",
       "      <td>70.00</td>\n",
       "    </tr>\n",
       "    <tr>\n",
       "      <th>1</th>\n",
       "      <td>1002</td>\n",
       "      <td>nan</td>\n",
       "      <td>nan</td>\n",
       "      <td>nan</td>\n",
       "      <td>nan</td>\n",
       "      <td>nan</td>\n",
       "      <td>4.00</td>\n",
       "      <td>11.00</td>\n",
       "      <td>13.00</td>\n",
       "      <td>4.00</td>\n",
       "      <td>10.00</td>\n",
       "      <td>16.00</td>\n",
       "      <td>12.00</td>\n",
       "    </tr>\n",
       "  </tbody>\n",
       "</table>\n",
       "</div>"
      ],
      "text/plain": [
       "message_month  user_id          1          2          3          4          5  \\\n",
       "0                 1000        nan        nan        nan        nan      22.00   \n",
       "1                 1002        nan        nan        nan        nan        nan   \n",
       "\n",
       "message_month          6          7          8          9         10  \\\n",
       "0                  60.00      75.00      81.00      57.00      73.00   \n",
       "1                   4.00      11.00      13.00       4.00      10.00   \n",
       "\n",
       "message_month         11         12  \n",
       "0                  58.00      70.00  \n",
       "1                  16.00      12.00  "
      ]
     },
     "execution_count": 38,
     "metadata": {},
     "output_type": "execute_result"
    }
   ],
   "source": [
    "# считаем\n",
    "table_id_messages = df_messages.pivot_table(index=['user_id'], \n",
    "                                     columns='message_month',\n",
    "                                     values='id', \n",
    "                                     aggfunc='count'\n",
    "                                    )\n",
    "\n",
    "table_id_messages = table_id_messages.reset_index()\n",
    "\n",
    "table_id_messages.head(2)"
   ]
  },
  {
   "cell_type": "code",
   "execution_count": 39,
   "metadata": {},
   "outputs": [
    {
     "data": {
      "text/html": [
       "<div>\n",
       "<style scoped>\n",
       "    .dataframe tbody tr th:only-of-type {\n",
       "        vertical-align: middle;\n",
       "    }\n",
       "\n",
       "    .dataframe tbody tr th {\n",
       "        vertical-align: top;\n",
       "    }\n",
       "\n",
       "    .dataframe thead th {\n",
       "        text-align: right;\n",
       "    }\n",
       "</style>\n",
       "<table border=\"1\" class=\"dataframe\">\n",
       "  <thead>\n",
       "    <tr style=\"text-align: right;\">\n",
       "      <th></th>\n",
       "      <th>message_count_month_1</th>\n",
       "      <th>message_count_month_2</th>\n",
       "      <th>message_count_month_3</th>\n",
       "      <th>message_count_month_4</th>\n",
       "      <th>message_count_month_5</th>\n",
       "      <th>message_count_month_6</th>\n",
       "      <th>message_count_month_7</th>\n",
       "      <th>message_count_month_8</th>\n",
       "      <th>message_count_month_9</th>\n",
       "      <th>message_count_month_10</th>\n",
       "      <th>message_count_month_11</th>\n",
       "      <th>message_count_month_12</th>\n",
       "    </tr>\n",
       "    <tr>\n",
       "      <th>user_id</th>\n",
       "      <th></th>\n",
       "      <th></th>\n",
       "      <th></th>\n",
       "      <th></th>\n",
       "      <th></th>\n",
       "      <th></th>\n",
       "      <th></th>\n",
       "      <th></th>\n",
       "      <th></th>\n",
       "      <th></th>\n",
       "      <th></th>\n",
       "      <th></th>\n",
       "    </tr>\n",
       "  </thead>\n",
       "  <tbody>\n",
       "    <tr>\n",
       "      <th>1000</th>\n",
       "      <td>nan</td>\n",
       "      <td>nan</td>\n",
       "      <td>nan</td>\n",
       "      <td>nan</td>\n",
       "      <td>22.00</td>\n",
       "      <td>60.00</td>\n",
       "      <td>75.00</td>\n",
       "      <td>81.00</td>\n",
       "      <td>57.00</td>\n",
       "      <td>73.00</td>\n",
       "      <td>58.00</td>\n",
       "      <td>70.00</td>\n",
       "    </tr>\n",
       "    <tr>\n",
       "      <th>1002</th>\n",
       "      <td>nan</td>\n",
       "      <td>nan</td>\n",
       "      <td>nan</td>\n",
       "      <td>nan</td>\n",
       "      <td>nan</td>\n",
       "      <td>4.00</td>\n",
       "      <td>11.00</td>\n",
       "      <td>13.00</td>\n",
       "      <td>4.00</td>\n",
       "      <td>10.00</td>\n",
       "      <td>16.00</td>\n",
       "      <td>12.00</td>\n",
       "    </tr>\n",
       "  </tbody>\n",
       "</table>\n",
       "</div>"
      ],
      "text/plain": [
       "         message_count_month_1  message_count_month_2  message_count_month_3  \\\n",
       "user_id                                                                        \n",
       "1000                       nan                    nan                    nan   \n",
       "1002                       nan                    nan                    nan   \n",
       "\n",
       "         message_count_month_4  message_count_month_5  message_count_month_6  \\\n",
       "user_id                                                                        \n",
       "1000                       nan                  22.00                  60.00   \n",
       "1002                       nan                    nan                   4.00   \n",
       "\n",
       "         message_count_month_7  message_count_month_8  message_count_month_9  \\\n",
       "user_id                                                                        \n",
       "1000                     75.00                  81.00                  57.00   \n",
       "1002                     11.00                  13.00                   4.00   \n",
       "\n",
       "         message_count_month_10  message_count_month_11  \\\n",
       "user_id                                                   \n",
       "1000                      73.00                   58.00   \n",
       "1002                      10.00                   16.00   \n",
       "\n",
       "         message_count_month_12  \n",
       "user_id                          \n",
       "1000                      70.00  \n",
       "1002                      12.00  "
      ]
     },
     "execution_count": 39,
     "metadata": {},
     "output_type": "execute_result"
    }
   ],
   "source": [
    "#сделаем нормальые названия\n",
    "\n",
    "table_id_messages.columns = ['user_id',\n",
    "                              'message_count_month_1','message_count_month_2',\n",
    "                              'message_count_month_3','message_count_month_4',\n",
    "                              'message_count_month_5','message_count_month_6',\n",
    "                              'message_count_month_7','message_count_month_8',\n",
    "                              'message_count_month_9','message_count_month_10',\n",
    "                              'message_count_month_11','message_count_month_12',\n",
    "                             ]\n",
    "\n",
    "table_id_messages = table_id_messages.set_index('user_id')\n",
    "\n",
    "table_id_messages.head(2)"
   ]
  },
  {
   "cell_type": "markdown",
   "metadata": {},
   "source": [
    "*Добавляем информацию в массив df_users_join*"
   ]
  },
  {
   "cell_type": "code",
   "execution_count": 40,
   "metadata": {},
   "outputs": [
    {
     "name": "stdout",
     "output_type": "stream",
     "text": [
      "<class 'pandas.core.frame.DataFrame'>\n",
      "RangeIndex: 500 entries, 0 to 499\n",
      "Data columns (total 48 columns):\n",
      " #   Column                  Non-Null Count  Dtype         \n",
      "---  ------                  --------------  -----         \n",
      " 0   user_id                 500 non-null    object        \n",
      " 1   age                     500 non-null    int64         \n",
      " 2   churn_date              38 non-null     datetime64[ns]\n",
      " 3   city                    500 non-null    object        \n",
      " 4   first_name              500 non-null    object        \n",
      " 5   last_name               500 non-null    object        \n",
      " 6   reg_date                500 non-null    datetime64[ns]\n",
      " 7   tariff                  500 non-null    object        \n",
      " 8   reg_year                500 non-null    int64         \n",
      " 9   reg_month               500 non-null    int64         \n",
      " 10  churn_year              38 non-null     float64       \n",
      " 11  churn_month             38 non-null     float64       \n",
      " 12  calls_min_month_1       42 non-null     float64       \n",
      " 13  calls_min_month_2       81 non-null     float64       \n",
      " 14  calls_min_month_3       114 non-null    float64       \n",
      " 15  calls_min_month_4       164 non-null    float64       \n",
      " 16  calls_min_month_5       205 non-null    float64       \n",
      " 17  calls_min_month_6       244 non-null    float64       \n",
      " 18  calls_min_month_7       288 non-null    float64       \n",
      " 19  calls_min_month_8       336 non-null    float64       \n",
      " 20  calls_min_month_9       369 non-null    float64       \n",
      " 21  calls_min_month_10      411 non-null    float64       \n",
      " 22  calls_min_month_11      444 non-null    float64       \n",
      " 23  calls_min_month_12      470 non-null    float64       \n",
      " 24  calls_count_month_1     42 non-null     float64       \n",
      " 25  calls_count_month_2     81 non-null     float64       \n",
      " 26  calls_count_month_3     114 non-null    float64       \n",
      " 27  calls_count_month_4     164 non-null    float64       \n",
      " 28  calls_count_month_5     205 non-null    float64       \n",
      " 29  calls_count_month_6     244 non-null    float64       \n",
      " 30  calls_count_month_7     288 non-null    float64       \n",
      " 31  calls_count_month_8     336 non-null    float64       \n",
      " 32  calls_count_month_9     369 non-null    float64       \n",
      " 33  calls_count_month_10    411 non-null    float64       \n",
      " 34  calls_count_month_11    444 non-null    float64       \n",
      " 35  calls_count_month_12    470 non-null    float64       \n",
      " 36  message_count_month_1   38 non-null     float64       \n",
      " 37  message_count_month_2   66 non-null     float64       \n",
      " 38  message_count_month_3   94 non-null     float64       \n",
      " 39  message_count_month_4   135 non-null    float64       \n",
      " 40  message_count_month_5   174 non-null    float64       \n",
      " 41  message_count_month_6   209 non-null    float64       \n",
      " 42  message_count_month_7   247 non-null    float64       \n",
      " 43  message_count_month_8   292 non-null    float64       \n",
      " 44  message_count_month_9   318 non-null    float64       \n",
      " 45  message_count_month_10  357 non-null    float64       \n",
      " 46  message_count_month_11  383 non-null    float64       \n",
      " 47  message_count_month_12  404 non-null    float64       \n",
      "dtypes: datetime64[ns](2), float64(38), int64(3), object(5)\n",
      "memory usage: 187.6+ KB\n",
      "None\n"
     ]
    },
    {
     "data": {
      "text/html": [
       "<div>\n",
       "<style scoped>\n",
       "    .dataframe tbody tr th:only-of-type {\n",
       "        vertical-align: middle;\n",
       "    }\n",
       "\n",
       "    .dataframe tbody tr th {\n",
       "        vertical-align: top;\n",
       "    }\n",
       "\n",
       "    .dataframe thead th {\n",
       "        text-align: right;\n",
       "    }\n",
       "</style>\n",
       "<table border=\"1\" class=\"dataframe\">\n",
       "  <thead>\n",
       "    <tr style=\"text-align: right;\">\n",
       "      <th></th>\n",
       "      <th>user_id</th>\n",
       "      <th>age</th>\n",
       "      <th>churn_date</th>\n",
       "      <th>city</th>\n",
       "      <th>first_name</th>\n",
       "      <th>last_name</th>\n",
       "      <th>reg_date</th>\n",
       "      <th>tariff</th>\n",
       "      <th>reg_year</th>\n",
       "      <th>reg_month</th>\n",
       "      <th>...</th>\n",
       "      <th>message_count_month_3</th>\n",
       "      <th>message_count_month_4</th>\n",
       "      <th>message_count_month_5</th>\n",
       "      <th>message_count_month_6</th>\n",
       "      <th>message_count_month_7</th>\n",
       "      <th>message_count_month_8</th>\n",
       "      <th>message_count_month_9</th>\n",
       "      <th>message_count_month_10</th>\n",
       "      <th>message_count_month_11</th>\n",
       "      <th>message_count_month_12</th>\n",
       "    </tr>\n",
       "  </thead>\n",
       "  <tbody>\n",
       "    <tr>\n",
       "      <th>0</th>\n",
       "      <td>1000</td>\n",
       "      <td>52</td>\n",
       "      <td>NaT</td>\n",
       "      <td>Краснодар</td>\n",
       "      <td>Рафаил</td>\n",
       "      <td>Верещагин</td>\n",
       "      <td>2018-05-25</td>\n",
       "      <td>ultra</td>\n",
       "      <td>2018</td>\n",
       "      <td>5</td>\n",
       "      <td>...</td>\n",
       "      <td>nan</td>\n",
       "      <td>nan</td>\n",
       "      <td>22.00</td>\n",
       "      <td>60.00</td>\n",
       "      <td>75.00</td>\n",
       "      <td>81.00</td>\n",
       "      <td>57.00</td>\n",
       "      <td>73.00</td>\n",
       "      <td>58.00</td>\n",
       "      <td>70.00</td>\n",
       "    </tr>\n",
       "    <tr>\n",
       "      <th>1</th>\n",
       "      <td>1001</td>\n",
       "      <td>41</td>\n",
       "      <td>NaT</td>\n",
       "      <td>Москва</td>\n",
       "      <td>Иван</td>\n",
       "      <td>Ежов</td>\n",
       "      <td>2018-11-01</td>\n",
       "      <td>smart</td>\n",
       "      <td>2018</td>\n",
       "      <td>11</td>\n",
       "      <td>...</td>\n",
       "      <td>nan</td>\n",
       "      <td>nan</td>\n",
       "      <td>nan</td>\n",
       "      <td>nan</td>\n",
       "      <td>nan</td>\n",
       "      <td>nan</td>\n",
       "      <td>nan</td>\n",
       "      <td>nan</td>\n",
       "      <td>nan</td>\n",
       "      <td>nan</td>\n",
       "    </tr>\n",
       "  </tbody>\n",
       "</table>\n",
       "<p>2 rows × 48 columns</p>\n",
       "</div>"
      ],
      "text/plain": [
       "  user_id  age churn_date       city first_name  last_name   reg_date tariff  \\\n",
       "0    1000   52        NaT  Краснодар     Рафаил  Верещагин 2018-05-25  ultra   \n",
       "1    1001   41        NaT     Москва       Иван       Ежов 2018-11-01  smart   \n",
       "\n",
       "   reg_year  reg_month  ...  message_count_month_3  message_count_month_4  \\\n",
       "0      2018          5  ...                    nan                    nan   \n",
       "1      2018         11  ...                    nan                    nan   \n",
       "\n",
       "   message_count_month_5  message_count_month_6  message_count_month_7  \\\n",
       "0                  22.00                  60.00                  75.00   \n",
       "1                    nan                    nan                    nan   \n",
       "\n",
       "   message_count_month_8  message_count_month_9  message_count_month_10  \\\n",
       "0                  81.00                  57.00                   73.00   \n",
       "1                    nan                    nan                     nan   \n",
       "\n",
       "   message_count_month_11  message_count_month_12  \n",
       "0                   58.00                   70.00  \n",
       "1                     nan                     nan  \n",
       "\n",
       "[2 rows x 48 columns]"
      ]
     },
     "execution_count": 40,
     "metadata": {},
     "output_type": "execute_result"
    }
   ],
   "source": [
    "df_users_join = df_users_join.join(table_id_messages, on='user_id')\n",
    "\n",
    "print(df_users_join.info(2))\n",
    "\n",
    "df_users_join.head(2)"
   ]
  },
  {
   "cell_type": "markdown",
   "metadata": {},
   "source": [
    "___Вывод:___\n",
    "\n",
    "Сделали сводную таблицу, чтобы узнать для каждого айди количество сообщений в каждый месяц.\n",
    "Добавили эту информацию в базу клиентов"
   ]
  },
  {
   "cell_type": "markdown",
   "metadata": {},
   "source": [
    "Смотрим на следующую базу:\n",
    "### Таблица internet (информация об интернет-сессиях):\n",
    "\n",
    "* *Приводим данные к нужным типам*\n",
    "* *Находим и исправляем ошибки в данных (в том числе проверяем переменную Unnamed)*\n",
    "* *Рассчитываем объем израсходованного интернет-трафика по месяцам;*\n",
    "* *Добавляем информацию в массив df_users_join*"
   ]
  },
  {
   "cell_type": "markdown",
   "metadata": {},
   "source": [
    "*Приводим данные к нужным типам*"
   ]
  },
  {
   "cell_type": "code",
   "execution_count": 41,
   "metadata": {},
   "outputs": [
    {
     "name": "stdout",
     "output_type": "stream",
     "text": [
      "\u001b[1m \u001b[32minfo\u001b[0m \u001b[0m \n",
      "\n",
      "<class 'pandas.core.frame.DataFrame'>\n",
      "Int64Index: 149396 entries, 0 to 149395\n",
      "Data columns (total 6 columns):\n",
      " #   Column         Non-Null Count   Dtype         \n",
      "---  ------         --------------   -----         \n",
      " 0   id             149396 non-null  object        \n",
      " 1   mb_used        149396 non-null  float64       \n",
      " 2   session_date   149396 non-null  datetime64[ns]\n",
      " 3   user_id        149396 non-null  object        \n",
      " 4   session_year   149396 non-null  int64         \n",
      " 5   session_month  149396 non-null  int64         \n",
      "dtypes: datetime64[ns](1), float64(1), int64(2), object(2)\n",
      "memory usage: 8.0+ MB\n",
      "None\n",
      "\u001b[1m \u001b[32mhead\u001b[0m \u001b[0m \n",
      "\n"
     ]
    },
    {
     "data": {
      "text/html": [
       "<div>\n",
       "<style scoped>\n",
       "    .dataframe tbody tr th:only-of-type {\n",
       "        vertical-align: middle;\n",
       "    }\n",
       "\n",
       "    .dataframe tbody tr th {\n",
       "        vertical-align: top;\n",
       "    }\n",
       "\n",
       "    .dataframe thead th {\n",
       "        text-align: right;\n",
       "    }\n",
       "</style>\n",
       "<table border=\"1\" class=\"dataframe\">\n",
       "  <thead>\n",
       "    <tr style=\"text-align: right;\">\n",
       "      <th></th>\n",
       "      <th>id</th>\n",
       "      <th>mb_used</th>\n",
       "      <th>session_date</th>\n",
       "      <th>user_id</th>\n",
       "      <th>session_year</th>\n",
       "      <th>session_month</th>\n",
       "    </tr>\n",
       "  </thead>\n",
       "  <tbody>\n",
       "    <tr>\n",
       "      <th>0</th>\n",
       "      <td>1000_0</td>\n",
       "      <td>112.95</td>\n",
       "      <td>2018-11-25</td>\n",
       "      <td>1000</td>\n",
       "      <td>2018</td>\n",
       "      <td>11</td>\n",
       "    </tr>\n",
       "    <tr>\n",
       "      <th>1</th>\n",
       "      <td>1000_1</td>\n",
       "      <td>1052.81</td>\n",
       "      <td>2018-09-07</td>\n",
       "      <td>1000</td>\n",
       "      <td>2018</td>\n",
       "      <td>9</td>\n",
       "    </tr>\n",
       "    <tr>\n",
       "      <th>2</th>\n",
       "      <td>1000_2</td>\n",
       "      <td>1197.26</td>\n",
       "      <td>2018-06-25</td>\n",
       "      <td>1000</td>\n",
       "      <td>2018</td>\n",
       "      <td>6</td>\n",
       "    </tr>\n",
       "  </tbody>\n",
       "</table>\n",
       "</div>"
      ],
      "text/plain": [
       "       id    mb_used session_date user_id  session_year  session_month\n",
       "0  1000_0     112.95   2018-11-25    1000          2018             11\n",
       "1  1000_1    1052.81   2018-09-07    1000          2018              9\n",
       "2  1000_2    1197.26   2018-06-25    1000          2018              6"
      ]
     },
     "metadata": {},
     "output_type": "display_data"
    }
   ],
   "source": [
    "# Обьект\n",
    "df_internet['user_id'] = df_internet['user_id'].astype('object')\n",
    "\n",
    "# Дата\n",
    "df_internet['session_date'] = pd.to_datetime(df_internet[\n",
    "    'session_date'], format='%Y-%m-%d')\n",
    "\n",
    "# Сразу выделим месяц и год\n",
    "df_internet['session_year'] = df_internet['session_date'].dt.year\n",
    "df_internet['session_month'] = df_internet['session_date'].dt.month\n",
    "\n",
    "# Проверяем\n",
    "print_basic_info(df_internet,1,3,0)"
   ]
  },
  {
   "cell_type": "markdown",
   "metadata": {},
   "source": [
    " *Находим и исправляем ошибки в данных*"
   ]
  },
  {
   "cell_type": "markdown",
   "metadata": {},
   "source": [
    " ___id — уникальный номер сессии___"
   ]
  },
  {
   "cell_type": "code",
   "execution_count": 42,
   "metadata": {},
   "outputs": [
    {
     "name": "stdout",
     "output_type": "stream",
     "text": [
      "\u001b[1m \u001b[34mid\u001b[0m \u001b[0m \n",
      "\n",
      "count       149396\n",
      "unique      149396\n",
      "top       1429_464\n",
      "freq             1\n",
      "Name: id, dtype: object\n"
     ]
    }
   ],
   "source": [
    "ft_name_count(df_internet,\"id\", 0,0,1)\n",
    "\n",
    "#Все уникальные - отлично!"
   ]
  },
  {
   "cell_type": "markdown",
   "metadata": {},
   "source": [
    " ___mb_used — объём потраченного за сессию интернет-трафика (в мегабайтах)___"
   ]
  },
  {
   "cell_type": "code",
   "execution_count": 43,
   "metadata": {},
   "outputs": [
    {
     "name": "stdout",
     "output_type": "stream",
     "text": [
      "\u001b[1m \u001b[34mmb_used\u001b[0m \u001b[0m \n",
      "\n",
      "count    149396.00\n",
      "mean        370.19\n",
      "std         278.30\n",
      "min           0.00\n",
      "25%         138.19\n",
      "50%         348.01\n",
      "75%         559.55\n",
      "max        1724.83\n",
      "Name: mb_used, dtype: float64\n"
     ]
    }
   ],
   "source": [
    "ft_name_count(df_internet,\"mb_used\", 0,0,1)\n",
    "\n",
    "#Все уникальные - отлично!"
   ]
  },
  {
   "cell_type": "markdown",
   "metadata": {},
   "source": [
    " ___дата интернет-сессии___\n",
    " ___возьмем session_year, session_month ___"
   ]
  },
  {
   "cell_type": "code",
   "execution_count": 44,
   "metadata": {},
   "outputs": [
    {
     "name": "stdout",
     "output_type": "stream",
     "text": [
      "\u001b[1m \u001b[34msession_year\u001b[0m \u001b[0m \n",
      "\n",
      "2018         1.00\n",
      "Name: session_year, dtype: float64\n",
      "\u001b[1m \u001b[34msession_month\u001b[0m \u001b[0m \n",
      "\n",
      "1          0.01\n",
      "2          0.02\n",
      "3          0.03\n",
      "4          0.04\n",
      "5          0.06\n",
      "6          0.07\n",
      "7          0.09\n",
      "8          0.11\n",
      "9          0.12\n",
      "10         0.13\n",
      "11         0.15\n",
      "12         0.17\n",
      "Name: session_month, dtype: float64\n"
     ]
    }
   ],
   "source": [
    "ft_name_count(df_internet,\"session_year\", 1,0,0)\n",
    "ft_name_count(df_internet,\"session_month\", 1,1,0)\n",
    "\n",
    "#Только 18 год. все месяцы. супер"
   ]
  },
  {
   "cell_type": "markdown",
   "metadata": {},
   "source": [
    "Есть нули - возможно отмененные запросы?-  за них человек не платит изначит при оценке тарифа они не нужны.\n",
    "\n",
    "* *Уберем нули*\n",
    "\n",
    "В тарифе при подсчете данные округялются вверх до мегабайт\n",
    "\n",
    "* *Округлим вверх до мегабайт*"
   ]
  },
  {
   "cell_type": "markdown",
   "metadata": {},
   "source": [
    "<div class=\"alert alert-success\">\n",
    "<h2> Комментарий наставника</h2>\n",
    "\n",
    "Также предположение о том, откуда взялись данные нулевые значения высказано. Округление согласно правилам оператора произведено. \n",
    "\n",
    "</div>"
   ]
  },
  {
   "cell_type": "code",
   "execution_count": 45,
   "metadata": {},
   "outputs": [
    {
     "name": "stdout",
     "output_type": "stream",
     "text": [
      "\u001b[1m \u001b[34mmb_used\u001b[0m \u001b[0m \n",
      "\n",
      "count    129798.00\n",
      "mean        426.58\n",
      "std         255.60\n",
      "min           1.00\n",
      "25%         228.00\n",
      "50%         401.00\n",
      "75%         593.00\n",
      "max        1725.00\n",
      "Name: mb_used, dtype: float64\n"
     ]
    }
   ],
   "source": [
    "#Убираем нули\n",
    "df_internet = df_internet.query('mb_used != 0')\n",
    "\n",
    "#Округлим вверх \n",
    "df_internet['mb_used'] = np.ceil(df_internet['mb_used'])\n",
    "\n",
    "#проверяем\n",
    "ft_name_count(df_internet,\"mb_used\", 0,0,1)"
   ]
  },
  {
   "cell_type": "markdown",
   "metadata": {},
   "source": [
    " ___user_id — идентификатор пользователя___"
   ]
  },
  {
   "cell_type": "code",
   "execution_count": 46,
   "metadata": {},
   "outputs": [
    {
     "name": "stdout",
     "output_type": "stream",
     "text": [
      "\u001b[1m \u001b[34muser_id\u001b[0m \u001b[0m \n",
      "\n",
      "count     129798\n",
      "unique       497\n",
      "top         1240\n",
      "freq         731\n",
      "Name: user_id, dtype: int64\n"
     ]
    }
   ],
   "source": [
    "ft_name_count(df_internet,\"user_id\", 0,0,1)\n",
    "#Менее 500 уникальных айди. Отлично."
   ]
  },
  {
   "cell_type": "markdown",
   "metadata": {},
   "source": [
    "___Вывод:___\n",
    "\n",
    "Изменили типы данных где это необходимо. Выделили доп. переменые из дат.\n",
    "\n",
    "Дублей в уникальном номере звонка нет.\n",
    "\n",
    "Как и обещали - данные только с 2018 год. \n",
    "В первые месяцы года соединений меньше т.к. у нас выборка подключившихся за 18 год, а многие еше не подключились к тарифу.\n",
    "\n",
    "497 уникальнвх номеров юзеров значит почти все пользовались интернетом.\n",
    "\n",
    "**Корректировка**\n",
    "\n",
    "___mb_used___\n",
    "\n",
    "* Найдены нулевые значения (видимо не прошедшие запросы). Удалили кейсы с ними. За них человек не платит и значит при оценке тарифа они не нужны.\n",
    "* При подсчете в тарифе идет округление вверх до мб. Округлили в базе аналогично.\n",
    "\n",
    "___Unnamed: 0___\n",
    "\n",
    "* переменная дублирует индекс базы. Удалили"
   ]
  },
  {
   "cell_type": "markdown",
   "metadata": {},
   "source": [
    "*Рассчитываем объем израсходованного интернет-трафика по месяцам;*"
   ]
  },
  {
   "cell_type": "code",
   "execution_count": 47,
   "metadata": {},
   "outputs": [
    {
     "data": {
      "text/html": [
       "<div>\n",
       "<style scoped>\n",
       "    .dataframe tbody tr th:only-of-type {\n",
       "        vertical-align: middle;\n",
       "    }\n",
       "\n",
       "    .dataframe tbody tr th {\n",
       "        vertical-align: top;\n",
       "    }\n",
       "\n",
       "    .dataframe thead th {\n",
       "        text-align: right;\n",
       "    }\n",
       "</style>\n",
       "<table border=\"1\" class=\"dataframe\">\n",
       "  <thead>\n",
       "    <tr style=\"text-align: right;\">\n",
       "      <th>session_month</th>\n",
       "      <th>user_id</th>\n",
       "      <th>1</th>\n",
       "      <th>2</th>\n",
       "      <th>3</th>\n",
       "      <th>4</th>\n",
       "      <th>5</th>\n",
       "      <th>6</th>\n",
       "      <th>7</th>\n",
       "      <th>8</th>\n",
       "      <th>9</th>\n",
       "      <th>10</th>\n",
       "      <th>11</th>\n",
       "      <th>12</th>\n",
       "    </tr>\n",
       "  </thead>\n",
       "  <tbody>\n",
       "    <tr>\n",
       "      <th>0</th>\n",
       "      <td>1000</td>\n",
       "      <td>nan</td>\n",
       "      <td>nan</td>\n",
       "      <td>nan</td>\n",
       "      <td>nan</td>\n",
       "      <td>2256.00</td>\n",
       "      <td>23257.00</td>\n",
       "      <td>14016.00</td>\n",
       "      <td>14070.00</td>\n",
       "      <td>14581.00</td>\n",
       "      <td>14717.00</td>\n",
       "      <td>14768.00</td>\n",
       "      <td>9827.00</td>\n",
       "    </tr>\n",
       "    <tr>\n",
       "      <th>1</th>\n",
       "      <td>1001</td>\n",
       "      <td>nan</td>\n",
       "      <td>nan</td>\n",
       "      <td>nan</td>\n",
       "      <td>nan</td>\n",
       "      <td>nan</td>\n",
       "      <td>nan</td>\n",
       "      <td>nan</td>\n",
       "      <td>nan</td>\n",
       "      <td>nan</td>\n",
       "      <td>nan</td>\n",
       "      <td>18452.00</td>\n",
       "      <td>14053.00</td>\n",
       "    </tr>\n",
       "  </tbody>\n",
       "</table>\n",
       "</div>"
      ],
      "text/plain": [
       "session_month  user_id          1          2          3          4          5  \\\n",
       "0                 1000        nan        nan        nan        nan    2256.00   \n",
       "1                 1001        nan        nan        nan        nan        nan   \n",
       "\n",
       "session_month          6          7          8          9         10  \\\n",
       "0               23257.00   14016.00   14070.00   14581.00   14717.00   \n",
       "1                    nan        nan        nan        nan        nan   \n",
       "\n",
       "session_month         11         12  \n",
       "0               14768.00    9827.00  \n",
       "1               18452.00   14053.00  "
      ]
     },
     "execution_count": 47,
     "metadata": {},
     "output_type": "execute_result"
    }
   ],
   "source": [
    "# считаем\n",
    "table_id_internet = df_internet.pivot_table(index=['user_id'], \n",
    "                                     columns='session_month',\n",
    "                                     values='mb_used', \n",
    "                                     aggfunc='sum'\n",
    "                                    )\n",
    "\n",
    "table_id_internet = table_id_internet.reset_index()\n",
    "\n",
    "table_id_internet.head(2)"
   ]
  },
  {
   "cell_type": "code",
   "execution_count": 48,
   "metadata": {},
   "outputs": [
    {
     "data": {
      "text/html": [
       "<div>\n",
       "<style scoped>\n",
       "    .dataframe tbody tr th:only-of-type {\n",
       "        vertical-align: middle;\n",
       "    }\n",
       "\n",
       "    .dataframe tbody tr th {\n",
       "        vertical-align: top;\n",
       "    }\n",
       "\n",
       "    .dataframe thead th {\n",
       "        text-align: right;\n",
       "    }\n",
       "</style>\n",
       "<table border=\"1\" class=\"dataframe\">\n",
       "  <thead>\n",
       "    <tr style=\"text-align: right;\">\n",
       "      <th></th>\n",
       "      <th>session_mb_month_1</th>\n",
       "      <th>session_mb_month_2</th>\n",
       "      <th>session_mb_month_3</th>\n",
       "      <th>session_mb_month_4</th>\n",
       "      <th>session_mb_month_5</th>\n",
       "      <th>session_mb_month_6</th>\n",
       "      <th>session_mb_month_7</th>\n",
       "      <th>session_mb_month_8</th>\n",
       "      <th>session_mb_month_9</th>\n",
       "      <th>session_mb_month_10</th>\n",
       "      <th>session_mb_month_11</th>\n",
       "      <th>session_mb_month_12</th>\n",
       "    </tr>\n",
       "    <tr>\n",
       "      <th>user_id</th>\n",
       "      <th></th>\n",
       "      <th></th>\n",
       "      <th></th>\n",
       "      <th></th>\n",
       "      <th></th>\n",
       "      <th></th>\n",
       "      <th></th>\n",
       "      <th></th>\n",
       "      <th></th>\n",
       "      <th></th>\n",
       "      <th></th>\n",
       "      <th></th>\n",
       "    </tr>\n",
       "  </thead>\n",
       "  <tbody>\n",
       "    <tr>\n",
       "      <th>1000</th>\n",
       "      <td>nan</td>\n",
       "      <td>nan</td>\n",
       "      <td>nan</td>\n",
       "      <td>nan</td>\n",
       "      <td>2256.00</td>\n",
       "      <td>23257.00</td>\n",
       "      <td>14016.00</td>\n",
       "      <td>14070.00</td>\n",
       "      <td>14581.00</td>\n",
       "      <td>14717.00</td>\n",
       "      <td>14768.00</td>\n",
       "      <td>9827.00</td>\n",
       "    </tr>\n",
       "    <tr>\n",
       "      <th>1001</th>\n",
       "      <td>nan</td>\n",
       "      <td>nan</td>\n",
       "      <td>nan</td>\n",
       "      <td>nan</td>\n",
       "      <td>nan</td>\n",
       "      <td>nan</td>\n",
       "      <td>nan</td>\n",
       "      <td>nan</td>\n",
       "      <td>nan</td>\n",
       "      <td>nan</td>\n",
       "      <td>18452.00</td>\n",
       "      <td>14053.00</td>\n",
       "    </tr>\n",
       "  </tbody>\n",
       "</table>\n",
       "</div>"
      ],
      "text/plain": [
       "         session_mb_month_1  session_mb_month_2  session_mb_month_3  \\\n",
       "user_id                                                               \n",
       "1000                    nan                 nan                 nan   \n",
       "1001                    nan                 nan                 nan   \n",
       "\n",
       "         session_mb_month_4  session_mb_month_5  session_mb_month_6  \\\n",
       "user_id                                                               \n",
       "1000                    nan             2256.00            23257.00   \n",
       "1001                    nan                 nan                 nan   \n",
       "\n",
       "         session_mb_month_7  session_mb_month_8  session_mb_month_9  \\\n",
       "user_id                                                               \n",
       "1000               14016.00            14070.00            14581.00   \n",
       "1001                    nan                 nan                 nan   \n",
       "\n",
       "         session_mb_month_10  session_mb_month_11  session_mb_month_12  \n",
       "user_id                                                                 \n",
       "1000                14717.00             14768.00              9827.00  \n",
       "1001                     nan             18452.00             14053.00  "
      ]
     },
     "execution_count": 48,
     "metadata": {},
     "output_type": "execute_result"
    }
   ],
   "source": [
    "#сделаем нормальые названия\n",
    "\n",
    "table_id_internet.columns = ['user_id',\n",
    "                              'session_mb_month_1','session_mb_month_2',\n",
    "                              'session_mb_month_3','session_mb_month_4',\n",
    "                              'session_mb_month_5','session_mb_month_6',\n",
    "                              'session_mb_month_7','session_mb_month_8',\n",
    "                              'session_mb_month_9','session_mb_month_10',\n",
    "                              'session_mb_month_11','session_mb_month_12',\n",
    "                             ]\n",
    "\n",
    "table_id_internet = table_id_internet.set_index('user_id')\n",
    "\n",
    "table_id_internet.head(2)"
   ]
  },
  {
   "cell_type": "markdown",
   "metadata": {},
   "source": [
    "*Добавляем информацию в массив df_users_join*"
   ]
  },
  {
   "cell_type": "code",
   "execution_count": 49,
   "metadata": {},
   "outputs": [
    {
     "name": "stdout",
     "output_type": "stream",
     "text": [
      "<class 'pandas.core.frame.DataFrame'>\n",
      "RangeIndex: 500 entries, 0 to 499\n",
      "Data columns (total 60 columns):\n",
      " #   Column                  Non-Null Count  Dtype         \n",
      "---  ------                  --------------  -----         \n",
      " 0   user_id                 500 non-null    object        \n",
      " 1   age                     500 non-null    int64         \n",
      " 2   churn_date              38 non-null     datetime64[ns]\n",
      " 3   city                    500 non-null    object        \n",
      " 4   first_name              500 non-null    object        \n",
      " 5   last_name               500 non-null    object        \n",
      " 6   reg_date                500 non-null    datetime64[ns]\n",
      " 7   tariff                  500 non-null    object        \n",
      " 8   reg_year                500 non-null    int64         \n",
      " 9   reg_month               500 non-null    int64         \n",
      " 10  churn_year              38 non-null     float64       \n",
      " 11  churn_month             38 non-null     float64       \n",
      " 12  calls_min_month_1       42 non-null     float64       \n",
      " 13  calls_min_month_2       81 non-null     float64       \n",
      " 14  calls_min_month_3       114 non-null    float64       \n",
      " 15  calls_min_month_4       164 non-null    float64       \n",
      " 16  calls_min_month_5       205 non-null    float64       \n",
      " 17  calls_min_month_6       244 non-null    float64       \n",
      " 18  calls_min_month_7       288 non-null    float64       \n",
      " 19  calls_min_month_8       336 non-null    float64       \n",
      " 20  calls_min_month_9       369 non-null    float64       \n",
      " 21  calls_min_month_10      411 non-null    float64       \n",
      " 22  calls_min_month_11      444 non-null    float64       \n",
      " 23  calls_min_month_12      470 non-null    float64       \n",
      " 24  calls_count_month_1     42 non-null     float64       \n",
      " 25  calls_count_month_2     81 non-null     float64       \n",
      " 26  calls_count_month_3     114 non-null    float64       \n",
      " 27  calls_count_month_4     164 non-null    float64       \n",
      " 28  calls_count_month_5     205 non-null    float64       \n",
      " 29  calls_count_month_6     244 non-null    float64       \n",
      " 30  calls_count_month_7     288 non-null    float64       \n",
      " 31  calls_count_month_8     336 non-null    float64       \n",
      " 32  calls_count_month_9     369 non-null    float64       \n",
      " 33  calls_count_month_10    411 non-null    float64       \n",
      " 34  calls_count_month_11    444 non-null    float64       \n",
      " 35  calls_count_month_12    470 non-null    float64       \n",
      " 36  message_count_month_1   38 non-null     float64       \n",
      " 37  message_count_month_2   66 non-null     float64       \n",
      " 38  message_count_month_3   94 non-null     float64       \n",
      " 39  message_count_month_4   135 non-null    float64       \n",
      " 40  message_count_month_5   174 non-null    float64       \n",
      " 41  message_count_month_6   209 non-null    float64       \n",
      " 42  message_count_month_7   247 non-null    float64       \n",
      " 43  message_count_month_8   292 non-null    float64       \n",
      " 44  message_count_month_9   318 non-null    float64       \n",
      " 45  message_count_month_10  357 non-null    float64       \n",
      " 46  message_count_month_11  383 non-null    float64       \n",
      " 47  message_count_month_12  404 non-null    float64       \n",
      " 48  session_mb_month_1      43 non-null     float64       \n",
      " 49  session_mb_month_2      80 non-null     float64       \n",
      " 50  session_mb_month_3      114 non-null    float64       \n",
      " 51  session_mb_month_4      167 non-null    float64       \n",
      " 52  session_mb_month_5      206 non-null    float64       \n",
      " 53  session_mb_month_6      247 non-null    float64       \n",
      " 54  session_mb_month_7      291 non-null    float64       \n",
      " 55  session_mb_month_8      340 non-null    float64       \n",
      " 56  session_mb_month_9      374 non-null    float64       \n",
      " 57  session_mb_month_10     415 non-null    float64       \n",
      " 58  session_mb_month_11     449 non-null    float64       \n",
      " 59  session_mb_month_12     475 non-null    float64       \n",
      "dtypes: datetime64[ns](2), float64(50), int64(3), object(5)\n",
      "memory usage: 234.5+ KB\n",
      "None\n"
     ]
    },
    {
     "data": {
      "text/html": [
       "<div>\n",
       "<style scoped>\n",
       "    .dataframe tbody tr th:only-of-type {\n",
       "        vertical-align: middle;\n",
       "    }\n",
       "\n",
       "    .dataframe tbody tr th {\n",
       "        vertical-align: top;\n",
       "    }\n",
       "\n",
       "    .dataframe thead th {\n",
       "        text-align: right;\n",
       "    }\n",
       "</style>\n",
       "<table border=\"1\" class=\"dataframe\">\n",
       "  <thead>\n",
       "    <tr style=\"text-align: right;\">\n",
       "      <th></th>\n",
       "      <th>user_id</th>\n",
       "      <th>age</th>\n",
       "      <th>churn_date</th>\n",
       "      <th>city</th>\n",
       "      <th>first_name</th>\n",
       "      <th>last_name</th>\n",
       "      <th>reg_date</th>\n",
       "      <th>tariff</th>\n",
       "      <th>reg_year</th>\n",
       "      <th>reg_month</th>\n",
       "      <th>...</th>\n",
       "      <th>session_mb_month_3</th>\n",
       "      <th>session_mb_month_4</th>\n",
       "      <th>session_mb_month_5</th>\n",
       "      <th>session_mb_month_6</th>\n",
       "      <th>session_mb_month_7</th>\n",
       "      <th>session_mb_month_8</th>\n",
       "      <th>session_mb_month_9</th>\n",
       "      <th>session_mb_month_10</th>\n",
       "      <th>session_mb_month_11</th>\n",
       "      <th>session_mb_month_12</th>\n",
       "    </tr>\n",
       "  </thead>\n",
       "  <tbody>\n",
       "    <tr>\n",
       "      <th>0</th>\n",
       "      <td>1000</td>\n",
       "      <td>52</td>\n",
       "      <td>NaT</td>\n",
       "      <td>Краснодар</td>\n",
       "      <td>Рафаил</td>\n",
       "      <td>Верещагин</td>\n",
       "      <td>2018-05-25</td>\n",
       "      <td>ultra</td>\n",
       "      <td>2018</td>\n",
       "      <td>5</td>\n",
       "      <td>...</td>\n",
       "      <td>nan</td>\n",
       "      <td>nan</td>\n",
       "      <td>2256.00</td>\n",
       "      <td>23257.00</td>\n",
       "      <td>14016.00</td>\n",
       "      <td>14070.00</td>\n",
       "      <td>14581.00</td>\n",
       "      <td>14717.00</td>\n",
       "      <td>14768.00</td>\n",
       "      <td>9827.00</td>\n",
       "    </tr>\n",
       "    <tr>\n",
       "      <th>1</th>\n",
       "      <td>1001</td>\n",
       "      <td>41</td>\n",
       "      <td>NaT</td>\n",
       "      <td>Москва</td>\n",
       "      <td>Иван</td>\n",
       "      <td>Ежов</td>\n",
       "      <td>2018-11-01</td>\n",
       "      <td>smart</td>\n",
       "      <td>2018</td>\n",
       "      <td>11</td>\n",
       "      <td>...</td>\n",
       "      <td>nan</td>\n",
       "      <td>nan</td>\n",
       "      <td>nan</td>\n",
       "      <td>nan</td>\n",
       "      <td>nan</td>\n",
       "      <td>nan</td>\n",
       "      <td>nan</td>\n",
       "      <td>nan</td>\n",
       "      <td>18452.00</td>\n",
       "      <td>14053.00</td>\n",
       "    </tr>\n",
       "  </tbody>\n",
       "</table>\n",
       "<p>2 rows × 60 columns</p>\n",
       "</div>"
      ],
      "text/plain": [
       "  user_id  age churn_date       city first_name  last_name   reg_date tariff  \\\n",
       "0    1000   52        NaT  Краснодар     Рафаил  Верещагин 2018-05-25  ultra   \n",
       "1    1001   41        NaT     Москва       Иван       Ежов 2018-11-01  smart   \n",
       "\n",
       "   reg_year  reg_month  ...  session_mb_month_3  session_mb_month_4  \\\n",
       "0      2018          5  ...                 nan                 nan   \n",
       "1      2018         11  ...                 nan                 nan   \n",
       "\n",
       "   session_mb_month_5  session_mb_month_6  session_mb_month_7  \\\n",
       "0             2256.00            23257.00            14016.00   \n",
       "1                 nan                 nan                 nan   \n",
       "\n",
       "   session_mb_month_8  session_mb_month_9  session_mb_month_10  \\\n",
       "0            14070.00            14581.00             14717.00   \n",
       "1                 nan                 nan                  nan   \n",
       "\n",
       "   session_mb_month_11  session_mb_month_12  \n",
       "0             14768.00              9827.00  \n",
       "1             18452.00             14053.00  \n",
       "\n",
       "[2 rows x 60 columns]"
      ]
     },
     "execution_count": 49,
     "metadata": {},
     "output_type": "execute_result"
    }
   ],
   "source": [
    "df_users_join = df_users_join.join(table_id_internet, on='user_id')\n",
    "\n",
    "print(df_users_join.info(2))\n",
    "\n",
    "df_users_join.head(2)"
   ]
  },
  {
   "cell_type": "markdown",
   "metadata": {},
   "source": [
    "___Вывод:___\n",
    "\n",
    "Сделали сводную таблицу, чтобы узнать для каждого айди сумму использованных мб в каждый месяц.\n",
    "Добавили эту информацию в базу клиентов."
   ]
  },
  {
   "cell_type": "markdown",
   "metadata": {},
   "source": [
    "<div class=\"alert alert-warning\">\n",
    "<h2> Комментарий наставника</h2>\n",
    "\n",
    "Таблица с 60 колонками выглядит менее естественно, чем та, которая может быть получена при использовании другой структуры таблицы. Расчеты также станут гораздо легче. Однако и при использовании твоей таблицы вполне можно получить необходимые результаты. \n",
    "\n",
    "</div>"
   ]
  },
  {
   "cell_type": "markdown",
   "metadata": {},
   "source": [
    "Смотрим на базу\n",
    "### df_users_join:\n",
    "\n",
    "* *Добавляем информацию из массиа df_tariffs*\n",
    "\n",
    "* *Рассчитываем помесячную выручку с каждого пользователя* (вычтите бесплатный лимит из суммарного количества звонков, сообщений и интернет-трафика; остаток умножьте на значение из тарифного плана; прибавьте абонентскую плату, соответствующую тарифному плану)."
   ]
  },
  {
   "cell_type": "markdown",
   "metadata": {},
   "source": [
    "*Добавляем информацию из массиа df_tariffs*"
   ]
  },
  {
   "cell_type": "code",
   "execution_count": 50,
   "metadata": {},
   "outputs": [
    {
     "data": {
      "text/html": [
       "<div>\n",
       "<style scoped>\n",
       "    .dataframe tbody tr th:only-of-type {\n",
       "        vertical-align: middle;\n",
       "    }\n",
       "\n",
       "    .dataframe tbody tr th {\n",
       "        vertical-align: top;\n",
       "    }\n",
       "\n",
       "    .dataframe thead th {\n",
       "        text-align: right;\n",
       "    }\n",
       "</style>\n",
       "<table border=\"1\" class=\"dataframe\">\n",
       "  <thead>\n",
       "    <tr style=\"text-align: right;\">\n",
       "      <th></th>\n",
       "      <th>messages_included</th>\n",
       "      <th>mb_per_month_included</th>\n",
       "      <th>minutes_included</th>\n",
       "      <th>rub_monthly_fee</th>\n",
       "      <th>rub_per_gb</th>\n",
       "      <th>rub_per_message</th>\n",
       "      <th>rub_per_minute</th>\n",
       "      <th>tariff_name</th>\n",
       "    </tr>\n",
       "  </thead>\n",
       "  <tbody>\n",
       "    <tr>\n",
       "      <th>0</th>\n",
       "      <td>50</td>\n",
       "      <td>15360</td>\n",
       "      <td>500</td>\n",
       "      <td>550</td>\n",
       "      <td>200</td>\n",
       "      <td>3</td>\n",
       "      <td>3</td>\n",
       "      <td>smart</td>\n",
       "    </tr>\n",
       "    <tr>\n",
       "      <th>1</th>\n",
       "      <td>1000</td>\n",
       "      <td>30720</td>\n",
       "      <td>3000</td>\n",
       "      <td>1950</td>\n",
       "      <td>150</td>\n",
       "      <td>1</td>\n",
       "      <td>1</td>\n",
       "      <td>ultra</td>\n",
       "    </tr>\n",
       "  </tbody>\n",
       "</table>\n",
       "</div>"
      ],
      "text/plain": [
       "   messages_included  mb_per_month_included  minutes_included  \\\n",
       "0                 50                  15360               500   \n",
       "1               1000                  30720              3000   \n",
       "\n",
       "   rub_monthly_fee  rub_per_gb  rub_per_message  rub_per_minute tariff_name  \n",
       "0              550         200                3               3       smart  \n",
       "1             1950         150                1               1       ultra  "
      ]
     },
     "execution_count": 50,
     "metadata": {},
     "output_type": "execute_result"
    }
   ],
   "source": [
    "# смотрим сходится ли с описанием\n",
    "df_tariffs.head()\n",
    "# сходится"
   ]
  },
  {
   "cell_type": "code",
   "execution_count": 51,
   "metadata": {},
   "outputs": [
    {
     "name": "stdout",
     "output_type": "stream",
     "text": [
      "<class 'pandas.core.frame.DataFrame'>\n",
      "Int64Index: 500 entries, 0 to 499\n",
      "Data columns (total 68 columns):\n",
      " #   Column                  Non-Null Count  Dtype         \n",
      "---  ------                  --------------  -----         \n",
      " 0   user_id                 500 non-null    object        \n",
      " 1   age                     500 non-null    int64         \n",
      " 2   churn_date              38 non-null     datetime64[ns]\n",
      " 3   city                    500 non-null    object        \n",
      " 4   first_name              500 non-null    object        \n",
      " 5   last_name               500 non-null    object        \n",
      " 6   reg_date                500 non-null    datetime64[ns]\n",
      " 7   tariff                  500 non-null    object        \n",
      " 8   reg_year                500 non-null    int64         \n",
      " 9   reg_month               500 non-null    int64         \n",
      " 10  churn_year              38 non-null     float64       \n",
      " 11  churn_month             38 non-null     float64       \n",
      " 12  calls_min_month_1       42 non-null     float64       \n",
      " 13  calls_min_month_2       81 non-null     float64       \n",
      " 14  calls_min_month_3       114 non-null    float64       \n",
      " 15  calls_min_month_4       164 non-null    float64       \n",
      " 16  calls_min_month_5       205 non-null    float64       \n",
      " 17  calls_min_month_6       244 non-null    float64       \n",
      " 18  calls_min_month_7       288 non-null    float64       \n",
      " 19  calls_min_month_8       336 non-null    float64       \n",
      " 20  calls_min_month_9       369 non-null    float64       \n",
      " 21  calls_min_month_10      411 non-null    float64       \n",
      " 22  calls_min_month_11      444 non-null    float64       \n",
      " 23  calls_min_month_12      470 non-null    float64       \n",
      " 24  calls_count_month_1     42 non-null     float64       \n",
      " 25  calls_count_month_2     81 non-null     float64       \n",
      " 26  calls_count_month_3     114 non-null    float64       \n",
      " 27  calls_count_month_4     164 non-null    float64       \n",
      " 28  calls_count_month_5     205 non-null    float64       \n",
      " 29  calls_count_month_6     244 non-null    float64       \n",
      " 30  calls_count_month_7     288 non-null    float64       \n",
      " 31  calls_count_month_8     336 non-null    float64       \n",
      " 32  calls_count_month_9     369 non-null    float64       \n",
      " 33  calls_count_month_10    411 non-null    float64       \n",
      " 34  calls_count_month_11    444 non-null    float64       \n",
      " 35  calls_count_month_12    470 non-null    float64       \n",
      " 36  message_count_month_1   38 non-null     float64       \n",
      " 37  message_count_month_2   66 non-null     float64       \n",
      " 38  message_count_month_3   94 non-null     float64       \n",
      " 39  message_count_month_4   135 non-null    float64       \n",
      " 40  message_count_month_5   174 non-null    float64       \n",
      " 41  message_count_month_6   209 non-null    float64       \n",
      " 42  message_count_month_7   247 non-null    float64       \n",
      " 43  message_count_month_8   292 non-null    float64       \n",
      " 44  message_count_month_9   318 non-null    float64       \n",
      " 45  message_count_month_10  357 non-null    float64       \n",
      " 46  message_count_month_11  383 non-null    float64       \n",
      " 47  message_count_month_12  404 non-null    float64       \n",
      " 48  session_mb_month_1      43 non-null     float64       \n",
      " 49  session_mb_month_2      80 non-null     float64       \n",
      " 50  session_mb_month_3      114 non-null    float64       \n",
      " 51  session_mb_month_4      167 non-null    float64       \n",
      " 52  session_mb_month_5      206 non-null    float64       \n",
      " 53  session_mb_month_6      247 non-null    float64       \n",
      " 54  session_mb_month_7      291 non-null    float64       \n",
      " 55  session_mb_month_8      340 non-null    float64       \n",
      " 56  session_mb_month_9      374 non-null    float64       \n",
      " 57  session_mb_month_10     415 non-null    float64       \n",
      " 58  session_mb_month_11     449 non-null    float64       \n",
      " 59  session_mb_month_12     475 non-null    float64       \n",
      " 60  messages_included       500 non-null    int64         \n",
      " 61  mb_per_month_included   500 non-null    int64         \n",
      " 62  minutes_included        500 non-null    int64         \n",
      " 63  rub_monthly_fee         500 non-null    int64         \n",
      " 64  rub_per_gb              500 non-null    int64         \n",
      " 65  rub_per_message         500 non-null    int64         \n",
      " 66  rub_per_minute          500 non-null    int64         \n",
      " 67  tariff_name             500 non-null    object        \n",
      "dtypes: datetime64[ns](2), float64(50), int64(10), object(6)\n",
      "memory usage: 269.5+ KB\n",
      "None\n"
     ]
    },
    {
     "data": {
      "text/html": [
       "<div>\n",
       "<style scoped>\n",
       "    .dataframe tbody tr th:only-of-type {\n",
       "        vertical-align: middle;\n",
       "    }\n",
       "\n",
       "    .dataframe tbody tr th {\n",
       "        vertical-align: top;\n",
       "    }\n",
       "\n",
       "    .dataframe thead th {\n",
       "        text-align: right;\n",
       "    }\n",
       "</style>\n",
       "<table border=\"1\" class=\"dataframe\">\n",
       "  <thead>\n",
       "    <tr style=\"text-align: right;\">\n",
       "      <th></th>\n",
       "      <th>user_id</th>\n",
       "      <th>age</th>\n",
       "      <th>churn_date</th>\n",
       "      <th>city</th>\n",
       "      <th>first_name</th>\n",
       "      <th>last_name</th>\n",
       "      <th>reg_date</th>\n",
       "      <th>tariff</th>\n",
       "      <th>reg_year</th>\n",
       "      <th>reg_month</th>\n",
       "      <th>...</th>\n",
       "      <th>session_mb_month_11</th>\n",
       "      <th>session_mb_month_12</th>\n",
       "      <th>messages_included</th>\n",
       "      <th>mb_per_month_included</th>\n",
       "      <th>minutes_included</th>\n",
       "      <th>rub_monthly_fee</th>\n",
       "      <th>rub_per_gb</th>\n",
       "      <th>rub_per_message</th>\n",
       "      <th>rub_per_minute</th>\n",
       "      <th>tariff_name</th>\n",
       "    </tr>\n",
       "  </thead>\n",
       "  <tbody>\n",
       "    <tr>\n",
       "      <th>0</th>\n",
       "      <td>1000</td>\n",
       "      <td>52</td>\n",
       "      <td>NaT</td>\n",
       "      <td>Краснодар</td>\n",
       "      <td>Рафаил</td>\n",
       "      <td>Верещагин</td>\n",
       "      <td>2018-05-25</td>\n",
       "      <td>ultra</td>\n",
       "      <td>2018</td>\n",
       "      <td>5</td>\n",
       "      <td>...</td>\n",
       "      <td>14768.00</td>\n",
       "      <td>9827.00</td>\n",
       "      <td>1000</td>\n",
       "      <td>30720</td>\n",
       "      <td>3000</td>\n",
       "      <td>1950</td>\n",
       "      <td>150</td>\n",
       "      <td>1</td>\n",
       "      <td>1</td>\n",
       "      <td>ultra</td>\n",
       "    </tr>\n",
       "    <tr>\n",
       "      <th>1</th>\n",
       "      <td>1003</td>\n",
       "      <td>23</td>\n",
       "      <td>NaT</td>\n",
       "      <td>Москва</td>\n",
       "      <td>Белла</td>\n",
       "      <td>Белякова</td>\n",
       "      <td>2018-08-17</td>\n",
       "      <td>ultra</td>\n",
       "      <td>2018</td>\n",
       "      <td>8</td>\n",
       "      <td>...</td>\n",
       "      <td>11368.00</td>\n",
       "      <td>10132.00</td>\n",
       "      <td>1000</td>\n",
       "      <td>30720</td>\n",
       "      <td>3000</td>\n",
       "      <td>1950</td>\n",
       "      <td>150</td>\n",
       "      <td>1</td>\n",
       "      <td>1</td>\n",
       "      <td>ultra</td>\n",
       "    </tr>\n",
       "    <tr>\n",
       "      <th>2</th>\n",
       "      <td>1004</td>\n",
       "      <td>68</td>\n",
       "      <td>NaT</td>\n",
       "      <td>Новокузнецк</td>\n",
       "      <td>Татьяна</td>\n",
       "      <td>Авдеенко</td>\n",
       "      <td>2018-05-14</td>\n",
       "      <td>ultra</td>\n",
       "      <td>2018</td>\n",
       "      <td>5</td>\n",
       "      <td>...</td>\n",
       "      <td>15631.00</td>\n",
       "      <td>18038.00</td>\n",
       "      <td>1000</td>\n",
       "      <td>30720</td>\n",
       "      <td>3000</td>\n",
       "      <td>1950</td>\n",
       "      <td>150</td>\n",
       "      <td>1</td>\n",
       "      <td>1</td>\n",
       "      <td>ultra</td>\n",
       "    </tr>\n",
       "    <tr>\n",
       "      <th>3</th>\n",
       "      <td>1013</td>\n",
       "      <td>36</td>\n",
       "      <td>NaT</td>\n",
       "      <td>Иваново</td>\n",
       "      <td>Борис</td>\n",
       "      <td>Андреенко</td>\n",
       "      <td>2018-11-14</td>\n",
       "      <td>ultra</td>\n",
       "      <td>2018</td>\n",
       "      <td>11</td>\n",
       "      <td>...</td>\n",
       "      <td>9790.00</td>\n",
       "      <td>20755.00</td>\n",
       "      <td>1000</td>\n",
       "      <td>30720</td>\n",
       "      <td>3000</td>\n",
       "      <td>1950</td>\n",
       "      <td>150</td>\n",
       "      <td>1</td>\n",
       "      <td>1</td>\n",
       "      <td>ultra</td>\n",
       "    </tr>\n",
       "    <tr>\n",
       "      <th>4</th>\n",
       "      <td>1016</td>\n",
       "      <td>58</td>\n",
       "      <td>NaT</td>\n",
       "      <td>Омск</td>\n",
       "      <td>Марица</td>\n",
       "      <td>Сазонова</td>\n",
       "      <td>2018-11-21</td>\n",
       "      <td>ultra</td>\n",
       "      <td>2018</td>\n",
       "      <td>11</td>\n",
       "      <td>...</td>\n",
       "      <td>7388.00</td>\n",
       "      <td>19446.00</td>\n",
       "      <td>1000</td>\n",
       "      <td>30720</td>\n",
       "      <td>3000</td>\n",
       "      <td>1950</td>\n",
       "      <td>150</td>\n",
       "      <td>1</td>\n",
       "      <td>1</td>\n",
       "      <td>ultra</td>\n",
       "    </tr>\n",
       "  </tbody>\n",
       "</table>\n",
       "<p>5 rows × 68 columns</p>\n",
       "</div>"
      ],
      "text/plain": [
       "  user_id  age churn_date         city first_name  last_name   reg_date  \\\n",
       "0    1000   52        NaT    Краснодар     Рафаил  Верещагин 2018-05-25   \n",
       "1    1003   23        NaT       Москва      Белла   Белякова 2018-08-17   \n",
       "2    1004   68        NaT  Новокузнецк    Татьяна   Авдеенко 2018-05-14   \n",
       "3    1013   36        NaT      Иваново      Борис  Андреенко 2018-11-14   \n",
       "4    1016   58        NaT         Омск     Марица   Сазонова 2018-11-21   \n",
       "\n",
       "  tariff  reg_year  reg_month  ...  session_mb_month_11  session_mb_month_12  \\\n",
       "0  ultra      2018          5  ...             14768.00              9827.00   \n",
       "1  ultra      2018          8  ...             11368.00             10132.00   \n",
       "2  ultra      2018          5  ...             15631.00             18038.00   \n",
       "3  ultra      2018         11  ...              9790.00             20755.00   \n",
       "4  ultra      2018         11  ...              7388.00             19446.00   \n",
       "\n",
       "   messages_included  mb_per_month_included  minutes_included  \\\n",
       "0               1000                  30720              3000   \n",
       "1               1000                  30720              3000   \n",
       "2               1000                  30720              3000   \n",
       "3               1000                  30720              3000   \n",
       "4               1000                  30720              3000   \n",
       "\n",
       "   rub_monthly_fee  rub_per_gb  rub_per_message  rub_per_minute  tariff_name  \n",
       "0             1950         150                1               1        ultra  \n",
       "1             1950         150                1               1        ultra  \n",
       "2             1950         150                1               1        ultra  \n",
       "3             1950         150                1               1        ultra  \n",
       "4             1950         150                1               1        ultra  \n",
       "\n",
       "[5 rows x 68 columns]"
      ]
     },
     "execution_count": 51,
     "metadata": {},
     "output_type": "execute_result"
    }
   ],
   "source": [
    "df_users_join = df_users_join.merge(df_tariffs, \n",
    "                                   left_on='tariff', \n",
    "                                   right_on='tariff_name')\n",
    "print(df_users_join.info())\n",
    "\n",
    "df_users_join.head(5)"
   ]
  },
  {
   "cell_type": "markdown",
   "metadata": {},
   "source": [
    "*Рассчитываем помесячную выручку с каждого пользователя* \n",
    "* вычтите бесплатный лимит из суммарного количества звонков, сообщений и интернет-трафика\n",
    "* остаток умножьте на значение из тарифного плана\n",
    "* прибавьте абонентскую плату, соответствующую тарифному плану"
   ]
  },
  {
   "cell_type": "markdown",
   "metadata": {},
   "source": [
    "*вычтите бесплатный лимит из суммарного количества звонков, сообщений и интернет-трафика*"
   ]
  },
  {
   "cell_type": "code",
   "execution_count": 52,
   "metadata": {},
   "outputs": [
    {
     "name": "stdout",
     "output_type": "stream",
     "text": [
      "\u001b[1m \u001b[34mextra_min_month_7\u001b[0m \u001b[0m \n",
      "\n",
      "count       288.00\n",
      "mean       -797.76\n",
      "std        1097.11\n",
      "min       -2988.00\n",
      "25%       -2175.75\n",
      "50%        -196.50\n",
      "75%          -7.00\n",
      "max         339.00\n",
      "Name: extra_min_month_7, dtype: float64\n"
     ]
    }
   ],
   "source": [
    "#посмотрим экстра минуты, смс и трафик \n",
    "i = 1\n",
    "while i <= 12:\n",
    "    df_users_join['extra_min_month_'+ str(i)] =  df_users_join[\n",
    "        'calls_min_month_'+ str(i)] - df_users_join['minutes_included']\n",
    "    df_users_join['extra_mb_month_'+ str(i)] =  df_users_join[\n",
    "        'session_mb_month_'+ str(i)] - df_users_join['mb_per_month_included']\n",
    "    df_users_join['extra_messages_month_'+ str(i)] = df_users_join[\n",
    "        'message_count_month_'+ str(i)] - df_users_join['messages_included'] \n",
    "    i += 1\n",
    "\n",
    "#посмотрим пример\n",
    "ft_name_count(df_users_join,\"extra_min_month_7\", 0,0,1)"
   ]
  },
  {
   "cell_type": "markdown",
   "metadata": {},
   "source": [
    "Обнулим недоборы и удалим данные для тех месяцев, когда люди не были подключены    "
   ]
  },
  {
   "cell_type": "code",
   "execution_count": 53,
   "metadata": {},
   "outputs": [
    {
     "name": "stdout",
     "output_type": "stream",
     "text": [
      "\u001b[1m \u001b[34mextra_mb_month_7\u001b[0m \u001b[0m \n",
      "\n",
      "count        292.00\n",
      "unique       126.00\n",
      "top            0.00\n",
      "freq         166.00\n",
      "Name: extra_mb_month_7, dtype: float64\n"
     ]
    }
   ],
   "source": [
    "i = 1\n",
    "while i <= 12:\n",
    "    df_users_join['extra_min_month_'+ str(i)] = df_users_join[\n",
    "        'extra_min_month_'+ str(i)].where(df_users_join['extra_min_month_'+ str(i)] >= 0 ,0)\n",
    "    df_users_join['extra_min_month_'+ str(i)] = df_users_join[\n",
    "        'extra_min_month_'+ str(i)].where((df_users_join['reg_month'] <= i) & (\n",
    "                                          (df_users_join['churn_month'] >= i) |\n",
    "                                          (df_users_join['churn_month'].isnull() == True))\n",
    "                                          , None)\n",
    "    df_users_join['extra_mb_month_'+ str(i)] = df_users_join[\n",
    "        'extra_mb_month_'+ str(i)].where(df_users_join['extra_mb_month_'+ str(i)] >= 0 ,0)\n",
    "    df_users_join['extra_mb_month_'+ str(i)] = df_users_join[\n",
    "        'extra_mb_month_'+ str(i)].where((df_users_join['reg_month'] <= i) & (\n",
    "                                          (df_users_join['churn_month'] >= i) |\n",
    "                                          (df_users_join['churn_month'].isnull() == True))\n",
    "                                          , None)\n",
    "    df_users_join['extra_messages_month_'+ str(i)] = df_users_join[\n",
    "        'extra_messages_month_'+ str(i)].where(df_users_join[\n",
    "        'extra_messages_month_'+ str(i)] >= 0 ,0)\n",
    "    df_users_join['extra_messages_month_'+ str(i)] = df_users_join[\n",
    "        'extra_messages_month_'+ str(i)].where((df_users_join['reg_month'] <= i) & (\n",
    "                                          (df_users_join['churn_month'] >= i) |\n",
    "                                          (df_users_join['churn_month'].isnull() == True))\n",
    "                                          , None)\n",
    "    i += 1\n",
    "\n",
    "#посмотрим пример\n",
    "ft_name_count(df_users_join,\"extra_mb_month_7\", 0,0,1)"
   ]
  },
  {
   "cell_type": "markdown",
   "metadata": {},
   "source": [
    "___Досчитываем arpu___ \n",
    "* остаток минтут/смс/мб на умножьте на значение из тарифного плана (при этом округление по ГБ т.к. оплата по ГБ)\n",
    "* прибавьте абонентскую плату, соответствующую тарифному плану\n"
   ]
  },
  {
   "cell_type": "code",
   "execution_count": 54,
   "metadata": {},
   "outputs": [
    {
     "name": "stdout",
     "output_type": "stream",
     "text": [
      "count        134.00\n",
      "unique        13.00\n",
      "top         1950.00\n",
      "freq         113.00\n",
      "Name: arpu_month_11, dtype: float64\n",
      "count        316.00\n",
      "unique       164.00\n",
      "top          550.00\n",
      "freq          63.00\n",
      "Name: arpu_month_11, dtype: float64\n"
     ]
    }
   ],
   "source": [
    "#посмотрим экстра минуты, смс и трафик \n",
    "i = 1\n",
    "while i <= 12:\n",
    "    df_users_join['arpu_month_'+ str(i)] =  df_users_join['rub_monthly_fee'] + df_users_join[\n",
    "        'extra_min_month_'+ str(i)]*df_users_join['rub_per_minute'] + df_users_join[\n",
    "        'extra_messages_month_'+ str(i)]*df_users_join[\n",
    "        'rub_per_message'] + np.ceil(df_users_join[\n",
    "        'extra_mb_month_'+ str(i)].where((df_users_join['extra_mb_month_'+ str(i)].isnull() \n",
    "                                         != True), 0) / 1024)*df_users_join['rub_per_gb']\n",
    "    df_users_join['arpu_month_'+ str(i)] = df_users_join[\n",
    "        'arpu_month_'+ str(i)].where((df_users_join[\n",
    "        'reg_month'] <= i) & ((df_users_join['churn_month'] >= i) |\n",
    "                              (df_users_join['churn_month'].isnull() == True)), None)   \n",
    "    i += 1\n",
    "\n",
    "#посмотрим пример\n",
    "print(df_users_join.query('tariff == \"ultra\"')['arpu_month_11'].describe())\n",
    "print(df_users_join.query('tariff == \"smart\"')['arpu_month_11'].describe())"
   ]
  },
  {
   "cell_type": "markdown",
   "metadata": {},
   "source": [
    "Убьем промежуточные переменные (extra) и сделаем arpu ньюмериком"
   ]
  },
  {
   "cell_type": "code",
   "execution_count": 55,
   "metadata": {},
   "outputs": [
    {
     "name": "stdout",
     "output_type": "stream",
     "text": [
      "<class 'pandas.core.frame.DataFrame'>\n",
      "Int64Index: 500 entries, 0 to 499\n",
      "Data columns (total 79 columns):\n",
      " #   Column                  Non-Null Count  Dtype         \n",
      "---  ------                  --------------  -----         \n",
      " 0   user_id                 500 non-null    object        \n",
      " 1   age                     500 non-null    int64         \n",
      " 2   churn_date              38 non-null     datetime64[ns]\n",
      " 3   city                    500 non-null    object        \n",
      " 4   first_name              500 non-null    object        \n",
      " 5   last_name               500 non-null    object        \n",
      " 6   reg_date                500 non-null    datetime64[ns]\n",
      " 7   tariff                  500 non-null    object        \n",
      " 8   reg_year                500 non-null    int64         \n",
      " 9   reg_month               500 non-null    int64         \n",
      " 10  churn_year              38 non-null     float64       \n",
      " 11  churn_month             38 non-null     float64       \n",
      " 12  calls_min_month_1       42 non-null     float64       \n",
      " 13  calls_min_month_2       81 non-null     float64       \n",
      " 14  calls_min_month_3       114 non-null    float64       \n",
      " 15  calls_min_month_4       164 non-null    float64       \n",
      " 16  calls_min_month_5       205 non-null    float64       \n",
      " 17  calls_min_month_6       244 non-null    float64       \n",
      " 18  calls_min_month_7       288 non-null    float64       \n",
      " 19  calls_min_month_8       336 non-null    float64       \n",
      " 20  calls_min_month_9       369 non-null    float64       \n",
      " 21  calls_min_month_10      411 non-null    float64       \n",
      " 22  calls_min_month_11      444 non-null    float64       \n",
      " 23  calls_min_month_12      470 non-null    float64       \n",
      " 24  calls_count_month_1     42 non-null     float64       \n",
      " 25  calls_count_month_2     81 non-null     float64       \n",
      " 26  calls_count_month_3     114 non-null    float64       \n",
      " 27  calls_count_month_4     164 non-null    float64       \n",
      " 28  calls_count_month_5     205 non-null    float64       \n",
      " 29  calls_count_month_6     244 non-null    float64       \n",
      " 30  calls_count_month_7     288 non-null    float64       \n",
      " 31  calls_count_month_8     336 non-null    float64       \n",
      " 32  calls_count_month_9     369 non-null    float64       \n",
      " 33  calls_count_month_10    411 non-null    float64       \n",
      " 34  calls_count_month_11    444 non-null    float64       \n",
      " 35  calls_count_month_12    470 non-null    float64       \n",
      " 36  message_count_month_1   38 non-null     float64       \n",
      " 37  message_count_month_2   66 non-null     float64       \n",
      " 38  message_count_month_3   94 non-null     float64       \n",
      " 39  message_count_month_4   135 non-null    float64       \n",
      " 40  message_count_month_5   174 non-null    float64       \n",
      " 41  message_count_month_6   209 non-null    float64       \n",
      " 42  message_count_month_7   247 non-null    float64       \n",
      " 43  message_count_month_8   292 non-null    float64       \n",
      " 44  message_count_month_9   318 non-null    float64       \n",
      " 45  message_count_month_10  357 non-null    float64       \n",
      " 46  message_count_month_11  383 non-null    float64       \n",
      " 47  message_count_month_12  404 non-null    float64       \n",
      " 48  session_mb_month_1      43 non-null     float64       \n",
      " 49  session_mb_month_2      80 non-null     float64       \n",
      " 50  session_mb_month_3      114 non-null    float64       \n",
      " 51  session_mb_month_4      167 non-null    float64       \n",
      " 52  session_mb_month_5      206 non-null    float64       \n",
      " 53  session_mb_month_6      247 non-null    float64       \n",
      " 54  session_mb_month_7      291 non-null    float64       \n",
      " 55  session_mb_month_8      340 non-null    float64       \n",
      " 56  session_mb_month_9      374 non-null    float64       \n",
      " 57  session_mb_month_10     415 non-null    float64       \n",
      " 58  session_mb_month_11     449 non-null    float64       \n",
      " 59  session_mb_month_12     475 non-null    float64       \n",
      " 60  messages_included       500 non-null    int64         \n",
      " 61  mb_per_month_included   500 non-null    int64         \n",
      " 62  minutes_included        500 non-null    int64         \n",
      " 63  rub_monthly_fee         500 non-null    int64         \n",
      " 64  rub_per_gb              500 non-null    int64         \n",
      " 65  rub_per_message         500 non-null    int64         \n",
      " 66  rub_per_minute          500 non-null    int64         \n",
      " 67  arpu_month_1            43 non-null     float64       \n",
      " 68  arpu_month_2            82 non-null     float64       \n",
      " 69  arpu_month_3            114 non-null    float64       \n",
      " 70  arpu_month_4            167 non-null    float64       \n",
      " 71  arpu_month_5            208 non-null    float64       \n",
      " 72  arpu_month_6            248 non-null    float64       \n",
      " 73  arpu_month_7            292 non-null    float64       \n",
      " 74  arpu_month_8            342 non-null    float64       \n",
      " 75  arpu_month_9            375 non-null    float64       \n",
      " 76  arpu_month_10           417 non-null    float64       \n",
      " 77  arpu_month_11           450 non-null    float64       \n",
      " 78  arpu_month_12           478 non-null    float64       \n",
      "dtypes: datetime64[ns](2), float64(62), int64(10), object(5)\n",
      "memory usage: 312.5+ KB\n",
      "None\n"
     ]
    }
   ],
   "source": [
    "i = 1\n",
    "while i <= 12:\n",
    "    df_users_join= df_users_join.drop(['extra_messages_month_'+ str(i), \n",
    "                                       'extra_min_month_'+ str(i),\n",
    "                                      'extra_mb_month_'+ str(i)], axis=1)\n",
    "    df_users_join['arpu_month_'+ str(i)] = df_users_join[\n",
    "        'arpu_month_'+ str(i)].astype('float')\n",
    "    i += 1\n",
    "    \n",
    "df_users_join = df_users_join.drop(['tariff_name'], axis=1)\n",
    "\n",
    "print(df_users_join.info())"
   ]
  },
  {
   "cell_type": "code",
   "execution_count": 56,
   "metadata": {},
   "outputs": [
    {
     "name": "stdout",
     "output_type": "stream",
     "text": [
      "count       123.00\n",
      "mean       2067.07\n",
      "std         390.56\n",
      "min        1950.00\n",
      "25%        1950.00\n",
      "50%        1950.00\n",
      "75%        1950.00\n",
      "max        4800.00\n",
      "Name: arpu_month_10, dtype: float64\n",
      "count       294.00\n",
      "mean       1369.62\n",
      "std         848.18\n",
      "min         550.00\n",
      "25%         560.50\n",
      "50%        1150.00\n",
      "75%        1834.00\n",
      "max        4231.00\n",
      "Name: arpu_month_10, dtype: float64\n"
     ]
    }
   ],
   "source": [
    "#смотрим пример в разрезе тарифов, чтобы проверить минимумы\n",
    "\n",
    "print(df_users_join.query('tariff == \"ultra\"')['arpu_month_10'].describe())\n",
    "print(df_users_join.query('tariff == \"smart\"')['arpu_month_10'].describe())"
   ]
  },
  {
   "cell_type": "markdown",
   "metadata": {},
   "source": [
    "___Вывод:___\n",
    "\n",
    "Рассчитали arpu для каждого месяца (с учетом, что что не все клиенты были подключены к тарифу в течении всего года)."
   ]
  },
  {
   "cell_type": "markdown",
   "metadata": {},
   "source": [
    "<div class=\"alert alert-warning\">\n",
    "<h2> Комментарий наставника</h2>\n",
    "\n",
    "Финальная таблица получена. Стоит убрать из нее излишнюю информацию в виде имени или фамилии клиента. Такая информация никак не поможет нам в анализе, поэтому хранить ее повторно не стоит. Информация о тарифах у нас уже есть в таблице tariffs. Дублировать ее не стоит. Также выручку стоит сделать целочисленным показателем. \n",
    "\n",
    "</div>"
   ]
  },
  {
   "cell_type": "markdown",
   "metadata": {},
   "source": [
    "### Шаг 3. Проанализируйте данные"
   ]
  },
  {
   "cell_type": "markdown",
   "metadata": {},
   "source": [
    "Опишите поведение клиентов оператора, исходя из выборки. \n",
    "* Сколько минут разговора, сколько сообщений и какой объём интернет-трафика требуется пользователям каждого тарифа в месяц? \n",
    "* Посчитайте среднее количество, дисперсию и стандартное отклонение. \n",
    "* Постройте гистограммы. Опишите распределения."
   ]
  },
  {
   "cell_type": "markdown",
   "metadata": {},
   "source": [
    "*Сколько минут разговора, сколько сообщений и какой объём интернет-трафика требуется пользователям каждого тарифа в месяц?*"
   ]
  },
  {
   "cell_type": "code",
   "execution_count": 57,
   "metadata": {},
   "outputs": [
    {
     "name": "stdout",
     "output_type": "stream",
     "text": [
      "\u001b[1m \u001b[34mcalls_min\u001b[0m \u001b[0m \n",
      "\n",
      "count       500.00\n",
      "mean        449.98\n",
      "std         203.36\n",
      "min           0.00\n",
      "25%         317.33\n",
      "50%         442.00\n",
      "75%         558.08\n",
      "max        1179.36\n",
      "Name: calls_min, dtype: float64\n",
      "\u001b[1m \u001b[34mcalls_count\u001b[0m \u001b[0m \n",
      "\n",
      "count       500.00\n",
      "mean         50.54\n",
      "std          22.87\n",
      "min           0.00\n",
      "25%          35.00\n",
      "50%          49.73\n",
      "75%          62.70\n",
      "max         140.50\n",
      "Name: calls_count, dtype: float64\n",
      "\u001b[1m \u001b[34msession_mb\u001b[0m \u001b[0m \n",
      "\n",
      "count       500.00\n",
      "mean      17140.45\n",
      "std        5740.03\n",
      "min           0.00\n",
      "25%       13820.79\n",
      "50%       16690.29\n",
      "75%       19563.58\n",
      "max       38502.00\n",
      "Name: session_mb, dtype: float64\n",
      "\u001b[1m \u001b[34mmessage_count\u001b[0m \u001b[0m \n",
      "\n",
      "count       500.00\n",
      "mean         38.64\n",
      "std          35.06\n",
      "min           0.00\n",
      "25%          11.00\n",
      "50%          30.50\n",
      "75%          58.00\n",
      "max         192.00\n",
      "Name: message_count, dtype: float64\n",
      "\u001b[1m \u001b[34marpu\u001b[0m \u001b[0m \n",
      "\n",
      "count       500.00\n",
      "mean       1553.68\n",
      "std         637.37\n",
      "min         550.00\n",
      "25%        1007.80\n",
      "50%        1621.33\n",
      "75%        1950.00\n",
      "max        4333.33\n",
      "Name: arpu, dtype: float64\n"
     ]
    }
   ],
   "source": [
    "# суммируем все месяца\n",
    "i = 1\n",
    "\n",
    "df_users_join['calls_min'] = 0 \n",
    "df_users_join['calls_count'] = 0 \n",
    "df_users_join['session_mb'] = 0\n",
    "df_users_join['message_count'] = 0 \n",
    "df_users_join['arpu'] = 0\n",
    "\n",
    "while i <= 12:\n",
    "    df_users_join['calls_min'] += df_users_join[\n",
    "        'calls_min_month_' + str(i)].where((df_users_join[\n",
    "    'calls_min_month_' + str(i)].isnull() != True), 0) \n",
    "    df_users_join['calls_count'] += df_users_join[\n",
    "        'calls_count_month_' + str(i)].where((df_users_join[\n",
    "    'calls_count_month_' + str(i)].isnull() != True), 0) \n",
    "    df_users_join['session_mb'] += df_users_join[\n",
    "        'session_mb_month_' + str(i)].where((df_users_join[\n",
    "    'session_mb_month_' + str(i)].isnull() != True), 0) \n",
    "    df_users_join['message_count'] += df_users_join[\n",
    "        'message_count_month_' + str(i)].where((df_users_join[\n",
    "    'message_count_month_' + str(i)].isnull() != True), 0) \n",
    "    df_users_join['arpu'] += df_users_join[\n",
    "        'arpu_month_' + str(i)].where((df_users_join[\n",
    "    'arpu_month_' + str(i)].isnull() != True), 0) \n",
    "    \n",
    "    i += 1\n",
    "    \n",
    "# делим на количество месяцев на тарифе \n",
    "df_users_join['calls_min'] = df_users_join[\n",
    "    'calls_min'] /(df_users_join[\n",
    "    'churn_month'].where((df_users_join[\n",
    "    'churn_month'].isnull() != True), 12) - df_users_join['reg_month'] + 1)\n",
    "df_users_join['calls_count'] = df_users_join[\n",
    "    'calls_count'] /(df_users_join[\n",
    "    'churn_month'].where((df_users_join[\n",
    "    'churn_month'].isnull() != True), 12) - df_users_join['reg_month'] + 1)\n",
    "df_users_join['session_mb'] = df_users_join[\n",
    "    'session_mb'] /(df_users_join[\n",
    "    'churn_month'].where((df_users_join[\n",
    "    'churn_month'].isnull() != True), 12) - df_users_join['reg_month'] + 1)\n",
    "df_users_join['message_count'] = df_users_join[\n",
    "    'message_count'] /(df_users_join[\n",
    "    'churn_month'].where((df_users_join[\n",
    "    'churn_month'].isnull() != True), 12) - df_users_join['reg_month'] + 1)\n",
    "df_users_join['arpu'] = df_users_join[\n",
    "    'arpu'] /(df_users_join[\n",
    "    'churn_month'].where((df_users_join[\n",
    "    'churn_month'].isnull() != True), 12) - df_users_join['reg_month'] + 1)\n",
    "\n",
    "\n",
    "#Проверим\n",
    "ft_name_count(df_users_join,\"calls_min\", 0,0,1)\n",
    "ft_name_count(df_users_join,\"calls_count\", 0,0,1)\n",
    "ft_name_count(df_users_join,\"session_mb\", 0,0,1)\n",
    "ft_name_count(df_users_join,\"message_count\", 0,0,1)\n",
    "ft_name_count(df_users_join,\"arpu\", 0,0,1)"
   ]
  },
  {
   "cell_type": "markdown",
   "metadata": {},
   "source": [
    "*Посчитайте среднее количество, дисперсию и стандартное отклонение.*"
   ]
  },
  {
   "cell_type": "code",
   "execution_count": 58,
   "metadata": {
    "scrolled": true
   },
   "outputs": [
    {
     "name": "stdout",
     "output_type": "stream",
     "text": [
      "\u001b[1m \u001b[32mИнформация по тарифам\u001b[0m \u001b[0m\n",
      "                       ultra  smart\n",
      "minutes_included        3000    500\n",
      "mb_per_month_included  30720  15360\n",
      "messages_included       1000     50\n",
      "rub_monthly_fee         1950    550\n",
      "rub_per_gb               150    200\n",
      "rub_per_message            1      3\n",
      "rub_per_minute             1      3\n",
      "\n",
      "\n"
     ]
    }
   ],
   "source": [
    "#табличка о тарифе, для информации\n",
    "\n",
    "info_table = pd.DataFrame()\n",
    "for i in [\"minutes_included\",'mb_per_month_included',\"messages_included\",\n",
    "          \"rub_monthly_fee\",\"rub_per_gb\",\"rub_per_message\",\"rub_per_minute\",\"rub_monthly_fee\"]:\n",
    "    for k in df_users_join['tariff'].unique():\n",
    "        info_table.loc[i,k] = str(int(df_users_join[df_users_join['tariff'] == k][i].mean()))\n",
    "print(bold(),colored(\"Информация по тарифам\",'green'), bold_end())\n",
    "print(info_table)\n",
    "print(\"\\n\")"
   ]
  },
  {
   "cell_type": "code",
   "execution_count": 59,
   "metadata": {},
   "outputs": [
    {
     "name": "stdout",
     "output_type": "stream",
     "text": [
      "                              ultra       smart\n",
      "calls_min_mean               524.28      418.44\n",
      "calls_min_var              80736.81    21475.74\n",
      "calls_min_std                284.14      146.55\n",
      "calls_min_ratio_use            0.96        0.99\n",
      "calls_count_mean              58.88       47.01\n",
      "calls_count_var             1029.84      268.19\n",
      "calls_count_std               32.09       16.38\n",
      "calls_count_ratio_use          0.96        0.99\n",
      "session_mb_mean            19461.34    16155.23\n",
      "session_mb_var          71310459.73 13553609.08\n",
      "session_mb_std              8444.55     3681.52\n",
      "session_mb_ratio_use           0.99        1.00\n",
      "message_count_mean            53.67       32.26\n",
      "message_count_var           2154.90      703.88\n",
      "message_count_std             46.42       26.53\n",
      "message_count_ratio_use        0.83        0.86\n",
      "arpu_mean                   2086.50     1327.51\n",
      "arpu_var                   90024.38   368949.21\n",
      "arpu_std                     300.04      607.41\n",
      "arpu_ratio_use                 1.00        1.00\n"
     ]
    }
   ],
   "source": [
    "i_table = pd.DataFrame()\n",
    "for i in [\"calls_min\",\"calls_count\",\n",
    "          \"session_mb\",\"message_count\",\"arpu\"]:\n",
    "    for k in df_users_join['tariff'].unique():\n",
    "        i_table.loc[str(i)+\"_mean\",k] = df_users_join[df_users_join['tariff'] == k][i].mean()\n",
    "        #добавляем ddof = 1, т.к. у нас только часть генеральной совокупности.\n",
    "        i_table.loc[str(i)+\"_var\",k] = np.var(df_users_join[df_users_join['tariff'] == k][i], ddof=1) \n",
    "        i_table.loc[str(i)+\"_std\",k] = np.std(df_users_join[df_users_join['tariff'] == k][i], ddof=1)\n",
    "        #i_table.loc['mean_min_std', k] = i_table.loc['mean',k] - i_table.loc['std',k]   \n",
    "        #i_table.loc['mean_plus_std', k] = i_table.loc['mean',k] + i_table.loc['std',k]   \n",
    "        i_table.loc[str(i)+\"_ratio_use\", k] = df_users_join[((df_users_join[i] != 0) & (df_users_join[\n",
    "            'tariff'] == k))][i].count() / df_users_join[df_users_join['tariff'] == k][i].count()\n",
    "        \n",
    "print(i_table)"
   ]
  },
  {
   "cell_type": "markdown",
   "metadata": {},
   "source": [
    "<div class=\"alert alert-warning\">\n",
    "<h2> Комментарий наставника</h2>\n",
    "\n",
    "Будет здорово, если ты объединишь все показатели в единую таблицу. Удобнее работать с данными, собранными вместе в одну таблицу. \n",
    "\n",
    "</div>"
   ]
  },
  {
   "cell_type": "markdown",
   "metadata": {},
   "source": [
    "Люди на ultra пользуются услугами меньше квот, а smart платят сверх АП.\n",
    "\n",
    "Клиентов это устраивает? Посмотрим на % ушедших"
   ]
  },
  {
   "cell_type": "code",
   "execution_count": 60,
   "metadata": {},
   "outputs": [
    {
     "name": "stdout",
     "output_type": "stream",
     "text": [
      "\u001b[1m \u001b[34m\u001b[0m \u001b[0m\n",
      "                 ultra      smart\n",
      "ratio             0.30       0.70\n",
      "churn_ratio       0.10       0.07\n",
      "\n",
      "\n"
     ]
    }
   ],
   "source": [
    "#Процент уходов до конца года \n",
    "i_table = pd.DataFrame()\n",
    "\n",
    "for k in df_users_join['tariff'].unique():\n",
    "        i_table.loc['ratio',k] = df_users_join[df_users_join[\n",
    "            'tariff'] == k]['tariff'].count()/df_users_join['tariff'].count()  \n",
    "        i_table.loc['churn_ratio',k] = df_users_join[df_users_join[\n",
    "            'tariff'] == k]['churn_month'].count()/df_users_join[df_users_join[\n",
    "            'tariff'] == k]['tariff'].count()  \n",
    "print(bold(),colored(\"\",'blue'), bold_end())\n",
    "print(i_table)\n",
    "print(\"\\n\")"
   ]
  },
  {
   "cell_type": "markdown",
   "metadata": {},
   "source": [
    "___Вывод:___\n",
    "\n",
    "Не все все клиенты были подключены к тарифу в течении всего года.\n",
    "* Поэтому, мы не можем сложить все данные по клиентам за год и сравнивать их.\n",
    "* Чтобы посмотреть профиль по каждому клиенту, мы посчитали средний показатель по каждому из клиентов за месяц использования тарифом.\n",
    "\n",
    "\n",
    "__Тариф ultra__\n",
    "\n",
    "* Тариф пользуется меньшей популярностью, чем тариф- конкурент. Только треть подключилась к нему\n",
    "\n",
    "* Клиенты в среднем используют до 800 минут разговора в месяц из 3000 включенных в тариф. Что меньше 1/3 о тарифа.\n",
    "\n",
    "* С интернетом указанным в тарифе другая история. Он обычно используется почти полностью. (в среднем до 2.7 ГБ из 3 ГБ входящих в тариф), что может говорить, о том что именно интернет - первоочередная причина выбора тарифа.\n",
    "\n",
    "* В тариф включены 1000 сообщений, тариф используется только 1 из 10 .\n",
    "\n",
    "* Среднее ARPU в месяц (1950 - 2386) сравнимо с абонентской платой. Переплаты скорее всего связанны с закупкой ГБ сверх тарифа.\n",
    "\n",
    "* Процент уходов выше, чем другом тарифе. С учетом выборок разница не значимая, но в будущем надо следить за этим.\n",
    "\n",
    "\n",
    "__Тариф  smart__\n",
    "\n",
    "* Клиенты в среднем используют 272 - 565 минут разговора в месяц включая 500 включенные тариф. Значит клиенты склонны превышать количество минут, указанное в тарифе.\n",
    "\n",
    "* Тариф пользуется большей популярностью, чем тариф - конкурент.7 из 10 подключились именно к нему\n",
    "\n",
    "* Клиенты в среднем используют 1,2 - 2 ГБ , из 1,5 включенных в тариф. Значит клиенты склонны докупать дополнительные  ГБ сверх тарифа.\n",
    "\n",
    "* В тариф включены 50 сообщений, тариф используется все или почти все, также есть доля использующих  сообщения вверх тарифа. \n",
    "\n",
    "* Среднее ARPU в месяц (720 - 1934) сильно выше АП в 550 рублей. Клиентам не хватает услуг, входящих в тариф. \n",
    "\n"
   ]
  },
  {
   "cell_type": "markdown",
   "metadata": {},
   "source": [
    "<div class=\"alert alert-success\">\n",
    "<h2> Комментарий наставника</h2>\n",
    "\n",
    "Статистические показатели получены. Здорово, что ты сравниваешь тарифы между собой. Именно сравнения помогут нам ответить на вопрос о том, какой из тарифов выгоднее.\n",
    "\n",
    "</div>"
   ]
  },
  {
   "cell_type": "markdown",
   "metadata": {},
   "source": [
    "*Постройте гистограммы. Опишите распределения.*"
   ]
  },
  {
   "cell_type": "markdown",
   "metadata": {},
   "source": [
    "Сделаем функцию ___ft_box_comp(base, name, cross, title,labelx, labely)___, для вывода графика боксплот в разрезе\n",
    "\n",
    "6 входных параметров\n",
    "\n",
    "* *base* - название базы данных\n",
    "* *name* - имя переменной в базе\n",
    "* *cross* - имя переменной, в разрезе которой смотрим\n",
    "* *title* - название таблицы\n",
    "* *labelx* - лейбл X\n",
    "* *labely* - лейбл Y"
   ]
  },
  {
   "cell_type": "code",
   "execution_count": 61,
   "metadata": {},
   "outputs": [],
   "source": [
    "def add_median(df,group_col,y):\n",
    "    mean_dict = {grp[0]:grp[1][y].median() for grp in df.groupby(group_col)}\n",
    "    xticklabels = [x.get_text() for x in plt.gca().get_xticklabels()]\n",
    "    for (x, xticklabel) in enumerate(xticklabels):\n",
    "        plt.text(x, mean_dict[xticklabel]*1.03, \"median: \"+str(int(mean_dict[xticklabel])),\n",
    "                 horizontalalignment='center', fontdict={'size':10}, color='white')\n",
    "def add_quantile(df,group_col,y,q,label):\n",
    "    qt_dict = {grp[0]:grp[1][y].quantile(q) for grp in df.groupby(group_col)}\n",
    "    xticklabels = [x.get_text() for x in plt.gca().get_xticklabels()]\n",
    "    for (x, xticklabel) in enumerate(xticklabels):\n",
    "        plt.text(x, qt_dict[xticklabel]*1.03, label + str(int(qt_dict[xticklabel])),\n",
    "                 horizontalalignment='center', fontdict={'size':10}, color='black')    \n",
    "def add_QR_max(df,group_col,y,label):\n",
    "    qt_dict = {grp[0]:(grp[1][y].quantile(0.75) + \n",
    "                       ((grp[1][y].quantile(0.75)- grp[1][y].quantile(0.25))*1.5)) \n",
    "               for grp in df.groupby(group_col)}\n",
    "    xticklabels = [x.get_text() for x in plt.gca().get_xticklabels()]\n",
    "    for (x, xticklabel) in enumerate(xticklabels):\n",
    "        plt.text(x, qt_dict[xticklabel]*1.03, label + str(int(qt_dict[xticklabel])),\n",
    "                 horizontalalignment='center', fontdict={'size':10}, color='black')  \n",
    "def add_QR_min(df,group_col,y,label):\n",
    "    qt_dict = {grp[0]:(grp[1][y].quantile(0.25) -\n",
    "                       ((grp[1][y].quantile(0.75)- grp[1][y].quantile(0.25))*1.5)) \n",
    "               for grp in df.groupby(group_col)}\n",
    "    xticklabels = [x.get_text() for x in plt.gca().get_xticklabels()]\n",
    "    for (x, xticklabel) in enumerate(xticklabels):\n",
    "        plt.text(x, qt_dict[xticklabel]*1.00, label + str(int(qt_dict[xticklabel])),\n",
    "                 horizontalalignment='center', fontdict={'size':10}, color='black')\n",
    "        \n",
    "def ft_box_comp(base, name, cross, title,labelx, labely):\n",
    "    sns.boxplot(x=cross, y=name, data=base, notch=False)\n",
    "    add_median(base,cross,name)  \n",
    "    add_quantile(base,cross,name,0.25,\"Q1: \")    \n",
    "    add_quantile(base,cross,name,0.75,\"Q3: \")    \n",
    "    add_QR_max(base,cross,name,\"Q3 + 1.5 IQR: \")\n",
    "    add_QR_min(base,cross,name,\"Q1 - 1.5 IQR: \")       \n",
    "    plt.title(title, fontsize=15)\n",
    "    plt.xlabel(labelx)\n",
    "    plt.ylabel(labely)\n",
    "    plt.ylim((min(base[name]) - (np.std(base[name])*2 )), \n",
    "             (max(base[name]) + (np.std(base[name])*2 )))\n",
    "    plt.show()"
   ]
  },
  {
   "cell_type": "code",
   "execution_count": null,
   "metadata": {},
   "outputs": [],
   "source": [
    "<!-- Сделаем функцию ___ft_hist_comp(base, name, cross, title,labelx, labely)___, для вывода графика боксплот в разрезе\n",
    "\n",
    "6 входных параметров\n",
    "\n",
    "* *base* - название базы данных\n",
    "* *name* - имя переменной в базе\n",
    "* *cross* - имя переменной, в разрезе которой смотрим\n",
    "* *title* - название таблицы\n",
    "* *labelx* - лейбл X\n",
    "* *labely* - лейбл Y -->\n",
    "\n",
    "def ft_hist_comp(base, name, cross,title,labelx, labely):\n",
    "    for i in base[cross].unique():\n",
    "        base[base[cross] == i][name].hist(bins = 50, label = \n",
    "                                              str(i), alpha=0.7, density=True)\n",
    "    plt.xlabel(labelx)\n",
    "    plt.ylabel(labely)\n",
    "    plt.title(title, fontsize=15) \n",
    "    plt.legend()\n",
    "    plt.show()"
   ]
  },
  {
   "cell_type": "markdown",
   "metadata": {},
   "source": [
    "Количество минут разговора в месяц "
   ]
  },
  {
   "cell_type": "markdown",
   "metadata": {},
   "source": [
    "<div class=\"alert alert-warning\">\n",
    "<h2> Комментарий наставника</h2>\n",
    "\n",
    "Очень крутая задумка с подписями основных показателей. Только линия на boxplot, это не среднее значение, а медиана, а усы по умолчанию длиной Q1-1.5IQR и Q3+1.5IQR. В остальном все здорово. \n",
    "\n",
    "</div>"
   ]
  },
  {
   "cell_type": "code",
   "execution_count": 4,
   "metadata": {},
   "outputs": [
    {
     "ename": "NameError",
     "evalue": "name 'ft_box_comp' is not defined",
     "output_type": "error",
     "traceback": [
      "\u001b[0;31m---------------------------------------------------------------------------\u001b[0m",
      "\u001b[0;31mNameError\u001b[0m                                 Traceback (most recent call last)",
      "\u001b[0;32m<ipython-input-4-9b5e3e7f1f2d>\u001b[0m in \u001b[0;36m<module>\u001b[0;34m\u001b[0m\n\u001b[0;32m----> 1\u001b[0;31m ft_box_comp(df_users_join, name = 'calls_min', cross = 'tariff',\n\u001b[0m\u001b[1;32m      2\u001b[0m                 \u001b[0mtitle\u001b[0m \u001b[0;34m=\u001b[0m\u001b[0;34m'Количество минут разговора в месяц (в разрезе тарифов)'\u001b[0m\u001b[0;34m,\u001b[0m\u001b[0;34m\u001b[0m\u001b[0;34m\u001b[0m\u001b[0m\n\u001b[1;32m      3\u001b[0m            labelx = 'Тарифы', labely = 'Минут')\n\u001b[1;32m      4\u001b[0m \u001b[0;34m\u001b[0m\u001b[0m\n\u001b[1;32m      5\u001b[0m ft_hist_comp(df_users_join, name = 'calls_min', cross = 'tariff',\n",
      "\u001b[0;31mNameError\u001b[0m: name 'ft_box_comp' is not defined"
     ]
    }
   ],
   "source": [
    "ft_box_comp(df_users_join, name = 'calls_min', cross = 'tariff',\n",
    "                title ='Количество минут разговора в месяц (в разрезе тарифов)',\n",
    "           labelx = 'Тарифы', labely = 'Минут')\n",
    "\n",
    "ft_hist_comp(df_users_join, name = 'calls_min', cross = 'tariff',\n",
    "             title ='Количество минут разговора в месяц (в разрезе тарифов)',\n",
    "           labely = '% от кейсов', labelx = 'Минут')"
   ]
  },
  {
   "cell_type": "code",
   "execution_count": null,
   "metadata": {},
   "outputs": [],
   "source": [
    "df_users_join2.info()"
   ]
  },
  {
   "cell_type": "code",
   "execution_count": null,
   "metadata": {},
   "outputs": [],
   "source": [
    "#Альтерналичная версия\n",
    "import plotly.graph_objects as go\n",
    "\n",
    "df_users_join2 = df_users_join2.reset_index()\n",
    "\n",
    "y = df_users_join2['tariff'] \n",
    "\n",
    "fig = go.Figure()\n",
    "fig.add_trace(go.Box(\n",
    "    x=df_users_join2['duration_sum'] ,\n",
    "    y=y,\n",
    "    name='smart',\n",
    "    marker_color='#3D9970'\n",
    "))\n",
    "fig.update_layout(\n",
    "    xaxis=dict(title='normalized moisture', zeroline=False),\n",
    "    boxmode='group'\n",
    ")\n",
    "\n",
    "fig.update_traces(orientation='h') # horizontal box plots\n",
    "fig.show()"
   ]
  },
  {
   "cell_type": "code",
   "execution_count": null,
   "metadata": {},
   "outputs": [],
   "source": [
    "import plotly.graph_objects as go\n",
    "\n",
    "x_data = ['ultra', 'smart']\n",
    "\n",
    "\n",
    "y_data = [df_users_join2[df_users_join2['tariff'] == 'ultra']['duration_sum'], \n",
    "          df_users_join2[df_users_join2['tariff'] == 'smart']['duration_sum']]\n",
    "\n",
    "colors = ['rgba(93, 164, 214, 0.5)', 'rgba(255, 144, 14, 0.5)']\n",
    "\n",
    "fig = go.Figure()\n",
    "\n",
    "for xd, yd, cls in zip(x_data, y_data, colors):\n",
    "        fig.add_trace(go.Box(\n",
    "            y=yd,\n",
    "            name=xd,\n",
    "            boxpoints='all',\n",
    "            jitter=0.5,\n",
    "            whiskerwidth=0.2,\n",
    "            fillcolor=cls,\n",
    "            marker_size=2,\n",
    "            line_width=1)\n",
    "        )\n",
    "\n",
    "fig.update_layout(\n",
    "    title='Граффик',\n",
    "    margin=dict(\n",
    "        l=40,\n",
    "        r=30,\n",
    "        b=80,\n",
    "        t=100,\n",
    "    ),\n",
    "    paper_bgcolor='rgb(243, 243, 243)',\n",
    "    plot_bgcolor='rgb(243, 243, 243)',\n",
    "    showlegend=False\n",
    ")\n",
    "\n",
    "fig.show()"
   ]
  },
  {
   "cell_type": "markdown",
   "metadata": {},
   "source": [
    "Количество звонков в месяц "
   ]
  },
  {
   "cell_type": "code",
   "execution_count": null,
   "metadata": {},
   "outputs": [],
   "source": [
    "ft_box_comp(df_users_join, name = 'calls_count', cross = 'tariff',\n",
    "                title ='Количество звонков в месяц (в разрезе тарифов)',\n",
    "           labelx = 'Тарифы', labely = 'Минут')\n",
    "\n",
    "ft_hist_comp(df_users_join, name = 'calls_count', cross = 'tariff',\n",
    "             title ='Количество звонков в месяц (в разрезе тарифов)',\n",
    "           labely = '% от кейсов', labelx = 'Минут')"
   ]
  },
  {
   "cell_type": "markdown",
   "metadata": {},
   "source": [
    "Количество использованных мб в месяц "
   ]
  },
  {
   "cell_type": "code",
   "execution_count": null,
   "metadata": {},
   "outputs": [],
   "source": [
    "ft_box_comp(df_users_join, name = 'session_mb', cross = 'tariff',\n",
    "                title ='Траффик за месяц (в разрезе тарифов)',\n",
    "           labelx = 'Тарифы', labely = 'Мегабайт')\n",
    "\n",
    "ft_hist_comp(df_users_join, name = 'session_mb', cross = 'tariff',\n",
    "             title ='Траффик за месяц (в разрезе тарифов)',\n",
    "           labely = '% от кейсов', labelx = 'Мегабайт')"
   ]
  },
  {
   "cell_type": "markdown",
   "metadata": {},
   "source": [
    "Количество смс в месяц "
   ]
  },
  {
   "cell_type": "code",
   "execution_count": null,
   "metadata": {},
   "outputs": [],
   "source": [
    "ft_box_comp(df_users_join, name = 'message_count', cross = 'tariff',\n",
    "                title ='Количество сообщений в месяц (в разрезе тарифов)',\n",
    "           labelx = 'Тарифы', labely = 'Сообщений')\n",
    "\n",
    "ft_hist_comp(df_users_join, name = 'message_count', cross = 'tariff',\n",
    "             title ='Количество сообщений в месяц (в разрезе тарифов)',\n",
    "           labely = '% от кейсов', labelx = 'Сообщений')"
   ]
  },
  {
   "cell_type": "markdown",
   "metadata": {},
   "source": [
    "Сколько платят за месяц"
   ]
  },
  {
   "cell_type": "code",
   "execution_count": null,
   "metadata": {},
   "outputs": [],
   "source": [
    "ft_box_comp(df_users_join, name = 'arpu', cross = 'tariff',\n",
    "                title ='Траты в рублях за месяц (в разрезе тарифов)',\n",
    "           labelx = 'Тарифы', labely = 'Рублей')\n",
    "\n",
    "ft_hist_comp(df_users_join, name = 'arpu', cross = 'tariff',\n",
    "             title ='Траты в рублях за месяц (в разрезе тарифов)',\n",
    "           labely = '% от кейсов', labelx = 'Рублей')"
   ]
  },
  {
   "cell_type": "markdown",
   "metadata": {},
   "source": [
    "__Вывод:__"
   ]
  },
  {
   "cell_type": "markdown",
   "metadata": {},
   "source": [
    "Пользователи тарифа Ultra больше разговаривают по телефону, чем клиенты Smart. В среднем на 100 минут.\n",
    "50% клиентов Smart разговаривают от 315 до 518 минут в день. (Т.е. + 100 минут от среднего (418 минут).\n",
    "Клиенты Ultra менее однородны. 50% клиентов Smart разговаривают от 320 до 746 минут в день. \n",
    "\n",
    "Количество звонков в месяц среди клиентов тарифов не сильно различается. В среднем на 10 звонков. Клиенты Ultra все еще менее консистентны, но по не так остро выражается в данном показателе.\n",
    "\n",
    "Клиенты Ultra используют интернет более активно. В среднем на 0.3 Гб в месяц больше. Как в других показателях видно, что клиенты Ultra менее константы в использовании тарифа и сползут вплоть до 3.8 ГБ, против 2.3 ГБ среди клиентов Smart.\n",
    "\n",
    "Сообщения наименее популярны. Ими используются меньшая долей пользователей (83% для Ultra и 86% для Smart).\n",
    "В среднем клиенты Ultra больше посылают сообщений ( на 20 штук). Клиенты Ultra все еще менее консистентны, но по не так остро выражается в данном показателе.\n",
    "\n",
    "Пользователи тарифа Ultra больше платят в месяц, чем клиенты Smart. Это обоснованно в первую очередь различным минимумом оплаты в месяц - различной абонентской платой.\n",
    "Пользователи тарифа Ultra в подавляющем случае не платят сверх АП.\n",
    "В то время как абоненты Smart в среднем платят более чем в 2 раза более АП."
   ]
  },
  {
   "cell_type": "markdown",
   "metadata": {},
   "source": [
    "<div class=\"alert alert-success\">\n",
    "<h2> Комментарий наставника</h2>\n",
    "\n",
    "Базовые статистические параметры получены. Приведены все необходимые графики. Здорово, что графики для одинаковых услуг тарифов приведены на одном рисунке. Так удобнее сравнивать тарифы. Возможно, тебе будет интересно изучить библиотеку plotly для визуализации. Такой же график boxplot с подписями там получается куда проще. Вот ссылка на [пример](https://plotly.com/python/box-plots/).\n",
    "\n",
    "</div>"
   ]
  },
  {
   "cell_type": "markdown",
   "metadata": {},
   "source": [
    "### Шаг 4. Проверьте гипотезы\n",
    "\n",
    "* \t\tсредняя выручка пользователей тарифов «Ультра» и «Смарт» различается;\n",
    "* \t\tсредняя выручка пользователей из Москвы отличается от выручки пользователей из других регионов;\n",
    "\n",
    "Пороговое значение alpha задайте самостоятельно.<br>\n",
    "Поясните:\n",
    "\n",
    "* \t\tкак вы формулировали нулевую и альтернативную гипотезы;\n",
    "* \t\tкакой критерий использовали для проверки гипотез и почему."
   ]
  },
  {
   "cell_type": "markdown",
   "metadata": {},
   "source": [
    "*средняя выручка пользователей тарифов «Ультра» и «Смарт» различается*\n",
    "\n",
    "\n",
    "* Среднюю выручку смотрим по переменной arpu - среднюю по всем месяцам использования.\n",
    "\n",
    "\n",
    "* ___Исходя из средних значений по переменной, можно предположить, что средняя выручка из тарифа Ультра, выше средней выборки тарифа Смарт___, для того чтобы это проверить мы выдвинем несколько гипотез.<br>\n",
    "1) Средняя выручка тарифов не различается.<br>\n",
    "2) Средняя выручка тарифа Ультра значимо ниже средней выручки тарифа Смарт.\n",
    "\n",
    "\n",
    "* Цена это один из основопологающий фактор, для  оценки продукта, поэтому мы должны допрассмотреть минимальнуй ошибку. Попробуем исходить из вероятности 99%, а значит alpha = .01."
   ]
  },
  {
   "cell_type": "markdown",
   "metadata": {},
   "source": [
    "Средняя выручка тарифов не различается.<br>\n",
    "* Используем alpha = .01\n",
    "* Гипотеза 2 стороняя"
   ]
  },
  {
   "cell_type": "code",
   "execution_count": null,
   "metadata": {},
   "outputs": [],
   "source": [
    "alpha = .01 \n",
    "\n",
    "results = st.ttest_ind(\n",
    "    df_users_join[df_users_join['tariff'] == 'ultra']['arpu'], \n",
    "    df_users_join[df_users_join['tariff'] == 'smart']['arpu'])\n",
    "\n",
    "print('p-значение:', results.pvalue)\n",
    "    \n",
    "if (results.pvalue < alpha):\n",
    "    print(\"Отвергаем нулевую гипотезу, значит средняя выручка тарифов различается.\")\n",
    "else:\n",
    "    print(\"Не получилось отвергнуть нулевую гипотезу, и не \"+ \n",
    "          \"знаем различается ли или нет средняя выручка тарифов\")\n"
   ]
  },
  {
   "cell_type": "markdown",
   "metadata": {},
   "source": [
    "Средняя выручка тарифа Ультра значимо ниже средней выручки тарифа Смарт..<br>\n",
    "* Используем alpha = .01\n",
    "* Гипотеза 1 стороняя"
   ]
  },
  {
   "cell_type": "code",
   "execution_count": null,
   "metadata": {},
   "outputs": [],
   "source": [
    "alpha = .01 \n",
    "\n",
    "results = st.ttest_ind(\n",
    "    df_users_join[df_users_join['tariff'] == 'ultra']['arpu'], \n",
    "    df_users_join[df_users_join['tariff'] == 'smart']['arpu'])\n",
    "\n",
    "print('p-значение:', results.pvalue)\n",
    "    \n",
    "print(bold(),'\\n Средние значения (в рублях) \\n', bold_end(),\n",
    "      \"ultra:\", int(round(df_users_join[df_users_join['tariff'] == 'ultra'][\n",
    "          'arpu'].mean(),0)), \"руб.\\n\",\n",
    "      \" smart:\", int(round(df_users_join[df_users_join['tariff'] == 'smart'][\n",
    "          'arpu'].mean(),0)),\"руб.\")\n",
    "    \n",
    "if (results.pvalue / 2 < alpha) and (df_users_join[df_users_join['tariff'] == 'ultra'][\n",
    "    'arpu'].mean() > df_users_join[df_users_join['tariff'] == 'smart']['arpu'].mean()):\n",
    "    print(\"Отвергаем нулевую гипотезу, что средняя выручка тарифа Ультра значимо \"+\n",
    "          \"ниже средней выручки тарифа Смарт.\")\n",
    "else:\n",
    "    print(\"Не получилось отвергнуть нулевую гипотезу\")"
   ]
  },
  {
   "cell_type": "markdown",
   "metadata": {},
   "source": [
    "<div class=\"alert alert-success\">\n",
    "<h2> Комментарий наставника</h2>\n",
    "\n",
    "Гипотезы сформулированы и проверены верно. Здорово, что ты также провела и односторонний тест. \n",
    "\n",
    "</div>"
   ]
  },
  {
   "cell_type": "markdown",
   "metadata": {},
   "source": [
    "*средняя выручка пользователей из Москвы отличается от выручки пользователей из других регионов*\n",
    "\n",
    "Проверим, корректно ли смотреть в целом или только внутри тарифов.\n",
    "\n",
    "Для этого посчитаем распределение по городам и тарифам в процентах"
   ]
  },
  {
   "cell_type": "code",
   "execution_count": null,
   "metadata": {},
   "outputs": [],
   "source": [
    "#Переменная для каунта\n",
    "df_users_join['total'] = 1\n",
    "\n",
    "df_users_join['city_type'] = df_users_join['city'].where(df_users_join[\n",
    "    'city'] == 'Москва', 'Другой город')\n",
    "\n",
    "#табличка\n",
    "table = df_users_join.pivot_table(index=['city_type'], columns=\n",
    "                                  ['tariff'], values='total', aggfunc='count')\n",
    "table = table.reset_index()\n",
    "\n",
    "#суммируем кейсы\n",
    "table.loc[2] = ['base',sum(table['smart']), sum(table['ultra'])]\n",
    "\n",
    "i = 0\n",
    "while i < len(table) - 1:\n",
    "    table.loc[i, ['smart']] = table.loc[i, ['smart']] /table.loc[len(table) - 1, ['smart']]\n",
    "    table.loc[i, ['ultra']] = table.loc[i, ['ultra']] /table.loc[len(table) - 1, ['ultra']]\n",
    "    i = i + 1\n",
    "\n",
    "print(table)"
   ]
  },
  {
   "cell_type": "markdown",
   "metadata": {},
   "source": [
    "Выборка не большая так же как и разница в процентах.\n",
    "\n",
    "Разница не значимая в тарифах.\n",
    "\n",
    "Поэтому можем вместе смотреть.\n",
    "\n",
    "Также посмотрим на средние, чтобы оценить и составить гипотезы."
   ]
  },
  {
   "cell_type": "code",
   "execution_count": null,
   "metadata": {},
   "outputs": [],
   "source": [
    "print(\"Среднее по Москве\",int(df_users_join.query('city == \"Москва\"')['arpu'].mean()), \"р.\")\n",
    "print(\"Среднее по другим городам\",int(df_users_join.query('city != \"Москва\"')['arpu'].mean()), \"р.\")"
   ]
  },
  {
   "cell_type": "markdown",
   "metadata": {},
   "source": [
    "Средние не сильно различаются + у нас выборки не большие. \n",
    "Врятли мы сможем определить различия. <br>Но это не говорит о том, что их нет. Возможно выборки просто не хватает, для их определения.\n",
    "Спускаться до городов тоже нет смысла. Т.к. выборка еще меньше. Хотя можно попробовать СПБ вытащить в карегорию \"Столицы\".\n",
    "\n",
    "* на 99% точно не поймаем разницу, попробуем поймать с вероятностью 95% ( т.е. alpha = .05)\n",
    "* Гитотеза 2 стороняя (средняя выручка пользователей из Москвы не отличается от выручки пользователей из других регионов)"
   ]
  },
  {
   "cell_type": "code",
   "execution_count": null,
   "metadata": {},
   "outputs": [],
   "source": [
    "alpha = .05\n",
    "    \n",
    "results = st.ttest_ind(\n",
    "    df_users_join.query('tariff == \"ultra\" and city == \"Москва\"')['arpu'], \n",
    "    df_users_join.query('tariff == \"ultra\" and city != \"Москва\"')['arpu'])\n",
    "\n",
    "print('p-значение:', results.pvalue)\n",
    "    \n",
    "if (results.pvalue < alpha):\n",
    "    print(\"Отвергаем нулевую гипотезу\")\n",
    "else:\n",
    "    print(\"Не получилось отвергнуть нулевую гипотезу\")\n"
   ]
  },
  {
   "cell_type": "markdown",
   "metadata": {},
   "source": [
    "Гипотезу не получилось опровергнуть.\n",
    "Попробуем соединить с СПБ."
   ]
  },
  {
   "cell_type": "code",
   "execution_count": null,
   "metadata": {},
   "outputs": [],
   "source": [
    "print(\"Среднее по Столицам\",int(df_users_join.query(\n",
    "    'city == \"Москва\" or city == \"Санкт-Петербург\"')['arpu'].mean()), \"р.\")\n",
    "print(\"Среднее по другим городам\",int(df_users_join.query(\n",
    "    'city != \"Москва\" and city != \"Санкт-Петербург\"')['arpu'].mean()), \"р.\")"
   ]
  },
  {
   "cell_type": "markdown",
   "metadata": {},
   "source": [
    "Еще меньше разницы. Дальше копать не будем."
   ]
  },
  {
   "cell_type": "markdown",
   "metadata": {},
   "source": [
    "А если всетаки посмотреть по каждому тарифу?"
   ]
  },
  {
   "cell_type": "code",
   "execution_count": null,
   "metadata": {},
   "outputs": [],
   "source": [
    "alpha = .05\n",
    "    \n",
    "results = st.ttest_ind(\n",
    "    df_users_join.query('tariff == \"ultra\" and city == \"Москва\"')['arpu'], \n",
    "    df_users_join.query('tariff == \"ultra\" and city != \"Москва\"')['arpu'])\n",
    "\n",
    "print('p-значение:', results.pvalue)\n",
    "    \n",
    "if (results.pvalue < alpha):\n",
    "    print(\"Отвергаем нулевую гипотезу\")\n",
    "else:\n",
    "    print(\"Не получилось отвергнуть нулевую гипотезу\")\n"
   ]
  },
  {
   "cell_type": "code",
   "execution_count": null,
   "metadata": {},
   "outputs": [],
   "source": [
    "alpha = .05 \n",
    "\n",
    "results = st.ttest_ind(\n",
    "    df_users_join.query('tariff == \"smart\" and city == \"Москва\"')['arpu'], \n",
    "    df_users_join.query('tariff == \"smart\" and city != \"Москва\"')['arpu'])\n",
    "\n",
    "print('p-значение:', results.pvalue)\n",
    "    \n",
    "if (results.pvalue < alpha):\n",
    "    print(\"Отвергаем нулевую гипотезу\")\n",
    "else:\n",
    "    print(\"Не получилось отвергнуть нулевую гипотезу\")"
   ]
  },
  {
   "cell_type": "markdown",
   "metadata": {},
   "source": [
    "Мы не можем сказать отличается или нет выручка в Москве от Других городов"
   ]
  },
  {
   "cell_type": "markdown",
   "metadata": {},
   "source": [
    "#### Вывод\n",
    "\n",
    "Мы отвергли гипотезу, что средняя выручка тарифа Ultra значимо не отличается от средней выручки тарифа Smart.<br>\n",
    "А также гипотезу, что средняя выручка тарифа Ultra значимо ниже средней выручки тарифа Smart.<br>\n",
    "Следовательно ___средняя выручка из тарифа Ultra, выше средней выборки тарифа Smart___ об этом мы можем говорить с вероятностью 99%.\n",
    "\n",
    "Проверили, что распределение тарифов в Москве против Других городов отличаются не сильно и значит мы можем анализировать данные вместе, без обязательного деления по тарифам.<br>\n",
    "___Гипотезу о том, что  средняя выручка по тарифам в Москве значимо не отличается от средней выручки по тарифам в Других городах опровергнуть не смогли.___<br>\n",
    "Возможно выручка отличается и результат может быть связан с недостаточной выборкой или  средняя выручка значимо не отличается. Точно сказать не возможно."
   ]
  },
  {
   "cell_type": "markdown",
   "metadata": {},
   "source": [
    "<div class=\"alert alert-warning\">\n",
    "<h2> Комментарий наставника</h2>\n",
    "\n",
    "В случае, когда на одних и тех же данных тестируется несколько гипотез (проводится несколько тестов), всегда нужно проводить коррекцию уровня значимости. Один из вариантов это сделать - поправка Бонферрони. Можешь почитать про нее. Это связано с тем, что чем больше ты пытаешься найти значимый эффект, тем больше вероятность его обнаружить просто по чистой случайности. \n",
    "\n",
    "</div>"
   ]
  },
  {
   "cell_type": "markdown",
   "metadata": {},
   "source": [
    "### Какой тариф приносит больше денег?"
   ]
  },
  {
   "cell_type": "markdown",
   "metadata": {},
   "source": [
    "Главный вопрос исследования выяснить какой из тарифов приносит больше денег.<br>\n",
    "Для этого мы сложим Arpu и посмотрим."
   ]
  },
  {
   "cell_type": "code",
   "execution_count": null,
   "metadata": {},
   "outputs": [],
   "source": [
    "ar_table = pd.DataFrame()\n",
    "\n",
    "for k in df_users_join['tariff'].unique():\n",
    "        ar_table.loc[k,'arpu_sum'] = df_users_join[df_users_join[\n",
    "            'tariff'] == k]['arpu'].sum() \n",
    "        ar_table.loc[k,'arpu_sum_ratio'] = df_users_join[df_users_join[\n",
    "            'tariff'] == k]['arpu'].sum() / df_users_join['arpu'].sum()   \n",
    "print(bold(),colored(\"Какой тариф приносит больше денег?\",'blue'), bold_end())\n",
    "print(ar_table)\n",
    "print(\"\\n\")"
   ]
  },
  {
   "cell_type": "markdown",
   "metadata": {},
   "source": [
    "#### Вывод\n",
    "\n",
    "Больше денег в целом приносят пользователи тарифа smart"
   ]
  },
  {
   "cell_type": "markdown",
   "metadata": {},
   "source": [
    "<div class=\"alert alert-success\">\n",
    "<h2> Комментарий наставника</h2>\n",
    "\n",
    "В сумме Смарт приносит больше выручки. Однако в среднем на одного клиента Ультра почти в 2 раза выгоднее для компании. \n",
    "\n",
    "</div>"
   ]
  },
  {
   "cell_type": "markdown",
   "metadata": {},
   "source": [
    "### Шаг 5. Напишите общий вывод"
   ]
  },
  {
   "cell_type": "code",
   "execution_count": 3,
   "metadata": {},
   "outputs": [
    {
     "ename": "NameError",
     "evalue": "name 'df_users_join' is not defined",
     "output_type": "error",
     "traceback": [
      "\u001b[0;31m---------------------------------------------------------------------------\u001b[0m",
      "\u001b[0;31mNameError\u001b[0m                                 Traceback (most recent call last)",
      "\u001b[0;32m<ipython-input-3-e2179fa59a13>\u001b[0m in \u001b[0;36m<module>\u001b[0;34m\u001b[0m\n\u001b[1;32m      1\u001b[0m \u001b[0;31m#Код для подготовки граффиков в выводы\u001b[0m\u001b[0;34m\u001b[0m\u001b[0;34m\u001b[0m\u001b[0;34m\u001b[0m\u001b[0m\n\u001b[1;32m      2\u001b[0m \u001b[0;31m#город\u001b[0m\u001b[0;34m\u001b[0m\u001b[0;34m\u001b[0m\u001b[0;34m\u001b[0m\u001b[0m\n\u001b[0;32m----> 3\u001b[0;31m df_users_join['city_type'] = df_users_join['city'].where(((df_users_join[\n\u001b[0m\u001b[1;32m      4\u001b[0m     'city'] == 'Санкт-Петербург') | (df_users_join['city'] == 'Москва')), 'Другой город')\n\u001b[1;32m      5\u001b[0m \u001b[0;34m\u001b[0m\u001b[0m\n",
      "\u001b[0;31mNameError\u001b[0m: name 'df_users_join' is not defined"
     ]
    }
   ],
   "source": [
    "#Код для подготовки граффиков в выводы\n",
    "#город\n",
    "df_users_join['city_type'] = df_users_join['city'].where(((df_users_join[\n",
    "    'city'] == 'Санкт-Петербург') | (df_users_join['city'] == 'Москва')), 'Другой город')\n",
    "\n",
    "def where_city():\n",
    "    i_table = pd.DataFrame()\n",
    "    for k in df_users_join['city_type'].unique():\n",
    "        i_table.loc[k,'ratio'] = df_users_join[df_users_join['city_type'] == k][\n",
    "            'city_type'].count() / df_users_join['city_type'].count()\n",
    "    i_table.plot(y = \"ratio\", kind = \"pie\")\n",
    "    plt.title(\"Откуда пользователи?\", fontsize=15)\n",
    "    plt.xlabel(\" \")\n",
    "    plt.ylabel(\" \")\n",
    "    x1 = i_table.loc[['Другой город'],['ratio']].values\n",
    "    x2 = i_table.loc[['Москва'],['ratio']].values\n",
    "    x3 = i_table.loc[['Санкт-Петербург'],['ratio']].values\n",
    "    plt.text(-0.5,0.2, (str(int(np.round(x1*100,0)))+\"%\"), fontdict={'size':16}, color='white')\n",
    "    plt.text(0.15,-0.6, (str(int(np.round(x2*100,0)))+\"%\"), fontdict={'size':16}, color='white')\n",
    "    plt.text(0.5,-0.2, (str(int(np.round(x3*100,0)))+\"%\"), fontdict={'size':16}, color='white')\n",
    "    plt.legend('')\n",
    "    plt.show()"
   ]
  },
  {
   "cell_type": "code",
   "execution_count": null,
   "metadata": {},
   "outputs": [],
   "source": [
    "# Сгруппирую переменную age_group\n",
    "def age_group(row):\n",
    "        age = row['age']\n",
    "        if age < 26 and age >= 17:\n",
    "            return '18 -  26 лет'\n",
    "        if age < 36 and age >= 26:\n",
    "            return '26 - 35 лет'\n",
    "        if age < 46 and age >= 36:\n",
    "            return '36 - 46 лет'\n",
    "        if age < 56 and age >= 46:\n",
    "            return '46 - 56 лет'\n",
    "        if age < 66 and age >= 56:\n",
    "            return '56 - 66 лет'\n",
    "        if age < 76 and age >= 66:\n",
    "            return '66 - 76 лет'\n",
    "        if age >= 76 :\n",
    "            return 'Более 75 лет'\n",
    "        else:\n",
    "            return 'Ошибка'\n",
    "\n",
    "df_users_join['age_group'] = df_users_join.apply(age_group, axis=1)\n",
    "pivot = df_users_join.pivot_table(index=['age_group'], values='total', aggfunc='count')\n",
    "pivot = pivot.reset_index()\n",
    "\n",
    "pivot['total'] = pivot['total']/500\n",
    "\n",
    "def what_age():\n",
    "    pivot.plot(x='age_group', y= 'total',  kind = 'bar' , color =  \"y\" , alpha=0.5,)\n",
    "    plt.title(\"Возрастные группы\", fontsize=15)\n",
    "    plt.xlabel(\" \")\n",
    "    plt.ylabel(\" \")\n",
    "    x1 = pivot.loc[2:2,['total']].values\n",
    "    x2 = pivot.loc[0:0,['total']].values\n",
    "    plt.text(-0.25,0.14, (str(int(np.round(x2*100,0)))+\"%\"), fontdict={'size':16}, color='red')\n",
    "    plt.text(1.71,0.21, (str(int(np.round(x1*100,0)))+\"%\"), fontdict={'size':16}, color='green')\n",
    "    plt.legend('')\n",
    "    plt.ylim((min(pivot['total']) - (np.std(pivot['total'])*2 )), \n",
    "             (max(pivot['total']) + (np.std(pivot['total'])*2 )))\n",
    "    plt.show()"
   ]
  },
  {
   "cell_type": "code",
   "execution_count": null,
   "metadata": {},
   "outputs": [],
   "source": [
    "#тарифы в долях\n",
    "def what_tariff():\n",
    "    i_table = pd.DataFrame()\n",
    "    for k in df_users_join['tariff'].unique():\n",
    "        i_table.loc[k,'ratio'] = df_users_join[df_users_join['tariff'] == k][\n",
    "            'tariff'].count() / df_users_join['tariff'].count()\n",
    "    i_table.plot(y = \"ratio\", kind = \"pie\")\n",
    "    x1 = i_table.loc[['smart'],['ratio']].values\n",
    "    x2 = i_table.loc[['ultra'],['ratio']].values\n",
    "    plt.title(\"Каким тарифом больше пользуются? \", fontsize=15)\n",
    "    plt.xlabel(\" \")\n",
    "    plt.ylabel(\" \")\n",
    "    plt.text(0.2,0.4, (str(int(np.round(x2*100,0)))+\"%\"), fontdict={'size':16}, color='white')\n",
    "    plt.text(-0.5,-0.4, (str(int(np.round(x1*100,0)))+\"%\"), fontdict={'size':16}, color='white')\n",
    "    plt.legend('')\n",
    "    plt.show()"
   ]
  },
  {
   "cell_type": "code",
   "execution_count": null,
   "metadata": {},
   "outputs": [],
   "source": [
    "def mean_round():\n",
    "    i_table = pd.DataFrame()\n",
    "    for i in [\"calls_min\",\"session_mb\",\"message_count\"]:\n",
    "        for k in df_users_join['tariff'].unique():\n",
    "            i_table.loc[i,k] = round(df_users_join[df_users_join['tariff'] == k][i].mean(),-1)\n",
    "    print(bold(), \"Необходимое количество для клиентов \\n (Среднее значение)\", bold_end())\n",
    "    print(i_table)"
   ]
  },
  {
   "cell_type": "code",
   "execution_count": null,
   "metadata": {},
   "outputs": [],
   "source": [
    "#Хватает ли услуг\n",
    "def enough():\n",
    "    k_table = pd.DataFrame()\n",
    "    for k in df_users_join['tariff'].unique():\n",
    "        k_table.loc[\"minutes\",k] =   round(df_users_join[df_users_join['tariff'] == k][\n",
    "            'calls_min'].mean(),-1) / df_users_join[df_users_join['tariff'] == k][\n",
    "            'minutes_included'].mean()\n",
    "        k_table.loc[\"megabytes\",k] =  round(df_users_join[df_users_join['tariff'] == k][\n",
    "            'session_mb'].mean(),-1) / df_users_join[df_users_join['tariff'] == k][\n",
    "            'mb_per_month_included'].mean() \n",
    "        k_table.loc[\"messages\",k] = round(df_users_join[df_users_join['tariff'] == k][\n",
    "            'message_count'].mean(),-1) / df_users_join[df_users_join['tariff'] == k][\n",
    "            'messages_included'].mean()  \n",
    "    print(bold(), \"Доля использованных услуг относительно обьема услуг, входящих в АП\\n Лишние/Недостающие услуги\", bold_end())\n",
    "    sns.heatmap(k_table, xticklabels=k_table.columns, yticklabels=k_table.index,\n",
    "                center=0, annot=True, vmin=0, vmax=1.2 )\n",
    "    plt.show()"
   ]
  },
  {
   "cell_type": "code",
   "execution_count": null,
   "metadata": {
    "scrolled": true
   },
   "outputs": [],
   "source": [
    "#табличка о плате тарифа\n",
    "\n",
    "def pay():\n",
    "    z_table = pd.DataFrame()\n",
    "    r_table = pd.DataFrame()\n",
    "    for i in [\"rub_monthly_fee\", 'arpu']:\n",
    "        for k in df_users_join['tariff'].unique():\n",
    "            z_table.loc[i,k] = df_users_join[df_users_join['tariff'] == k][i].mean()\n",
    "    for k in df_users_join['tariff'].unique():\n",
    "        r_table.loc['ratio',k] = df_users_join[df_users_join['tariff'] == k][\n",
    "            'arpu'].mean() / df_users_join[df_users_join['tariff'] == k]['rub_monthly_fee'].mean()\n",
    "    print(bold(),\"Оплата тарифа\", bold_end())\n",
    "    print(z_table)\n",
    "    sns.heatmap(r_table, xticklabels=r_table.columns, yticklabels=r_table.index,\n",
    "            center=0, annot=True, vmin=1, vmax=3 )\n",
    "    plt.show()\n",
    "    "
   ]
  },
  {
   "cell_type": "code",
   "execution_count": null,
   "metadata": {},
   "outputs": [],
   "source": [
    "#количество денег\n",
    "def more_money():\n",
    "    ar_table.plot(y = \"arpu_sum_ratio\", kind = \"pie\")\n",
    "    x1 = ar_table.loc[['smart'],['arpu_sum_ratio']].values\n",
    "    x2 = ar_table.loc[['ultra'],['arpu_sum_ratio']].values\n",
    "    plt.title(\"Какой тариф приносит больше денег? \", fontsize=15)\n",
    "    plt.xlabel(\" \")\n",
    "    plt.ylabel(\" \")\n",
    "    plt.text(0.2,0.4, (str(int(np.round(x2*100,0)))+\"%\"), fontdict={'size':16}, color='white')\n",
    "    plt.text(-0.5,-0.4, (str(int(np.round(x1*100,0)))+\"%\"), fontdict={'size':16}, color='white')\n",
    "    plt.legend('')\n",
    "    plt.show()"
   ]
  },
  {
   "cell_type": "markdown",
   "metadata": {},
   "source": [
    "## Вывод"
   ]
  },
  {
   "cell_type": "markdown",
   "metadata": {},
   "source": [
    "## Что поменяли или добавили в базу ? \n",
    "\n",
    "* В базах звонков и соединений с интернетом в переменных обозначающих количество минут и МБ удалили нулевые значения.\n",
    "* При подсчете в тарифе идет округление вверх до минут и МБ соответственно. Округлили в базах аналогично.\n",
    "\n",
    "### В базу клиентов добавлены новые переменные:\n",
    "\n",
    "* Информация о месяце подключения и отключения от тарифа - *reg_month, churn_month*\n",
    "<br>\n",
    "\n",
    "* Информация о тарифах - *messages_included, mb_per_month_included, minutes_included, rub_monthly_fee, rub_per_gb, rub_per_message, rub_per_minute*\n",
    "<br>\n",
    "\n",
    "* Количество сделанных звонков по месяцам - *calls_count_month_1-12* \n",
    "* Количество израсходованных минут разговора по месяцам - *calls_min_month_1-12* \n",
    "* Количество отправленных сообщений по месяцам - *message_count_month_1-12* \n",
    "* Объем израсходованного интернет-трафика по месяцам - *session_mb_month_1-12* \n",
    "* Помесячную выручку с каждого пользователя. Рассчитали (с учетом, что что не все клиенты были подключены к тарифу в течении всего года). - *arpu_month_1-12* \n",
    "\n",
    "\n",
    "__Также данные показатели рассчитаны средний показатель по месяцам, за в те месяцы, когда клиент был подключен к тарифу__ * (calls_min,calls_count,session_mb, message_count, arpu)*"
   ]
  },
  {
   "cell_type": "markdown",
   "metadata": {},
   "source": [
    "###  Поведение клиентов оператора"
   ]
  },
  {
   "cell_type": "code",
   "execution_count": null,
   "metadata": {},
   "outputs": [],
   "source": [
    "where_city()"
   ]
  },
  {
   "cell_type": "markdown",
   "metadata": {},
   "source": [
    "* 1 из 5 клиентов из Москвы\n",
    "* 1 из 10 - из Санкт-Петербурга"
   ]
  },
  {
   "cell_type": "code",
   "execution_count": null,
   "metadata": {},
   "outputs": [],
   "source": [
    "what_age()"
   ]
  },
  {
   "cell_type": "markdown",
   "metadata": {},
   "source": [
    "___В базе представлены клиенты от 18 до 75 лет.___\n",
    "* Наиболее наполнена группа - 36 - 46 лет\n",
    "* Наименее - молодеж (до 26 лет)"
   ]
  },
  {
   "cell_type": "code",
   "execution_count": null,
   "metadata": {},
   "outputs": [],
   "source": [
    "what_tariff()"
   ]
  },
  {
   "cell_type": "markdown",
   "metadata": {},
   "source": [
    "* Две трети пользователей подключены к тарифу smart\n",
    "* Только одна треть к тарифу ultra"
   ]
  },
  {
   "cell_type": "markdown",
   "metadata": {},
   "source": [
    "###  Как используют?"
   ]
  },
  {
   "cell_type": "code",
   "execution_count": null,
   "metadata": {},
   "outputs": [],
   "source": [
    "print(bold(),colored(\"Справочная информация по тарифам\",'green'), bold_end())\n",
    "info_table"
   ]
  },
  {
   "cell_type": "code",
   "execution_count": null,
   "metadata": {},
   "outputs": [],
   "source": [
    "mean_round()"
   ]
  },
  {
   "cell_type": "markdown",
   "metadata": {},
   "source": [
    "__Тариф ultra__\n",
    "* Клиенты в среднем используют до 520 минут разговора в месяц \n",
    "* Около 2 ГБ интернет-трафика\n",
    "* Отсылают около 50 сообщений в месяц\n",
    "\n",
    "__Тариф  smart__\n",
    "* Клиенты в среднем используют до 420 минут разговора в месяц \n",
    "* Около 1.6 ГБ интернета\n",
    "* Отсылают около 30 сообщений в месяц\n",
    "\n",
    "__Пользователи тарифа Ultra больше разговаривают по телефону, чем клиенты Smart. В среднем на 100 минут.__\n",
    "__Клиенты Ultra используют интернет более активно.(+ 0,3 ГБ)__<br>\n",
    "__Сообщения наименее популярная услуга. В среднем клиенты Ultra больше посылают сообщений (на 20 штук).__\n",
    "\n",
    "### Хватает ли клиентам ?"
   ]
  },
  {
   "cell_type": "code",
   "execution_count": null,
   "metadata": {},
   "outputs": [],
   "source": [
    "enough()"
   ]
  },
  {
   "cell_type": "markdown",
   "metadata": {},
   "source": [
    "* Клиенты ultra используют менее 20% от объема включенных минут и сообщений. \n",
    "* Клиенты smart используют практически весь запас минут для разговора и более половины обьема сообщений.\n",
    "Обычно клиенты выходят за рамки Гб включенных в АП.\n",
    "\n",
    "\n",
    "__Наиболее активно на обоих тарифах используют пакеты  интернета.__<br>\n",
    "Вероятно, обьем интернета - одна из наиболее важных критериев при принятии решения о тарифе.<br>\n",
    "__В рекламном сообщении рекомендуется сделать акцент на обьем интернет пакетов включенных в тариф.__"
   ]
  },
  {
   "cell_type": "markdown",
   "metadata": {},
   "source": [
    "### ARPU и Какой тариф приносит больше денег?"
   ]
  },
  {
   "cell_type": "code",
   "execution_count": null,
   "metadata": {},
   "outputs": [],
   "source": [
    "pay()"
   ]
  },
  {
   "cell_type": "markdown",
   "metadata": {},
   "source": [
    "__Пользователи тарифа Ultra больше платят в месяц, чем клиенты Smart. Это обоснованно в первую очередь различным минимумом оплаты в месяц - абонентской платой.__\n",
    "* Пользователи тарифа Ultra в подавляющем случае не платят сверх АП. Переплаты скорее всего связанны с закупкой ГБ сверх тарифа.\n",
    "\n",
    "* Среднее arpu клиентов Smart сильно выше АП в 550 рублей. В среднем они платят в 2.4 раза больше АП. "
   ]
  },
  {
   "cell_type": "code",
   "execution_count": null,
   "metadata": {},
   "outputs": [],
   "source": [
    "more_money()"
   ]
  },
  {
   "cell_type": "markdown",
   "metadata": {},
   "source": [
    "____Пользователи тарифа smart приносят больше прибыли, чем пользователи тарифа ultra____\n",
    "\n",
    "При этом необходимо учитывать, что в среднем пользователь smart приносит значимо меньшую больше, чем пользователь ultra. <br>\n",
    "И разница в выручке связанна с тем, что большинство (70%) пользователей подключены к \"более дешевому\" тарифу smart.\n"
   ]
  },
  {
   "cell_type": "markdown",
   "metadata": {},
   "source": [
    " <div class=\"alert alert-success\">\n",
    "<h2> Комментарий наставника</h2>\n",
    "\n",
    "Выводы описаны грамотно, а сделаны довольно нетривиально. Приведены ответы на главные вопросы проекта. В выводах можно приводить полученные ранее значения. Здорово, что по каждому пункту работы дан комментарий. Еще лучше будет, если приведешь рекомендации для компании по дальнейшим действиям. \n",
    "\n",
    "</div>"
   ]
  },
  {
   "cell_type": "markdown",
   "metadata": {},
   "source": [
    "<div class=\"alert alert-success\">\n",
    "<h2> Комментарий наставника</h2>\n",
    "\n",
    "Если тебе нравится тема визуализации, то можешь изучить методы библиотеки plotly. Она позволяет строить довольно презентабельные графики. Ссылку на один из графиков привел в работе. \n",
    "\n",
    "Ты проделала большую работу, молодец! Критических замечаний нет. Одним из самых значимых желтых комментариев является комментарий про изменение структуры таблицы. При наличии времени просто попробуй ее реализовать и пойми, чем она будет отличаться от используемой тобой структуры. Переделывать не заставляю, т.к. ошибок твой способ не вызвал, однако иная структра таблицы позволит использовать меньше кода, а значит больше сосредоточиться на самих данных и выводах. В остальном работа сделана здорово. По каждому пункту есть комментарии. Продолжай в том же духе :)\n",
    "\n",
    "</div>"
   ]
  },
  {
   "cell_type": "code",
   "execution_count": null,
   "metadata": {},
   "outputs": [],
   "source": []
  }
 ],
 "metadata": {
  "kernelspec": {
   "display_name": "Python 3",
   "language": "python",
   "name": "python3"
  },
  "language_info": {
   "codemirror_mode": {
    "name": "ipython",
    "version": 3
   },
   "file_extension": ".py",
   "mimetype": "text/x-python",
   "name": "python",
   "nbconvert_exporter": "python",
   "pygments_lexer": "ipython3",
   "version": "3.7.6"
  },
  "toc": {
   "base_numbering": 1,
   "nav_menu": {},
   "number_sections": true,
   "sideBar": true,
   "skip_h1_title": false,
   "title_cell": "Table of Contents",
   "title_sidebar": "Contents",
   "toc_cell": false,
   "toc_position": {},
   "toc_section_display": true,
   "toc_window_display": false
  }
 },
 "nbformat": 4,
 "nbformat_minor": 2
}
